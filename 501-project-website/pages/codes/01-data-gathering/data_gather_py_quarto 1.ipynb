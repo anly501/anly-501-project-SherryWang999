{
  "cells": [
    {
      "cell_type": "markdown",
      "metadata": {},
      "source": [
        "# Text Data Gathering and cleaning by Python\n",
        "\n",
        "## Introduction\n",
        "\n",
        "In this part, I used Twitter api and tweepy to collect tweets text data. Then I used a pipeline to clean the text data set. In the pipeline, I used regular expressions to match the words and removed stop words. Then I plot a wordcloud to show the keywords of my data. Next I did the sensitive analysis to add a label for the data for further model input. And finally save the data into a csv file for further analysis.\n",
        "\n",
        "## Theory\n",
        "\n",
        "**Twitter api**\n",
        "\n",
        "The Twitter API is a set of programmatic endpoints that can be used to understand or build the conversation on Twitter. This API allows you to find and retrieve, engage with, or create a variety of different resources including the following: Tweets. Users.\n",
        "\n",
        "**tweepy**\n",
        "\n",
        "Tweepy is an open source Python package that gives you a very convenient way to access the Twitter API with Python. Tweepy includes a set of classes and methods that represent Twitter's models and API endpoints, and it transparently handles various implementation details, such as: Data encoding and decoding.\n",
        "\n",
        "**Stop words**\n",
        "\n",
        "You should remove these tokens only if they don't add any new information for your problem. Classification problems normally don't need stop words because it's possible to talk about the general idea of a text even if you remove stop words from it.\n",
        "\n",
        "**wordcloud**\n",
        "\n",
        "Word clouds or tag clouds are graphical representations of word frequency that give greater prominence to words that appear more frequently in a source text. The larger the word in the visual the more common the word was in the document(s).\n",
        "\n",
        "**Sensitive Analysis**\n",
        "\n",
        "Sensitivity Analysis is a tool used in financial modeling to analyze how the different values of a set of independent variables affect a specific dependent variable under certain specific conditions.\n",
        "\n",
        "## Methods\n"
      ],
      "id": "49c8f285"
    },
    {
      "cell_type": "code",
      "metadata": {},
      "source": [
        "import pandas as pd\n",
        "import os\n",
        "import time\n",
        "import requests\n",
        "import json\n",
        "import csv\n",
        "from tqdm import tqdm\n",
        "\n",
        "import tweepy\n",
        "\n",
        "import requests\n",
        "import pandas as pd\n",
        "import os"
      ],
      "id": "0292f2c5",
      "execution_count": null,
      "outputs": []
    },
    {
      "cell_type": "code",
      "metadata": {},
      "source": [
        "consumer_key = \"inZ89PddRMaRQwE6GVqA3Q41O\"\n",
        "consumer_secret = \"9MXxneTgvjgNxLgRWwZDto5SkadnHw5JkFcGKuRPqwMHU61ZMM\"\n",
        "access_token = \"1555013004927705088-42uhpeSplVieHyeh7iWAm5Tk7uRu5G\"\n",
        "access_token_secret = \"jERIeAGcoKGEju47LndLdypLBkxwzRzdtMHqDcs4cTO24\"\n",
        "bearer_token = \"AAAAAAAAAAAAAAAAAAAAAHxTfgEAAAAAFoqGo6ZQ%2BYdXOC8pDIvIgRX0jJM%3DCnfeZi86Klf8HPAGUap5AoUjQN754ki2jjomd4ZhTLtcwGpg6q\""
      ],
      "id": "7dd4cea7",
      "execution_count": null,
      "outputs": []
    },
    {
      "cell_type": "code",
      "metadata": {},
      "source": [
        "query = \"credit\"\n",
        "client = tweepy.Client(bearer_token= bearer_token)\n",
        "tweets = tweepy.Paginator(client.search_recent_tweets, query = query, tweet_fields = ['text','author_id','created_at','lang'], max_results = 100).flatten(limit=250)\n",
        "result = [[tweet.text, tweet.author_id,tweet.created_at,tweet.lang] for tweet in tweets]"
      ],
      "id": "897c8e38",
      "execution_count": null,
      "outputs": []
    },
    {
      "cell_type": "code",
      "metadata": {},
      "source": [
        "text = [x[0] for x in result]\n",
        "len(text)"
      ],
      "id": "31b5a1ad",
      "execution_count": null,
      "outputs": []
    },
    {
      "cell_type": "code",
      "metadata": {},
      "source": [
        "import re\n",
        "from tqdm import tqdm\n",
        "from typing import List\n",
        "\n",
        "import spacy\n",
        "from spacy.language import Language\n",
        "\n",
        "pipeline_name = '2020ElectionTweets'\n",
        "\n",
        "\n",
        "def camel_case_split(str):\n",
        "    \"\"\" This function turns in #Biden2020 into Biden 2020 \"\"\"\n",
        "    return \" \".join([wrd for wrd in re.findall(r'[A-Z](?:[a-z]+|[A-Z]*(?=[A-Z]|$))', str)])\n",
        "\n",
        "\n",
        "@Language.component(pipeline_name)\n",
        "def preprocess(doc):\n",
        "    doc = [token for token in doc if not token.is_punct]\n",
        "    # doc = [token for token in doc if not token.is_stop]\n",
        "    doc = [token.text.lower().strip() for token in doc]\n",
        "    doc = [token for token in doc if 0 < len(token) <= 12]\n",
        "    return \" \".join(doc)\n",
        "\n",
        "\n",
        "class Pipeline:\n",
        "    \n",
        "    \n",
        "    email_re = r\"\"\"(?:[a-z0-9!#$%&'*+/=?^_`{|}~-]+(?:\\.[a-z0-9!#$%&'*+/=?^_`{|}~-]+)\n",
        "    *|\"(?:[\\x01-\\x08\\x0b\\x0c\\x0e-\\x1f\\x21\\x23-\\x5b\\x5d-\\x7f]\n",
        "    |\\\\[\\x01-\\x09\\x0b\\x0c\\x0e-\\x7f])*\")@(?:(?:[a-z0-9](?:[a-z0-9-]*[a-z0-9])?\\.)+[a-z0-9]\n",
        "    (?:[a-z0-9-]*[a-z0-9])?|\\[(?:(?:25[0-5]|2[0-4][0-9]|[01]?[0-9][0-9]?)\\.){3}\n",
        "    (?:25[0-5]|2[0-4][0-9]|[01]?[0-9][0-9]?|[a-z0-9-]*[a-z0-9]:\n",
        "    (?:[\\x01-\\x08\\x0b\\x0c\\x0e-\\x1f\\x21-\\x5a\\x53-\\x7f]|\\\\[\\x01-\\x09\\x0b\\x0c\\x0e-\\x7f])+)\\])\"\"\"\n",
        "    # replace = [ (pattern-to-replace, replacement),  ...]\n",
        "    replace = [\n",
        "        (\"<[^>]*>\", \" \"),\n",
        "        (email_re, \" \"),                           # Matches emails\n",
        "        (r\"(?<=\\d),(?=\\d)\", \"\"),                   # Remove commas in numbers\n",
        "        (r\"\\d+\", \" \"),                             # Map digits to special token <numbr>\n",
        "        (r\"[*\\^\\.$&@<>,\\-/+{|}=?#:;'\\\"\\[\\]]\", \"\"), # Punctuation and other junk\n",
        "        (r\"[\\n\\t\\r]\", \" \"),                        # Removes newlines, tabs, creturn\n",
        "        (r\"[^\\x00-\\x7F]+\", \"\"),                    # Removes non-ascii chars\n",
        "        (r\"\\\\+\", \" \"),                             # Removes double-backslashs\n",
        "        (r\"\\s+n\\s+\", \" \"),                         # 'n' leftover from \\\\n\n",
        "        (r\"\\s+\", \" \")                              # Strips extra whitespace\n",
        "    ]\n",
        "    \n",
        "    def __init__(self):\n",
        "        self.pipeline = spacy.load('en_core_web_sm')\n",
        "        self.pipeline.add_pipe(pipeline_name);\n",
        "        \n",
        "    def __call__(self, *args, **kwargs):\n",
        "        return self.transform(*args, **kwargs)\n",
        "\n",
        "    def transform(self, doc: str):\n",
        "        for repl in self.replace:\n",
        "            doc = re.sub(repl[0], repl[1], doc)\n",
        "        doc = camel_case_split(doc)\n",
        "        return self.pipeline(doc)\n",
        "    \n",
        "pipeline = Pipeline();"
      ],
      "id": "7fd280c0",
      "execution_count": null,
      "outputs": []
    },
    {
      "cell_type": "code",
      "metadata": {},
      "source": [
        "from tqdm import tqdm\n",
        "\n",
        "with tqdm(total=250) as bar:\n",
        "    for i, ts in enumerate(zip(text)):\n",
        "        text[i] = pipeline(str(ts))\n",
        "        bar.update()"
      ],
      "id": "c2a002dd",
      "execution_count": null,
      "outputs": []
    },
    {
      "cell_type": "code",
      "metadata": {},
      "source": [
        "import matplotlib.pyplot as plt\n",
        "from wordcloud import WordCloud\n",
        "wordcloud = WordCloud().generate(str(text))\n",
        "plt.imshow(wordcloud, interpolation='bilinear')\n",
        "plt.axis('off')\n",
        "plt.show()"
      ],
      "id": "7ed75c5b",
      "execution_count": null,
      "outputs": []
    },
    {
      "cell_type": "markdown",
      "metadata": {},
      "source": [
        "Convert it into a data frame.\n"
      ],
      "id": "2aa115a7"
    },
    {
      "cell_type": "code",
      "metadata": {},
      "source": [
        "txt = pd.DataFrame(text)\n",
        "txt.columns = ['text']"
      ],
      "id": "44fe98b6",
      "execution_count": null,
      "outputs": []
    },
    {
      "cell_type": "code",
      "metadata": {},
      "source": [
        "Use nltk tool to add label for each text data, including positive, negative and neutral sentiments."
      ],
      "id": "614aaf13",
      "execution_count": null,
      "outputs": []
    },
    {
      "cell_type": "code",
      "metadata": {},
      "source": [
        "import nltk\n",
        "from nltk.sentiment.vader import SentimentIntensityAnalyzer\n",
        "nltk.download(\"vader_lexicon\")"
      ],
      "id": "cb7b63b6",
      "execution_count": null,
      "outputs": []
    },
    {
      "cell_type": "code",
      "metadata": {},
      "source": [
        "sentiments = SentimentIntensityAnalyzer()\n",
        "txt[\"Positive\"] = [sentiments.polarity_scores(i)[\"pos\"] for i in txt[\"text\"]]\n",
        "txt[\"Negative\"] = [sentiments.polarity_scores(i)[\"neg\"] for i in txt[\"text\"]]\n",
        "txt[\"Neutral\"] = [sentiments.polarity_scores(i)[\"neu\"] for i in txt[\"text\"]]\n",
        "txt['Compound'] = [sentiments.polarity_scores(i)[\"compound\"] for i in txt[\"text\"]]\n",
        "txt.head()"
      ],
      "id": "8cf8028e",
      "execution_count": null,
      "outputs": []
    },
    {
      "cell_type": "code",
      "metadata": {},
      "source": [
        "score = txt[\"Compound\"].values\n",
        "sentiment = []\n",
        "for i in score:\n",
        "    if i >= 0.05 :\n",
        "        sentiment.append('Positive')\n",
        "    elif i <= -0.05 :\n",
        "        sentiment.append('Negative')\n",
        "    else:\n",
        "        sentiment.append('Neutral')\n",
        "txt[\"Sentiment\"] = sentiment\n",
        "txt.head()"
      ],
      "id": "c65fce38",
      "execution_count": null,
      "outputs": []
    },
    {
      "cell_type": "code",
      "metadata": {},
      "source": [
        "print(txt[\"Sentiment\"].value_counts())"
      ],
      "id": "4ecb2338",
      "execution_count": null,
      "outputs": []
    },
    {
      "cell_type": "code",
      "metadata": {},
      "source": [
        "txt[\"sentiment\"] = txt[\"Sentiment\"].map({\"Neutral\": 0, \"Positive\": 1, \"Negative\": 2})\n",
        "txt.head()"
      ],
      "id": "9f762b5b",
      "execution_count": null,
      "outputs": []
    }
  ],
  "metadata": {
    "kernelspec": {
      "name": "python3",
      "language": "python",
      "display_name": "Python 3 (ipykernel)"
    }
  },
  "nbformat": 4,
  "nbformat_minor": 5
}