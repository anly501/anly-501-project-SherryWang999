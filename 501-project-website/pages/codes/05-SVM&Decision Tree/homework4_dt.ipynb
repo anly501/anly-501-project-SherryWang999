{
 "cells": [
  {
   "cell_type": "markdown",
   "metadata": {},
   "source": [
    "# Classify record data by Decision Tree "
   ]
  },
  {
   "cell_type": "markdown",
   "metadata": {},
   "source": [
    "## Introduction\n",
    "\n",
    "A decision tree is a decision support tool that uses a tree-like model of decisions and their possible consequences, including chance event outcomes, resource costs, and utility. It is one way to display an algorithm that only contains conditional control statements.\n",
    "\n",
    "In this document, I use the decision tree classification algorithm in scikit-learn to classify my cleaned record data. To improve the accuracy of the classifier, I also perform parameter selection to improve the performance of the model by reducing the number of parameters and eliminating some parameters that are not highly relevant. Next, I debug the parameters of the model through a series of methods to find the most suitable hyperparameters for the model, and train the optimal model to arrive at the final classifier.\n",
    "\n",
    "The dataset used is a cleaned credit score dataset. The reason for using decision trees for this dataset is that I tried this dataset with two methods (decision trees and SVM) before formally completing this document, and the classification results of SVM were very poor and unsatisfactory, so I decided to use decision tree classification for this dataset."
   ]
  },
  {
   "cell_type": "markdown",
   "metadata": {},
   "source": [
    "## Theory\n",
    "\n",
    "A decision tree is a flowchart-like tree structure where an internal node represents feature(or attribute), the branch represents a decision rule, and each leaf node represents the outcome. The topmost node in a decision tree is known as the root node. It learns to partition on the basis of the attribute value. It partitions the tree in recursively manner call recursive partitioning. This flowchart-like structure helps you in decision making. It's visualization like a flowchart diagram which easily mimics the human level thinking. That is why decision trees are easy to understand and interpret.\n",
    "\n",
    "![](dt.png)\n",
    "\n",
    "Decision Tree is a white box type of ML algorithm. It shares internal decision-making logic, which is not available in the black box type of algorithms such as Neural Network. Its training time is faster compared to the neural network algorithm. The time complexity of decision trees is a function of the number of records and number of attributes in the given data. The decision tree is a distribution-free or non-parametric method, which does not depend upon probability distribution assumptions. Decision trees can handle high dimensional data with good accuracy.\n",
    "\n",
    "The basic idea behind any decision tree algorithm is as follows:\n",
    "\n",
    "* Select the best attribute using Attribute Selection Measures(ASM) to split the records.\n",
    "* Make that attribute a decision node and breaks the dataset into smaller subsets.\n",
    "* Starts tree building by repeating this process recursively for each child until one of the condition will match:\n",
    "    * All the tuples belong to the same attribute value.\n",
    "    * here are no more remaining attributes.\n",
    "    * There are no more instances."
   ]
  },
  {
   "cell_type": "markdown",
   "metadata": {},
   "source": [
    "## Methods"
   ]
  },
  {
   "cell_type": "code",
   "execution_count": 2,
   "metadata": {},
   "outputs": [],
   "source": [
    "import pandas as pd"
   ]
  },
  {
   "cell_type": "code",
   "execution_count": 3,
   "metadata": {},
   "outputs": [
    {
     "data": {
      "text/html": [
       "<div>\n",
       "<style scoped>\n",
       "    .dataframe tbody tr th:only-of-type {\n",
       "        vertical-align: middle;\n",
       "    }\n",
       "\n",
       "    .dataframe tbody tr th {\n",
       "        vertical-align: top;\n",
       "    }\n",
       "\n",
       "    .dataframe thead th {\n",
       "        text-align: right;\n",
       "    }\n",
       "</style>\n",
       "<table border=\"1\" class=\"dataframe\">\n",
       "  <thead>\n",
       "    <tr style=\"text-align: right;\">\n",
       "      <th></th>\n",
       "      <th>Unnamed: 0</th>\n",
       "      <th>Credit_Mix</th>\n",
       "      <th>Payment_of_Min_Amount</th>\n",
       "      <th>Credit_Score</th>\n",
       "      <th>Age</th>\n",
       "      <th>Annual_Income</th>\n",
       "      <th>Monthly_Inhand_Salary</th>\n",
       "      <th>Num_Bank_Accounts</th>\n",
       "      <th>Num_Credit_Card</th>\n",
       "      <th>Interest_Rate</th>\n",
       "      <th>...</th>\n",
       "      <th>Occupation_Musician</th>\n",
       "      <th>Occupation_Scientist</th>\n",
       "      <th>Occupation_Teacher</th>\n",
       "      <th>Occupation_Writer</th>\n",
       "      <th>Payment_Behaviour_High_spent_Large_value_payments</th>\n",
       "      <th>Payment_Behaviour_High_spent_Medium_value_payments</th>\n",
       "      <th>Payment_Behaviour_High_spent_Small_value_payments</th>\n",
       "      <th>Payment_Behaviour_Low_spent_Large_value_payments</th>\n",
       "      <th>Payment_Behaviour_Low_spent_Medium_value_payments</th>\n",
       "      <th>Payment_Behaviour_Low_spent_Small_value_payments</th>\n",
       "    </tr>\n",
       "  </thead>\n",
       "  <tbody>\n",
       "    <tr>\n",
       "      <th>0</th>\n",
       "      <td>0</td>\n",
       "      <td>2</td>\n",
       "      <td>0</td>\n",
       "      <td>2</td>\n",
       "      <td>-0.529412</td>\n",
       "      <td>-0.336516</td>\n",
       "      <td>-0.383675</td>\n",
       "      <td>-0.75</td>\n",
       "      <td>-0.666667</td>\n",
       "      <td>-0.928571</td>\n",
       "      <td>...</td>\n",
       "      <td>0</td>\n",
       "      <td>1</td>\n",
       "      <td>0</td>\n",
       "      <td>0</td>\n",
       "      <td>0</td>\n",
       "      <td>0</td>\n",
       "      <td>1</td>\n",
       "      <td>0</td>\n",
       "      <td>0</td>\n",
       "      <td>0</td>\n",
       "    </tr>\n",
       "    <tr>\n",
       "      <th>1</th>\n",
       "      <td>1</td>\n",
       "      <td>2</td>\n",
       "      <td>0</td>\n",
       "      <td>2</td>\n",
       "      <td>-0.529412</td>\n",
       "      <td>-0.336516</td>\n",
       "      <td>0.000000</td>\n",
       "      <td>-0.75</td>\n",
       "      <td>-0.666667</td>\n",
       "      <td>-0.928571</td>\n",
       "      <td>...</td>\n",
       "      <td>0</td>\n",
       "      <td>1</td>\n",
       "      <td>0</td>\n",
       "      <td>0</td>\n",
       "      <td>0</td>\n",
       "      <td>0</td>\n",
       "      <td>0</td>\n",
       "      <td>1</td>\n",
       "      <td>0</td>\n",
       "      <td>0</td>\n",
       "    </tr>\n",
       "    <tr>\n",
       "      <th>2</th>\n",
       "      <td>3</td>\n",
       "      <td>2</td>\n",
       "      <td>0</td>\n",
       "      <td>2</td>\n",
       "      <td>-0.529412</td>\n",
       "      <td>-0.336516</td>\n",
       "      <td>-0.383675</td>\n",
       "      <td>-0.75</td>\n",
       "      <td>-0.666667</td>\n",
       "      <td>-0.928571</td>\n",
       "      <td>...</td>\n",
       "      <td>0</td>\n",
       "      <td>1</td>\n",
       "      <td>0</td>\n",
       "      <td>0</td>\n",
       "      <td>0</td>\n",
       "      <td>0</td>\n",
       "      <td>0</td>\n",
       "      <td>0</td>\n",
       "      <td>0</td>\n",
       "      <td>1</td>\n",
       "    </tr>\n",
       "    <tr>\n",
       "      <th>3</th>\n",
       "      <td>4</td>\n",
       "      <td>2</td>\n",
       "      <td>0</td>\n",
       "      <td>2</td>\n",
       "      <td>-0.529412</td>\n",
       "      <td>-0.336516</td>\n",
       "      <td>0.000000</td>\n",
       "      <td>-0.75</td>\n",
       "      <td>-0.666667</td>\n",
       "      <td>-0.928571</td>\n",
       "      <td>...</td>\n",
       "      <td>0</td>\n",
       "      <td>1</td>\n",
       "      <td>0</td>\n",
       "      <td>0</td>\n",
       "      <td>0</td>\n",
       "      <td>1</td>\n",
       "      <td>0</td>\n",
       "      <td>0</td>\n",
       "      <td>0</td>\n",
       "      <td>0</td>\n",
       "    </tr>\n",
       "    <tr>\n",
       "      <th>4</th>\n",
       "      <td>5</td>\n",
       "      <td>2</td>\n",
       "      <td>0</td>\n",
       "      <td>2</td>\n",
       "      <td>-0.529412</td>\n",
       "      <td>-0.336516</td>\n",
       "      <td>-0.383675</td>\n",
       "      <td>-0.75</td>\n",
       "      <td>-0.666667</td>\n",
       "      <td>-0.928571</td>\n",
       "      <td>...</td>\n",
       "      <td>0</td>\n",
       "      <td>1</td>\n",
       "      <td>0</td>\n",
       "      <td>0</td>\n",
       "      <td>0</td>\n",
       "      <td>1</td>\n",
       "      <td>0</td>\n",
       "      <td>0</td>\n",
       "      <td>0</td>\n",
       "      <td>0</td>\n",
       "    </tr>\n",
       "  </tbody>\n",
       "</table>\n",
       "<p>5 rows × 41 columns</p>\n",
       "</div>"
      ],
      "text/plain": [
       "   Unnamed: 0  Credit_Mix  Payment_of_Min_Amount  Credit_Score       Age  \\\n",
       "0           0           2                      0             2 -0.529412   \n",
       "1           1           2                      0             2 -0.529412   \n",
       "2           3           2                      0             2 -0.529412   \n",
       "3           4           2                      0             2 -0.529412   \n",
       "4           5           2                      0             2 -0.529412   \n",
       "\n",
       "   Annual_Income  Monthly_Inhand_Salary  Num_Bank_Accounts  Num_Credit_Card  \\\n",
       "0      -0.336516              -0.383675              -0.75        -0.666667   \n",
       "1      -0.336516               0.000000              -0.75        -0.666667   \n",
       "2      -0.336516              -0.383675              -0.75        -0.666667   \n",
       "3      -0.336516               0.000000              -0.75        -0.666667   \n",
       "4      -0.336516              -0.383675              -0.75        -0.666667   \n",
       "\n",
       "   Interest_Rate  ...  Occupation_Musician  Occupation_Scientist  \\\n",
       "0      -0.928571  ...                    0                     1   \n",
       "1      -0.928571  ...                    0                     1   \n",
       "2      -0.928571  ...                    0                     1   \n",
       "3      -0.928571  ...                    0                     1   \n",
       "4      -0.928571  ...                    0                     1   \n",
       "\n",
       "   Occupation_Teacher  Occupation_Writer  \\\n",
       "0                   0                  0   \n",
       "1                   0                  0   \n",
       "2                   0                  0   \n",
       "3                   0                  0   \n",
       "4                   0                  0   \n",
       "\n",
       "   Payment_Behaviour_High_spent_Large_value_payments  \\\n",
       "0                                                  0   \n",
       "1                                                  0   \n",
       "2                                                  0   \n",
       "3                                                  0   \n",
       "4                                                  0   \n",
       "\n",
       "   Payment_Behaviour_High_spent_Medium_value_payments  \\\n",
       "0                                                  0    \n",
       "1                                                  0    \n",
       "2                                                  0    \n",
       "3                                                  1    \n",
       "4                                                  1    \n",
       "\n",
       "   Payment_Behaviour_High_spent_Small_value_payments  \\\n",
       "0                                                  1   \n",
       "1                                                  0   \n",
       "2                                                  0   \n",
       "3                                                  0   \n",
       "4                                                  0   \n",
       "\n",
       "   Payment_Behaviour_Low_spent_Large_value_payments  \\\n",
       "0                                                 0   \n",
       "1                                                 1   \n",
       "2                                                 0   \n",
       "3                                                 0   \n",
       "4                                                 0   \n",
       "\n",
       "   Payment_Behaviour_Low_spent_Medium_value_payments  \\\n",
       "0                                                  0   \n",
       "1                                                  0   \n",
       "2                                                  0   \n",
       "3                                                  0   \n",
       "4                                                  0   \n",
       "\n",
       "   Payment_Behaviour_Low_spent_Small_value_payments  \n",
       "0                                                 0  \n",
       "1                                                 0  \n",
       "2                                                 1  \n",
       "3                                                 0  \n",
       "4                                                 0  \n",
       "\n",
       "[5 rows x 41 columns]"
      ]
     },
     "execution_count": 3,
     "metadata": {},
     "output_type": "execute_result"
    }
   ],
   "source": [
    "record = pd.read_csv(\"clean_record_data.csv\")\n",
    "record.head()"
   ]
  },
  {
   "cell_type": "code",
   "execution_count": 4,
   "metadata": {},
   "outputs": [],
   "source": [
    "record = record.drop(columns=['Unnamed: 0'])"
   ]
  },
  {
   "cell_type": "markdown",
   "metadata": {},
   "source": [
    "**Normalize the data and divide it into a training set and a test set**"
   ]
  },
  {
   "cell_type": "code",
   "execution_count": 5,
   "metadata": {},
   "outputs": [],
   "source": [
    "from sklearn.model_selection import train_test_split\n",
    "from sklearn.preprocessing import StandardScaler\n",
    "\n",
    "X = record.drop(columns=['Credit_Score'])\n",
    "y = record['Credit_Score']\n",
    "\n",
    "scalar = StandardScaler()\n",
    "scalar.fit(X)\n",
    "X = scalar.transform(X)\n",
    "\n",
    "X_train, X_test, y_train, y_test = train_test_split(X, y, test_size = 0.2)"
   ]
  },
  {
   "cell_type": "markdown",
   "metadata": {},
   "source": [
    "**See the shape of data and Count the distribution of the labels**"
   ]
  },
  {
   "cell_type": "code",
   "execution_count": 6,
   "metadata": {},
   "outputs": [
    {
     "name": "stdout",
     "output_type": "stream",
     "text": [
      "(78239, 39)\n",
      "(19560, 39)\n",
      "(78239,)\n",
      "(19560,)\n",
      "1    52020\n",
      "0    28328\n",
      "2    17451\n",
      "Name: Credit_Score, dtype: int64\n"
     ]
    }
   ],
   "source": [
    "# Show the shape of the train and test sets, and levels of the depencent variable (Y) \n",
    "print(X_train.shape)\n",
    "print(X_test.shape)\n",
    "print(y_train.shape)\n",
    "print(y_test.shape)\n",
    "print(record['Credit_Score'].value_counts())"
   ]
  },
  {
   "cell_type": "markdown",
   "metadata": {},
   "source": [
    "## Baseline Model"
   ]
  },
  {
   "cell_type": "markdown",
   "metadata": {},
   "source": [
    "**Decision Tree Model on Recorded Data**\n",
    "\n",
    "Use DecisionTreeClassifier() function to build the model and fit data. Here I set the initial parameter max_depth=6. Then make predictions on both training set and test set."
   ]
  },
  {
   "cell_type": "code",
   "execution_count": 7,
   "metadata": {},
   "outputs": [],
   "source": [
    "from sklearn import tree\n",
    "model = tree.DecisionTreeClassifier(max_depth=6)\n",
    "model = model.fit(X_train, y_train)"
   ]
  },
  {
   "cell_type": "code",
   "execution_count": 8,
   "metadata": {},
   "outputs": [],
   "source": [
    "yp_train = model.predict(X_train)\n",
    "yp_test = model.predict(X_test)"
   ]
  },
  {
   "cell_type": "markdown",
   "metadata": {},
   "source": [
    "**Confusion matrix of training set.**\n",
    "\n",
    "In the confusion matrix, we can visualize how well the model is classified, how much data is correctly classified and how much data is incorrectly classified. For a multi-category problem, for example, this dataset has three categories of labels, so the size of the confusion matrix is $3\\times 3$. Also compute the accuracy, precision and recall for the resutls."
   ]
  },
  {
   "cell_type": "code",
   "execution_count": 9,
   "metadata": {},
   "outputs": [],
   "source": [
    "from sklearn.metrics import confusion_matrix, ConfusionMatrixDisplay\n",
    "from sklearn.metrics import accuracy_score\n",
    "import matplotlib.pyplot as plt\n",
    "import seaborn as sns"
   ]
  },
  {
   "cell_type": "code",
   "execution_count": 10,
   "metadata": {},
   "outputs": [
    {
     "data": {
      "image/png": "[encoded data removed]",
      "text/plain": [
       "<Figure size 432x288 with 2 Axes>"
      ]
     },
     "metadata": {
      "needs_background": "light"
     },
     "output_type": "display_data"
    }
   ],
   "source": [
    "cm1 = confusion_matrix(y_train, yp_train, labels=model.classes_)\n",
    "disp1 = ConfusionMatrixDisplay(confusion_matrix=cm1, display_labels=model.classes_)\n",
    "disp1.plot()\n",
    "plt.show()"
   ]
  },
  {
   "cell_type": "markdown",
   "metadata": {},
   "source": [
    "Confusion matrix of test set."
   ]
  },
  {
   "cell_type": "code",
   "execution_count": 11,
   "metadata": {},
   "outputs": [
    {
     "data": {
      "image/png": "[encoded data removed]",
      "text/plain": [
       "<Figure size 432x288 with 2 Axes>"
      ]
     },
     "metadata": {
      "needs_background": "light"
     },
     "output_type": "display_data"
    }
   ],
   "source": [
    "cm2 = confusion_matrix(y_test, yp_test, labels=model.classes_)\n",
    "disp2 = ConfusionMatrixDisplay(confusion_matrix=cm2, display_labels=model.classes_)\n",
    "disp2.plot()\n",
    "plt.show()"
   ]
  },
  {
   "cell_type": "markdown",
   "metadata": {},
   "source": [
    "**Visualize the tree.**\n",
    "\n",
    "First we visualilze the tree in a text version. This is due to the fact that the amount of data is relatively large and drawing the graph takes a long time, while the text version allows us to see the results more quickly."
   ]
  },
  {
   "cell_type": "code",
   "execution_count": 12,
   "metadata": {},
   "outputs": [
    {
     "name": "stdout",
     "output_type": "stream",
     "text": [
      "|--- feature_1 <= -0.30\n",
      "|   |--- feature_0 <= 0.32\n",
      "|   |   |--- feature_38 <= 0.56\n",
      "|   |   |   |--- feature_14 <= 2.01\n",
      "|   |   |   |   |--- feature_4 <= -1.24\n",
      "|   |   |   |   |   |--- feature_4 <= -1.55\n",
      "|   |   |   |   |   |   |--- class: 2\n",
      "|   |   |   |   |   |--- feature_4 >  -1.55\n",
      "|   |   |   |   |   |   |--- class: 1\n",
      "|   |   |   |   |--- feature_4 >  -1.24\n",
      "|   |   |   |   |   |--- feature_2 <= -1.14\n",
      "|   |   |   |   |   |   |--- class: 1\n",
      "|   |   |   |   |   |--- feature_2 >  -1.14\n",
      "|   |   |   |   |   |   |--- class: 1\n",
      "|   |   |   |--- feature_14 >  2.01\n",
      "|   |   |   |   |--- feature_10 <= 0.26\n",
      "|   |   |   |   |   |--- feature_7 <= 0.13\n",
      "|   |   |   |   |   |   |--- class: 1\n",
      "|   |   |   |   |   |--- feature_7 >  0.13\n",
      "|   |   |   |   |   |   |--- class: 2\n",
      "|   |   |   |   |--- feature_10 >  0.26\n",
      "|   |   |   |   |   |--- feature_17 <= 2.36\n",
      "|   |   |   |   |   |   |--- class: 1\n",
      "|   |   |   |   |   |--- feature_17 >  2.36\n",
      "|   |   |   |   |   |   |--- class: 1\n",
      "|   |   |--- feature_38 >  0.56\n",
      "|   |   |   |--- feature_3 <= -1.34\n",
      "|   |   |   |   |--- feature_3 <= -1.35\n",
      "|   |   |   |   |   |--- class: 1\n",
      "|   |   |   |   |--- feature_3 >  -1.35\n",
      "|   |   |   |   |   |--- class: 0\n",
      "|   |   |   |--- feature_3 >  -1.34\n",
      "|   |   |   |   |--- feature_4 <= -1.20\n",
      "|   |   |   |   |   |--- feature_30 <= 1.80\n",
      "|   |   |   |   |   |   |--- class: 1\n",
      "|   |   |   |   |   |--- feature_30 >  1.80\n",
      "|   |   |   |   |   |   |--- class: 0\n",
      "|   |   |   |   |--- feature_4 >  -1.20\n",
      "|   |   |   |   |   |--- feature_16 <= -1.29\n",
      "|   |   |   |   |   |   |--- class: 2\n",
      "|   |   |   |   |   |--- feature_16 >  -1.29\n",
      "|   |   |   |   |   |   |--- class: 1\n",
      "|   |--- feature_0 >  0.32\n",
      "|   |   |--- feature_38 <= 0.56\n",
      "|   |   |   |--- feature_15 <= 2.36\n",
      "|   |   |   |   |--- feature_15 <= 1.53\n",
      "|   |   |   |   |   |--- feature_13 <= -1.00\n",
      "|   |   |   |   |   |   |--- class: 1\n",
      "|   |   |   |   |   |--- feature_13 >  -1.00\n",
      "|   |   |   |   |   |   |--- class: 2\n",
      "|   |   |   |   |--- feature_15 >  1.53\n",
      "|   |   |   |   |   |--- feature_3 <= 1.15\n",
      "|   |   |   |   |   |   |--- class: 2\n",
      "|   |   |   |   |   |--- feature_3 >  1.15\n",
      "|   |   |   |   |   |   |--- class: 2\n",
      "|   |   |   |--- feature_15 >  2.36\n",
      "|   |   |   |   |--- feature_11 <= -1.16\n",
      "|   |   |   |   |   |--- feature_11 <= -1.41\n",
      "|   |   |   |   |   |   |--- class: 2\n",
      "|   |   |   |   |   |--- feature_11 >  -1.41\n",
      "|   |   |   |   |   |   |--- class: 0\n",
      "|   |   |   |   |--- feature_11 >  -1.16\n",
      "|   |   |   |   |   |--- feature_2 <= 0.70\n",
      "|   |   |   |   |   |   |--- class: 1\n",
      "|   |   |   |   |   |--- feature_2 >  0.70\n",
      "|   |   |   |   |   |   |--- class: 2\n",
      "|   |   |--- feature_38 >  0.56\n",
      "|   |   |   |--- feature_31 <= 1.81\n",
      "|   |   |   |   |--- feature_17 <= 4.39\n",
      "|   |   |   |   |   |--- feature_12 <= -0.78\n",
      "|   |   |   |   |   |   |--- class: 1\n",
      "|   |   |   |   |   |--- feature_12 >  -0.78\n",
      "|   |   |   |   |   |   |--- class: 2\n",
      "|   |   |   |   |--- feature_17 >  4.39\n",
      "|   |   |   |   |   |--- feature_15 <= -0.16\n",
      "|   |   |   |   |   |   |--- class: 0\n",
      "|   |   |   |   |   |--- feature_15 >  -0.16\n",
      "|   |   |   |   |   |   |--- class: 2\n",
      "|   |   |   |--- feature_31 >  1.81\n",
      "|   |   |   |   |--- feature_14 <= -2.06\n",
      "|   |   |   |   |   |--- class: 2\n",
      "|   |   |   |   |--- feature_14 >  -2.06\n",
      "|   |   |   |   |   |--- feature_10 <= -1.06\n",
      "|   |   |   |   |   |   |--- class: 2\n",
      "|   |   |   |   |   |--- feature_10 >  -1.06\n",
      "|   |   |   |   |   |   |--- class: 2\n",
      "|--- feature_1 >  -0.30\n",
      "|   |--- feature_0 <= -1.00\n",
      "|   |   |--- feature_7 <= 2.61\n",
      "|   |   |   |--- feature_13 <= 3.48\n",
      "|   |   |   |   |--- feature_38 <= 0.56\n",
      "|   |   |   |   |   |--- feature_37 <= 1.05\n",
      "|   |   |   |   |   |   |--- class: 0\n",
      "|   |   |   |   |   |--- feature_37 >  1.05\n",
      "|   |   |   |   |   |   |--- class: 0\n",
      "|   |   |   |   |--- feature_38 >  0.56\n",
      "|   |   |   |   |   |--- feature_15 <= -0.73\n",
      "|   |   |   |   |   |   |--- class: 1\n",
      "|   |   |   |   |   |--- feature_15 >  -0.73\n",
      "|   |   |   |   |   |   |--- class: 0\n",
      "|   |   |   |--- feature_13 >  3.48\n",
      "|   |   |   |   |--- feature_7 <= 0.69\n",
      "|   |   |   |   |   |--- feature_38 <= 0.56\n",
      "|   |   |   |   |   |   |--- class: 0\n",
      "|   |   |   |   |   |--- feature_38 >  0.56\n",
      "|   |   |   |   |   |   |--- class: 1\n",
      "|   |   |   |   |--- feature_7 >  0.69\n",
      "|   |   |   |   |   |--- feature_2 <= 1.62\n",
      "|   |   |   |   |   |   |--- class: 1\n",
      "|   |   |   |   |   |--- feature_2 >  1.62\n",
      "|   |   |   |   |   |   |--- class: 0\n",
      "|   |   |--- feature_7 >  2.61\n",
      "|   |   |   |--- feature_3 <= -1.24\n",
      "|   |   |   |   |--- feature_9 <= -0.40\n",
      "|   |   |   |   |   |--- feature_17 <= -0.73\n",
      "|   |   |   |   |   |   |--- class: 0\n",
      "|   |   |   |   |   |--- feature_17 >  -0.73\n",
      "|   |   |   |   |   |   |--- class: 1\n",
      "|   |   |   |   |--- feature_9 >  -0.40\n",
      "|   |   |   |   |   |--- feature_29 <= 1.87\n",
      "|   |   |   |   |   |   |--- class: 1\n",
      "|   |   |   |   |   |--- feature_29 >  1.87\n",
      "|   |   |   |   |   |   |--- class: 0\n",
      "|   |   |   |--- feature_3 >  -1.24\n",
      "|   |   |   |   |--- feature_9 <= 3.18\n",
      "|   |   |   |   |   |--- feature_2 <= 0.53\n",
      "|   |   |   |   |   |   |--- class: 1\n",
      "|   |   |   |   |   |--- feature_2 >  0.53\n",
      "|   |   |   |   |   |   |--- class: 0\n",
      "|   |   |   |   |--- feature_9 >  3.18\n",
      "|   |   |   |   |   |--- feature_16 <= -1.11\n",
      "|   |   |   |   |   |   |--- class: 0\n",
      "|   |   |   |   |   |--- feature_16 >  -1.11\n",
      "|   |   |   |   |   |   |--- class: 1\n",
      "|   |--- feature_0 >  -1.00\n",
      "|   |   |--- feature_0 <= 0.32\n",
      "|   |   |   |--- feature_38 <= 0.56\n",
      "|   |   |   |   |--- feature_33 <= 1.05\n",
      "|   |   |   |   |   |--- feature_3 <= -0.94\n",
      "|   |   |   |   |   |   |--- class: 1\n",
      "|   |   |   |   |   |--- feature_3 >  -0.94\n",
      "|   |   |   |   |   |   |--- class: 1\n",
      "|   |   |   |   |--- feature_33 >  1.05\n",
      "|   |   |   |   |   |--- feature_11 <= 2.95\n",
      "|   |   |   |   |   |   |--- class: 1\n",
      "|   |   |   |   |   |--- feature_11 >  2.95\n",
      "|   |   |   |   |   |   |--- class: 1\n",
      "|   |   |   |--- feature_38 >  0.56\n",
      "|   |   |   |   |--- feature_3 <= -1.06\n",
      "|   |   |   |   |   |--- feature_13 <= 1.41\n",
      "|   |   |   |   |   |   |--- class: 1\n",
      "|   |   |   |   |   |--- feature_13 >  1.41\n",
      "|   |   |   |   |   |   |--- class: 1\n",
      "|   |   |   |   |--- feature_3 >  -1.06\n",
      "|   |   |   |   |   |--- feature_3 <= -1.05\n",
      "|   |   |   |   |   |   |--- class: 0\n",
      "|   |   |   |   |   |--- feature_3 >  -1.05\n",
      "|   |   |   |   |   |   |--- class: 1\n",
      "|   |   |--- feature_0 >  0.32\n",
      "|   |   |   |--- feature_38 <= 0.56\n",
      "|   |   |   |   |--- feature_33 <= 1.05\n",
      "|   |   |   |   |   |--- feature_8 <= 2.57\n",
      "|   |   |   |   |   |   |--- class: 1\n",
      "|   |   |   |   |   |--- feature_8 >  2.57\n",
      "|   |   |   |   |   |   |--- class: 1\n",
      "|   |   |   |   |--- feature_33 >  1.05\n",
      "|   |   |   |   |   |--- feature_17 <= 0.10\n",
      "|   |   |   |   |   |   |--- class: 1\n",
      "|   |   |   |   |   |--- feature_17 >  0.10\n",
      "|   |   |   |   |   |   |--- class: 1\n",
      "|   |   |   |--- feature_38 >  0.56\n",
      "|   |   |   |   |--- feature_4 <= -1.46\n",
      "|   |   |   |   |   |--- feature_3 <= -1.33\n",
      "|   |   |   |   |   |   |--- class: 2\n",
      "|   |   |   |   |   |--- feature_3 >  -1.33\n",
      "|   |   |   |   |   |   |--- class: 0\n",
      "|   |   |   |   |--- feature_4 >  -1.46\n",
      "|   |   |   |   |   |--- feature_7 <= 1.50\n",
      "|   |   |   |   |   |   |--- class: 1\n",
      "|   |   |   |   |   |--- feature_7 >  1.50\n",
      "|   |   |   |   |   |   |--- class: 1\n",
      "\n"
     ]
    }
   ],
   "source": [
    "text_representation = tree.export_text(model)\n",
    "print(text_representation)"
   ]
  },
  {
   "cell_type": "markdown",
   "metadata": {},
   "source": [
    "Then use graphviz package to visualize the tree. In the graph we can see the tree is pretty wide."
   ]
  },
  {
   "cell_type": "code",
   "execution_count": 13,
   "metadata": {},
   "outputs": [],
   "source": [
    "import graphviz\n",
    "def plot_tree(model,X,Y):\n",
    "    dot_data = tree.export_graphviz(model, out_file=None, \n",
    "                                feature_names=X,  \n",
    "                                class_names=Y)\n",
    "\n",
    "    graph = graphviz.Source(dot_data, format=\"png\") \n",
    "    return graph"
   ]
  },
  {
   "cell_type": "code",
   "execution_count": 14,
   "metadata": {},
   "outputs": [
    {
     "data": {
      "image/svg+xml": "<?xml version=\"1.0\" encoding=\"UTF-8\" standalone=\"no\"?>\r\n<!DOCTYPE svg PUBLIC \"-//W3C//DTD SVG 1.1//EN\"\r\n \"http://www.w3.org/Graphics/SVG/1.1/DTD/svg11.dtd\">\r\n<!-- Generated by graphviz version 2.44.1 (20200629.0846)\r\n -->\r\n<!-- Title: Tree Pages: 1 -->\r\n<svg width=\"9208pt\" height=\"790pt\"\r\n viewBox=\"0.00 0.00 9207.50 790.00\" xmlns=\"http://www.w3.org/2000/svg\" xmlns:xlink=\"http://www.w3.org/1999/xlink\">\r\n<g id=\"graph0\" class=\"graph\" transform=\"scale(1 1) rotate(0) translate(4 786)\">\r\n<title>Tree</title>\r\n<polygon fill=\"white\" stroke=\"transparent\" points=\"-4,4 -4,-786 9203.5,-786 9203.5,4 -4,4\"/>\r\n<!-- 0 -->\r\n<g id=\"node1\" class=\"node\">\r\n<title>0</title>\r\n<polygon fill=\"none\" stroke=\"black\" points=\"4739,-782 4494,-782 4494,-699 4739,-699 4739,-782\"/>\r\n<text text-anchor=\"middle\" x=\"4616.5\" y=\"-766.8\" font-family=\"Helvetica,sans-Serif\" font-size=\"14.00\">Payment_of_Min_Amount &lt;= &#45;0.299</text>\r\n<text text-anchor=\"middle\" x=\"4616.5\" y=\"-751.8\" font-family=\"Helvetica,sans-Serif\" font-size=\"14.00\">gini = 0.601</text>\r\n<text text-anchor=\"middle\" x=\"4616.5\" y=\"-736.8\" font-family=\"Helvetica,sans-Serif\" font-size=\"14.00\">samples = 78239</text>\r\n<text text-anchor=\"middle\" x=\"4616.5\" y=\"-721.8\" font-family=\"Helvetica,sans-Serif\" font-size=\"14.00\">value = [22635, 41640, 13964]</text>\r\n<text text-anchor=\"middle\" x=\"4616.5\" y=\"-706.8\" font-family=\"Helvetica,sans-Serif\" font-size=\"14.00\">class = 1</text>\r\n</g>\r\n<!-- 1 -->\r\n<g id=\"node2\" class=\"node\">\r\n<title>1</title>\r\n<polygon fill=\"none\" stroke=\"black\" points=\"3205,-663 3002,-663 3002,-580 3205,-580 3205,-663\"/>\r\n<text text-anchor=\"middle\" x=\"3103.5\" y=\"-647.8\" font-family=\"Helvetica,sans-Serif\" font-size=\"14.00\">Credit_Mix &lt;= 0.324</text>\r\n<text text-anchor=\"middle\" x=\"3103.5\" y=\"-632.8\" font-family=\"Helvetica,sans-Serif\" font-size=\"14.00\">gini = 0.601</text>\r\n<text text-anchor=\"middle\" x=\"3103.5\" y=\"-617.8\" font-family=\"Helvetica,sans-Serif\" font-size=\"14.00\">samples = 27896</text>\r\n<text text-anchor=\"middle\" x=\"3103.5\" y=\"-602.8\" font-family=\"Helvetica,sans-Serif\" font-size=\"14.00\">value = [3699, 13459, 10738]</text>\r\n<text text-anchor=\"middle\" x=\"3103.5\" y=\"-587.8\" font-family=\"Helvetica,sans-Serif\" font-size=\"14.00\">class = 1</text>\r\n</g>\r\n<!-- 0&#45;&gt;1 -->\r\n<g id=\"edge1\" class=\"edge\">\r\n<title>0&#45;&gt;1</title>\r\n<path fill=\"none\" stroke=\"black\" d=\"M4493.97,-730.02C4206.45,-707.79 3491.96,-652.54 3215.35,-631.15\"/>\r\n<polygon fill=\"black\" stroke=\"black\" points=\"3215.54,-627.65 3205.3,-630.37 3215,-634.63 3215.54,-627.65\"/>\r\n<text text-anchor=\"middle\" x=\"3221.56\" y=\"-645.66\" font-family=\"Helvetica,sans-Serif\" font-size=\"14.00\">True</text>\r\n</g>\r\n<!-- 58 -->\r\n<g id=\"node59\" class=\"node\">\r\n<title>58</title>\r\n<polygon fill=\"none\" stroke=\"black\" points=\"5635,-663 5432,-663 5432,-580 5635,-580 5635,-663\"/>\r\n<text text-anchor=\"middle\" x=\"5533.5\" y=\"-647.8\" font-family=\"Helvetica,sans-Serif\" font-size=\"14.00\">Credit_Mix &lt;= &#45;1.001</text>\r\n<text text-anchor=\"middle\" x=\"5533.5\" y=\"-632.8\" font-family=\"Helvetica,sans-Serif\" font-size=\"14.00\">gini = 0.541</text>\r\n<text text-anchor=\"middle\" x=\"5533.5\" y=\"-617.8\" font-family=\"Helvetica,sans-Serif\" font-size=\"14.00\">samples = 50343</text>\r\n<text text-anchor=\"middle\" x=\"5533.5\" y=\"-602.8\" font-family=\"Helvetica,sans-Serif\" font-size=\"14.00\">value = [18936, 28181, 3226]</text>\r\n<text text-anchor=\"middle\" x=\"5533.5\" y=\"-587.8\" font-family=\"Helvetica,sans-Serif\" font-size=\"14.00\">class = 1</text>\r\n</g>\r\n<!-- 0&#45;&gt;58 -->\r\n<g id=\"edge58\" class=\"edge\">\r\n<title>0&#45;&gt;58</title>\r\n<path fill=\"none\" stroke=\"black\" d=\"M4739.22,-723.84C4918.42,-700.98 5249.1,-658.79 5421.83,-636.75\"/>\r\n<polygon fill=\"black\" stroke=\"black\" points=\"5422.48,-640.19 5431.96,-635.46 5421.6,-633.25 5422.48,-640.19\"/>\r\n<text text-anchor=\"middle\" x=\"5416.66\" y=\"-651.53\" font-family=\"Helvetica,sans-Serif\" font-size=\"14.00\">False</text>\r\n</g>\r\n<!-- 2 -->\r\n<g id=\"node3\" class=\"node\">\r\n<title>2</title>\r\n<polygon fill=\"none\" stroke=\"black\" points=\"1568,-544 1131,-544 1131,-461 1568,-461 1568,-544\"/>\r\n<text text-anchor=\"middle\" x=\"1349.5\" y=\"-528.8\" font-family=\"Helvetica,sans-Serif\" font-size=\"14.00\">Payment_Behaviour_Low_spent_Small_value_payments &lt;= 0.563</text>\r\n<text text-anchor=\"middle\" x=\"1349.5\" y=\"-513.8\" font-family=\"Helvetica,sans-Serif\" font-size=\"14.00\">gini = 0.24</text>\r\n<text text-anchor=\"middle\" x=\"1349.5\" y=\"-498.8\" font-family=\"Helvetica,sans-Serif\" font-size=\"14.00\">samples = 5615</text>\r\n<text text-anchor=\"middle\" x=\"1349.5\" y=\"-483.8\" font-family=\"Helvetica,sans-Serif\" font-size=\"14.00\">value = [347, 4865, 403]</text>\r\n<text text-anchor=\"middle\" x=\"1349.5\" y=\"-468.8\" font-family=\"Helvetica,sans-Serif\" font-size=\"14.00\">class = 1</text>\r\n</g>\r\n<!-- 1&#45;&gt;2 -->\r\n<g id=\"edge2\" class=\"edge\">\r\n<title>1&#45;&gt;2</title>\r\n<path fill=\"none\" stroke=\"black\" d=\"M3001.94,-613.73C2727.12,-595.39 1963.71,-544.47 1578.32,-518.76\"/>\r\n<polygon fill=\"black\" stroke=\"black\" points=\"1578.37,-515.26 1568.16,-518.09 1577.9,-522.24 1578.37,-515.26\"/>\r\n</g>\r\n<!-- 29 -->\r\n<g id=\"node30\" class=\"node\">\r\n<title>29</title>\r\n<polygon fill=\"none\" stroke=\"black\" points=\"3322,-544 2885,-544 2885,-461 3322,-461 3322,-544\"/>\r\n<text text-anchor=\"middle\" x=\"3103.5\" y=\"-528.8\" font-family=\"Helvetica,sans-Serif\" font-size=\"14.00\">Payment_Behaviour_Low_spent_Small_value_payments &lt;= 0.563</text>\r\n<text text-anchor=\"middle\" x=\"3103.5\" y=\"-513.8\" font-family=\"Helvetica,sans-Serif\" font-size=\"14.00\">gini = 0.613</text>\r\n<text text-anchor=\"middle\" x=\"3103.5\" y=\"-498.8\" font-family=\"Helvetica,sans-Serif\" font-size=\"14.00\">samples = 22281</text>\r\n<text text-anchor=\"middle\" x=\"3103.5\" y=\"-483.8\" font-family=\"Helvetica,sans-Serif\" font-size=\"14.00\">value = [3352, 8594, 10335]</text>\r\n<text text-anchor=\"middle\" x=\"3103.5\" y=\"-468.8\" font-family=\"Helvetica,sans-Serif\" font-size=\"14.00\">class = 2</text>\r\n</g>\r\n<!-- 1&#45;&gt;29 -->\r\n<g id=\"edge29\" class=\"edge\">\r\n<title>1&#45;&gt;29</title>\r\n<path fill=\"none\" stroke=\"black\" d=\"M3103.5,-579.91C3103.5,-571.65 3103.5,-562.86 3103.5,-554.3\"/>\r\n<polygon fill=\"black\" stroke=\"black\" points=\"3107,-554.02 3103.5,-544.02 3100,-554.02 3107,-554.02\"/>\r\n</g>\r\n<!-- 3 -->\r\n<g id=\"node4\" class=\"node\">\r\n<title>3</title>\r\n<polygon fill=\"none\" stroke=\"black\" points=\"985.5,-425 761.5,-425 761.5,-342 985.5,-342 985.5,-425\"/>\r\n<text text-anchor=\"middle\" x=\"873.5\" y=\"-409.8\" font-family=\"Helvetica,sans-Serif\" font-size=\"14.00\">Credit_Utilization_Ratio &lt;= 2.007</text>\r\n<text text-anchor=\"middle\" x=\"873.5\" y=\"-394.8\" font-family=\"Helvetica,sans-Serif\" font-size=\"14.00\">gini = 0.228</text>\r\n<text text-anchor=\"middle\" x=\"873.5\" y=\"-379.8\" font-family=\"Helvetica,sans-Serif\" font-size=\"14.00\">samples = 4293</text>\r\n<text text-anchor=\"middle\" x=\"873.5\" y=\"-364.8\" font-family=\"Helvetica,sans-Serif\" font-size=\"14.00\">value = [210, 3752, 331]</text>\r\n<text text-anchor=\"middle\" x=\"873.5\" y=\"-349.8\" font-family=\"Helvetica,sans-Serif\" font-size=\"14.00\">class = 1</text>\r\n</g>\r\n<!-- 2&#45;&gt;3 -->\r\n<g id=\"edge3\" class=\"edge\">\r\n<title>2&#45;&gt;3</title>\r\n<path fill=\"none\" stroke=\"black\" d=\"M1184.69,-460.99C1122.6,-445.73 1053.16,-428.66 995.65,-414.52\"/>\r\n<polygon fill=\"black\" stroke=\"black\" points=\"996.33,-411.09 985.79,-412.1 994.66,-417.89 996.33,-411.09\"/>\r\n</g>\r\n<!-- 18 -->\r\n<g id=\"node19\" class=\"node\">\r\n<title>18</title>\r\n<polygon fill=\"none\" stroke=\"black\" points=\"1440,-425 1259,-425 1259,-342 1440,-342 1440,-425\"/>\r\n<text text-anchor=\"middle\" x=\"1349.5\" y=\"-409.8\" font-family=\"Helvetica,sans-Serif\" font-size=\"14.00\">Annual_Income &lt;= &#45;1.339</text>\r\n<text text-anchor=\"middle\" x=\"1349.5\" y=\"-394.8\" font-family=\"Helvetica,sans-Serif\" font-size=\"14.00\">gini = 0.277</text>\r\n<text text-anchor=\"middle\" x=\"1349.5\" y=\"-379.8\" font-family=\"Helvetica,sans-Serif\" font-size=\"14.00\">samples = 1322</text>\r\n<text text-anchor=\"middle\" x=\"1349.5\" y=\"-364.8\" font-family=\"Helvetica,sans-Serif\" font-size=\"14.00\">value = [137, 1113, 72]</text>\r\n<text text-anchor=\"middle\" x=\"1349.5\" y=\"-349.8\" font-family=\"Helvetica,sans-Serif\" font-size=\"14.00\">class = 1</text>\r\n</g>\r\n<!-- 2&#45;&gt;18 -->\r\n<g id=\"edge18\" class=\"edge\">\r\n<title>2&#45;&gt;18</title>\r\n<path fill=\"none\" stroke=\"black\" d=\"M1349.5,-460.91C1349.5,-452.65 1349.5,-443.86 1349.5,-435.3\"/>\r\n<polygon fill=\"black\" stroke=\"black\" points=\"1353,-435.02 1349.5,-425.02 1346,-435.02 1353,-435.02\"/>\r\n</g>\r\n<!-- 4 -->\r\n<g id=\"node5\" class=\"node\">\r\n<title>4</title>\r\n<polygon fill=\"none\" stroke=\"black\" points=\"582.5,-306 354.5,-306 354.5,-223 582.5,-223 582.5,-306\"/>\r\n<text text-anchor=\"middle\" x=\"468.5\" y=\"-290.8\" font-family=\"Helvetica,sans-Serif\" font-size=\"14.00\">Monthly_Inhand_Salary &lt;= &#45;1.242</text>\r\n<text text-anchor=\"middle\" x=\"468.5\" y=\"-275.8\" font-family=\"Helvetica,sans-Serif\" font-size=\"14.00\">gini = 0.225</text>\r\n<text text-anchor=\"middle\" x=\"468.5\" y=\"-260.8\" font-family=\"Helvetica,sans-Serif\" font-size=\"14.00\">samples = 4234</text>\r\n<text text-anchor=\"middle\" x=\"468.5\" y=\"-245.8\" font-family=\"Helvetica,sans-Serif\" font-size=\"14.00\">value = [209, 3708, 317]</text>\r\n<text text-anchor=\"middle\" x=\"468.5\" y=\"-230.8\" font-family=\"Helvetica,sans-Serif\" font-size=\"14.00\">class = 1</text>\r\n</g>\r\n<!-- 3&#45;&gt;4 -->\r\n<g id=\"edge4\" class=\"edge\">\r\n<title>3&#45;&gt;4</title>\r\n<path fill=\"none\" stroke=\"black\" d=\"M761.49,-350.14C708.93,-334.96 646.12,-316.81 592.17,-301.23\"/>\r\n<polygon fill=\"black\" stroke=\"black\" points=\"593.13,-297.86 582.55,-298.45 591.18,-304.59 593.13,-297.86\"/>\r\n</g>\r\n<!-- 11 -->\r\n<g id=\"node12\" class=\"node\">\r\n<title>11</title>\r\n<polygon fill=\"none\" stroke=\"black\" points=\"999.5,-306 747.5,-306 747.5,-223 999.5,-223 999.5,-306\"/>\r\n<text text-anchor=\"middle\" x=\"873.5\" y=\"-290.8\" font-family=\"Helvetica,sans-Serif\" font-size=\"14.00\">Num_of_Delayed_Payment &lt;= 0.262</text>\r\n<text text-anchor=\"middle\" x=\"873.5\" y=\"-275.8\" font-family=\"Helvetica,sans-Serif\" font-size=\"14.00\">gini = 0.387</text>\r\n<text text-anchor=\"middle\" x=\"873.5\" y=\"-260.8\" font-family=\"Helvetica,sans-Serif\" font-size=\"14.00\">samples = 59</text>\r\n<text text-anchor=\"middle\" x=\"873.5\" y=\"-245.8\" font-family=\"Helvetica,sans-Serif\" font-size=\"14.00\">value = [1, 44, 14]</text>\r\n<text text-anchor=\"middle\" x=\"873.5\" y=\"-230.8\" font-family=\"Helvetica,sans-Serif\" font-size=\"14.00\">class = 1</text>\r\n</g>\r\n<!-- 3&#45;&gt;11 -->\r\n<g id=\"edge11\" class=\"edge\">\r\n<title>3&#45;&gt;11</title>\r\n<path fill=\"none\" stroke=\"black\" d=\"M873.5,-341.91C873.5,-333.65 873.5,-324.86 873.5,-316.3\"/>\r\n<polygon fill=\"black\" stroke=\"black\" points=\"877,-316.02 873.5,-306.02 870,-316.02 877,-316.02\"/>\r\n</g>\r\n<!-- 5 -->\r\n<g id=\"node6\" class=\"node\">\r\n<title>5</title>\r\n<polygon fill=\"none\" stroke=\"black\" points=\"305.5,-187 85.5,-187 85.5,-104 305.5,-104 305.5,-187\"/>\r\n<text text-anchor=\"middle\" x=\"195.5\" y=\"-171.8\" font-family=\"Helvetica,sans-Serif\" font-size=\"14.00\">Monthly_Inhand_Salary &lt;= &#45;1.55</text>\r\n<text text-anchor=\"middle\" x=\"195.5\" y=\"-156.8\" font-family=\"Helvetica,sans-Serif\" font-size=\"14.00\">gini = 0.071</text>\r\n<text text-anchor=\"middle\" x=\"195.5\" y=\"-141.8\" font-family=\"Helvetica,sans-Serif\" font-size=\"14.00\">samples = 191</text>\r\n<text text-anchor=\"middle\" x=\"195.5\" y=\"-126.8\" font-family=\"Helvetica,sans-Serif\" font-size=\"14.00\">value = [3, 184, 4]</text>\r\n<text text-anchor=\"middle\" x=\"195.5\" y=\"-111.8\" font-family=\"Helvetica,sans-Serif\" font-size=\"14.00\">class = 1</text>\r\n</g>\r\n<!-- 4&#45;&gt;5 -->\r\n<g id=\"edge5\" class=\"edge\">\r\n<title>4&#45;&gt;5</title>\r\n<path fill=\"none\" stroke=\"black\" d=\"M373.78,-222.91C349.75,-212.61 323.8,-201.49 299.34,-191\"/>\r\n<polygon fill=\"black\" stroke=\"black\" points=\"300.62,-187.74 290.05,-187.02 297.86,-194.18 300.62,-187.74\"/>\r\n</g>\r\n<!-- 8 -->\r\n<g id=\"node9\" class=\"node\">\r\n<title>8</title>\r\n<polygon fill=\"none\" stroke=\"black\" points=\"553.5,-187 383.5,-187 383.5,-104 553.5,-104 553.5,-187\"/>\r\n<text text-anchor=\"middle\" x=\"468.5\" y=\"-171.8\" font-family=\"Helvetica,sans-Serif\" font-size=\"14.00\">Age &lt;= &#45;1.139</text>\r\n<text text-anchor=\"middle\" x=\"468.5\" y=\"-156.8\" font-family=\"Helvetica,sans-Serif\" font-size=\"14.00\">gini = 0.232</text>\r\n<text text-anchor=\"middle\" x=\"468.5\" y=\"-141.8\" font-family=\"Helvetica,sans-Serif\" font-size=\"14.00\">samples = 4043</text>\r\n<text text-anchor=\"middle\" x=\"468.5\" y=\"-126.8\" font-family=\"Helvetica,sans-Serif\" font-size=\"14.00\">value = [206, 3524, 313]</text>\r\n<text text-anchor=\"middle\" x=\"468.5\" y=\"-111.8\" font-family=\"Helvetica,sans-Serif\" font-size=\"14.00\">class = 1</text>\r\n</g>\r\n<!-- 4&#45;&gt;8 -->\r\n<g id=\"edge8\" class=\"edge\">\r\n<title>4&#45;&gt;8</title>\r\n<path fill=\"none\" stroke=\"black\" d=\"M468.5,-222.91C468.5,-214.65 468.5,-205.86 468.5,-197.3\"/>\r\n<polygon fill=\"black\" stroke=\"black\" points=\"472,-197.02 468.5,-187.02 465,-197.02 472,-197.02\"/>\r\n</g>\r\n<!-- 6 -->\r\n<g id=\"node7\" class=\"node\">\r\n<title>6</title>\r\n<polygon fill=\"none\" stroke=\"black\" points=\"113,-68 0,-68 0,0 113,0 113,-68\"/>\r\n<text text-anchor=\"middle\" x=\"56.5\" y=\"-52.8\" font-family=\"Helvetica,sans-Serif\" font-size=\"14.00\">gini = 0.0</text>\r\n<text text-anchor=\"middle\" x=\"56.5\" y=\"-37.8\" font-family=\"Helvetica,sans-Serif\" font-size=\"14.00\">samples = 1</text>\r\n<text text-anchor=\"middle\" x=\"56.5\" y=\"-22.8\" font-family=\"Helvetica,sans-Serif\" font-size=\"14.00\">value = [0, 0, 1]</text>\r\n<text text-anchor=\"middle\" x=\"56.5\" y=\"-7.8\" font-family=\"Helvetica,sans-Serif\" font-size=\"14.00\">class = 2</text>\r\n</g>\r\n<!-- 5&#45;&gt;6 -->\r\n<g id=\"edge6\" class=\"edge\">\r\n<title>5&#45;&gt;6</title>\r\n<path fill=\"none\" stroke=\"black\" d=\"M143.74,-103.73C131.7,-94.24 118.9,-84.16 106.92,-74.72\"/>\r\n<polygon fill=\"black\" stroke=\"black\" points=\"108.79,-71.74 98.77,-68.3 104.46,-77.24 108.79,-71.74\"/>\r\n</g>\r\n<!-- 7 -->\r\n<g id=\"node8\" class=\"node\">\r\n<title>7</title>\r\n<polygon fill=\"none\" stroke=\"black\" points=\"260,-68 131,-68 131,0 260,0 260,-68\"/>\r\n<text text-anchor=\"middle\" x=\"195.5\" y=\"-52.8\" font-family=\"Helvetica,sans-Serif\" font-size=\"14.00\">gini = 0.062</text>\r\n<text text-anchor=\"middle\" x=\"195.5\" y=\"-37.8\" font-family=\"Helvetica,sans-Serif\" font-size=\"14.00\">samples = 190</text>\r\n<text text-anchor=\"middle\" x=\"195.5\" y=\"-22.8\" font-family=\"Helvetica,sans-Serif\" font-size=\"14.00\">value = [3, 184, 3]</text>\r\n<text text-anchor=\"middle\" x=\"195.5\" y=\"-7.8\" font-family=\"Helvetica,sans-Serif\" font-size=\"14.00\">class = 1</text>\r\n</g>\r\n<!-- 5&#45;&gt;7 -->\r\n<g id=\"edge7\" class=\"edge\">\r\n<title>5&#45;&gt;7</title>\r\n<path fill=\"none\" stroke=\"black\" d=\"M195.5,-103.73C195.5,-95.52 195.5,-86.86 195.5,-78.56\"/>\r\n<polygon fill=\"black\" stroke=\"black\" points=\"199,-78.3 195.5,-68.3 192,-78.3 199,-78.3\"/>\r\n</g>\r\n<!-- 9 -->\r\n<g id=\"node10\" class=\"node\">\r\n<title>9</title>\r\n<polygon fill=\"none\" stroke=\"black\" points=\"424.5,-68 278.5,-68 278.5,0 424.5,0 424.5,-68\"/>\r\n<text text-anchor=\"middle\" x=\"351.5\" y=\"-52.8\" font-family=\"Helvetica,sans-Serif\" font-size=\"14.00\">gini = 0.341</text>\r\n<text text-anchor=\"middle\" x=\"351.5\" y=\"-37.8\" font-family=\"Helvetica,sans-Serif\" font-size=\"14.00\">samples = 253</text>\r\n<text text-anchor=\"middle\" x=\"351.5\" y=\"-22.8\" font-family=\"Helvetica,sans-Serif\" font-size=\"14.00\">value = [20, 202, 31]</text>\r\n<text text-anchor=\"middle\" x=\"351.5\" y=\"-7.8\" font-family=\"Helvetica,sans-Serif\" font-size=\"14.00\">class = 1</text>\r\n</g>\r\n<!-- 8&#45;&gt;9 -->\r\n<g id=\"edge9\" class=\"edge\">\r\n<title>8&#45;&gt;9</title>\r\n<path fill=\"none\" stroke=\"black\" d=\"M424.93,-103.73C414.99,-94.42 404.44,-84.54 394.52,-75.26\"/>\r\n<polygon fill=\"black\" stroke=\"black\" points=\"396.77,-72.58 387.08,-68.3 391.99,-77.69 396.77,-72.58\"/>\r\n</g>\r\n<!-- 10 -->\r\n<g id=\"node11\" class=\"node\">\r\n<title>10</title>\r\n<polygon fill=\"none\" stroke=\"black\" points=\"612.5,-68 442.5,-68 442.5,0 612.5,0 612.5,-68\"/>\r\n<text text-anchor=\"middle\" x=\"527.5\" y=\"-52.8\" font-family=\"Helvetica,sans-Serif\" font-size=\"14.00\">gini = 0.224</text>\r\n<text text-anchor=\"middle\" x=\"527.5\" y=\"-37.8\" font-family=\"Helvetica,sans-Serif\" font-size=\"14.00\">samples = 3790</text>\r\n<text text-anchor=\"middle\" x=\"527.5\" y=\"-22.8\" font-family=\"Helvetica,sans-Serif\" font-size=\"14.00\">value = [186, 3322, 282]</text>\r\n<text text-anchor=\"middle\" x=\"527.5\" y=\"-7.8\" font-family=\"Helvetica,sans-Serif\" font-size=\"14.00\">class = 1</text>\r\n</g>\r\n<!-- 8&#45;&gt;10 -->\r\n<g id=\"edge10\" class=\"edge\">\r\n<title>8&#45;&gt;10</title>\r\n<path fill=\"none\" stroke=\"black\" d=\"M490.47,-103.73C495.14,-95.06 500.08,-85.9 504.77,-77.18\"/>\r\n<polygon fill=\"black\" stroke=\"black\" points=\"507.9,-78.76 509.56,-68.3 501.73,-75.44 507.9,-78.76\"/>\r\n</g>\r\n<!-- 12 -->\r\n<g id=\"node13\" class=\"node\">\r\n<title>12</title>\r\n<polygon fill=\"none\" stroke=\"black\" points=\"850.5,-187 686.5,-187 686.5,-104 850.5,-104 850.5,-187\"/>\r\n<text text-anchor=\"middle\" x=\"768.5\" y=\"-171.8\" font-family=\"Helvetica,sans-Serif\" font-size=\"14.00\">Interest_Rate &lt;= 0.131</text>\r\n<text text-anchor=\"middle\" x=\"768.5\" y=\"-156.8\" font-family=\"Helvetica,sans-Serif\" font-size=\"14.00\">gini = 0.488</text>\r\n<text text-anchor=\"middle\" x=\"768.5\" y=\"-141.8\" font-family=\"Helvetica,sans-Serif\" font-size=\"14.00\">samples = 26</text>\r\n<text text-anchor=\"middle\" x=\"768.5\" y=\"-126.8\" font-family=\"Helvetica,sans-Serif\" font-size=\"14.00\">value = [0, 15, 11]</text>\r\n<text text-anchor=\"middle\" x=\"768.5\" y=\"-111.8\" font-family=\"Helvetica,sans-Serif\" font-size=\"14.00\">class = 1</text>\r\n</g>\r\n<!-- 11&#45;&gt;12 -->\r\n<g id=\"edge12\" class=\"edge\">\r\n<title>11&#45;&gt;12</title>\r\n<path fill=\"none\" stroke=\"black\" d=\"M837.07,-222.91C828.85,-213.74 820.04,-203.93 811.57,-194.49\"/>\r\n<polygon fill=\"black\" stroke=\"black\" points=\"814.15,-192.13 804.86,-187.02 808.94,-196.8 814.15,-192.13\"/>\r\n</g>\r\n<!-- 15 -->\r\n<g id=\"node16\" class=\"node\">\r\n<title>15</title>\r\n<polygon fill=\"none\" stroke=\"black\" points=\"1054,-187 869,-187 869,-104 1054,-104 1054,-187\"/>\r\n<text text-anchor=\"middle\" x=\"961.5\" y=\"-171.8\" font-family=\"Helvetica,sans-Serif\" font-size=\"14.00\">Monthly_Balance &lt;= 2.365</text>\r\n<text text-anchor=\"middle\" x=\"961.5\" y=\"-156.8\" font-family=\"Helvetica,sans-Serif\" font-size=\"14.00\">gini = 0.219</text>\r\n<text text-anchor=\"middle\" x=\"961.5\" y=\"-141.8\" font-family=\"Helvetica,sans-Serif\" font-size=\"14.00\">samples = 33</text>\r\n<text text-anchor=\"middle\" x=\"961.5\" y=\"-126.8\" font-family=\"Helvetica,sans-Serif\" font-size=\"14.00\">value = [1, 29, 3]</text>\r\n<text text-anchor=\"middle\" x=\"961.5\" y=\"-111.8\" font-family=\"Helvetica,sans-Serif\" font-size=\"14.00\">class = 1</text>\r\n</g>\r\n<!-- 11&#45;&gt;15 -->\r\n<g id=\"edge15\" class=\"edge\">\r\n<title>11&#45;&gt;15</title>\r\n<path fill=\"none\" stroke=\"black\" d=\"M904.03,-222.91C910.79,-213.92 918.02,-204.32 924.98,-195.05\"/>\r\n<polygon fill=\"black\" stroke=\"black\" points=\"927.81,-197.12 931.02,-187.02 922.21,-192.91 927.81,-197.12\"/>\r\n</g>\r\n<!-- 13 -->\r\n<g id=\"node14\" class=\"node\">\r\n<title>13</title>\r\n<polygon fill=\"none\" stroke=\"black\" points=\"752,-68 631,-68 631,0 752,0 752,-68\"/>\r\n<text text-anchor=\"middle\" x=\"691.5\" y=\"-52.8\" font-family=\"Helvetica,sans-Serif\" font-size=\"14.00\">gini = 0.375</text>\r\n<text text-anchor=\"middle\" x=\"691.5\" y=\"-37.8\" font-family=\"Helvetica,sans-Serif\" font-size=\"14.00\">samples = 20</text>\r\n<text text-anchor=\"middle\" x=\"691.5\" y=\"-22.8\" font-family=\"Helvetica,sans-Serif\" font-size=\"14.00\">value = [0, 15, 5]</text>\r\n<text text-anchor=\"middle\" x=\"691.5\" y=\"-7.8\" font-family=\"Helvetica,sans-Serif\" font-size=\"14.00\">class = 1</text>\r\n</g>\r\n<!-- 12&#45;&gt;13 -->\r\n<g id=\"edge13\" class=\"edge\">\r\n<title>12&#45;&gt;13</title>\r\n<path fill=\"none\" stroke=\"black\" d=\"M739.83,-103.73C733.61,-94.88 727.02,-85.51 720.77,-76.63\"/>\r\n<polygon fill=\"black\" stroke=\"black\" points=\"723.53,-74.47 714.92,-68.3 717.81,-78.49 723.53,-74.47\"/>\r\n</g>\r\n<!-- 14 -->\r\n<g id=\"node15\" class=\"node\">\r\n<title>14</title>\r\n<polygon fill=\"none\" stroke=\"black\" points=\"883,-68 770,-68 770,0 883,0 883,-68\"/>\r\n<text text-anchor=\"middle\" x=\"826.5\" y=\"-52.8\" font-family=\"Helvetica,sans-Serif\" font-size=\"14.00\">gini = 0.0</text>\r\n<text text-anchor=\"middle\" x=\"826.5\" y=\"-37.8\" font-family=\"Helvetica,sans-Serif\" font-size=\"14.00\">samples = 6</text>\r\n<text text-anchor=\"middle\" x=\"826.5\" y=\"-22.8\" font-family=\"Helvetica,sans-Serif\" font-size=\"14.00\">value = [0, 0, 6]</text>\r\n<text text-anchor=\"middle\" x=\"826.5\" y=\"-7.8\" font-family=\"Helvetica,sans-Serif\" font-size=\"14.00\">class = 2</text>\r\n</g>\r\n<!-- 12&#45;&gt;14 -->\r\n<g id=\"edge14\" class=\"edge\">\r\n<title>12&#45;&gt;14</title>\r\n<path fill=\"none\" stroke=\"black\" d=\"M790.1,-103.73C794.69,-95.06 799.54,-85.9 804.16,-77.18\"/>\r\n<polygon fill=\"black\" stroke=\"black\" points=\"807.27,-78.77 808.86,-68.3 801.09,-75.5 807.27,-78.77\"/>\r\n</g>\r\n<!-- 16 -->\r\n<g id=\"node17\" class=\"node\">\r\n<title>16</title>\r\n<polygon fill=\"none\" stroke=\"black\" points=\"1022,-68 901,-68 901,0 1022,0 1022,-68\"/>\r\n<text text-anchor=\"middle\" x=\"961.5\" y=\"-52.8\" font-family=\"Helvetica,sans-Serif\" font-size=\"14.00\">gini = 0.0</text>\r\n<text text-anchor=\"middle\" x=\"961.5\" y=\"-37.8\" font-family=\"Helvetica,sans-Serif\" font-size=\"14.00\">samples = 24</text>\r\n<text text-anchor=\"middle\" x=\"961.5\" y=\"-22.8\" font-family=\"Helvetica,sans-Serif\" font-size=\"14.00\">value = [0, 24, 0]</text>\r\n<text text-anchor=\"middle\" x=\"961.5\" y=\"-7.8\" font-family=\"Helvetica,sans-Serif\" font-size=\"14.00\">class = 1</text>\r\n</g>\r\n<!-- 15&#45;&gt;16 -->\r\n<g id=\"edge16\" class=\"edge\">\r\n<title>15&#45;&gt;16</title>\r\n<path fill=\"none\" stroke=\"black\" d=\"M961.5,-103.73C961.5,-95.52 961.5,-86.86 961.5,-78.56\"/>\r\n<polygon fill=\"black\" stroke=\"black\" points=\"965,-78.3 961.5,-68.3 958,-78.3 965,-78.3\"/>\r\n</g>\r\n<!-- 17 -->\r\n<g id=\"node18\" class=\"node\">\r\n<title>17</title>\r\n<polygon fill=\"none\" stroke=\"black\" points=\"1153,-68 1040,-68 1040,0 1153,0 1153,-68\"/>\r\n<text text-anchor=\"middle\" x=\"1096.5\" y=\"-52.8\" font-family=\"Helvetica,sans-Serif\" font-size=\"14.00\">gini = 0.568</text>\r\n<text text-anchor=\"middle\" x=\"1096.5\" y=\"-37.8\" font-family=\"Helvetica,sans-Serif\" font-size=\"14.00\">samples = 9</text>\r\n<text text-anchor=\"middle\" x=\"1096.5\" y=\"-22.8\" font-family=\"Helvetica,sans-Serif\" font-size=\"14.00\">value = [1, 5, 3]</text>\r\n<text text-anchor=\"middle\" x=\"1096.5\" y=\"-7.8\" font-family=\"Helvetica,sans-Serif\" font-size=\"14.00\">class = 1</text>\r\n</g>\r\n<!-- 15&#45;&gt;17 -->\r\n<g id=\"edge17\" class=\"edge\">\r\n<title>15&#45;&gt;17</title>\r\n<path fill=\"none\" stroke=\"black\" d=\"M1011.77,-103.73C1023.46,-94.24 1035.9,-84.16 1047.54,-74.72\"/>\r\n<polygon fill=\"black\" stroke=\"black\" points=\"1049.88,-77.32 1055.45,-68.3 1045.47,-71.88 1049.88,-77.32\"/>\r\n</g>\r\n<!-- 19 -->\r\n<g id=\"node20\" class=\"node\">\r\n<title>19</title>\r\n<polygon fill=\"none\" stroke=\"black\" points=\"1329,-306 1148,-306 1148,-223 1329,-223 1329,-306\"/>\r\n<text text-anchor=\"middle\" x=\"1238.5\" y=\"-290.8\" font-family=\"Helvetica,sans-Serif\" font-size=\"14.00\">Annual_Income &lt;= &#45;1.346</text>\r\n<text text-anchor=\"middle\" x=\"1238.5\" y=\"-275.8\" font-family=\"Helvetica,sans-Serif\" font-size=\"14.00\">gini = 0.32</text>\r\n<text text-anchor=\"middle\" x=\"1238.5\" y=\"-260.8\" font-family=\"Helvetica,sans-Serif\" font-size=\"14.00\">samples = 5</text>\r\n<text text-anchor=\"middle\" x=\"1238.5\" y=\"-245.8\" font-family=\"Helvetica,sans-Serif\" font-size=\"14.00\">value = [4, 1, 0]</text>\r\n<text text-anchor=\"middle\" x=\"1238.5\" y=\"-230.8\" font-family=\"Helvetica,sans-Serif\" font-size=\"14.00\">class = 0</text>\r\n</g>\r\n<!-- 18&#45;&gt;19 -->\r\n<g id=\"edge19\" class=\"edge\">\r\n<title>18&#45;&gt;19</title>\r\n<path fill=\"none\" stroke=\"black\" d=\"M1310.99,-341.91C1302.29,-332.74 1292.98,-322.93 1284.03,-313.49\"/>\r\n<polygon fill=\"black\" stroke=\"black\" points=\"1286.36,-310.87 1276.94,-306.02 1281.29,-315.68 1286.36,-310.87\"/>\r\n</g>\r\n<!-- 22 -->\r\n<g id=\"node23\" class=\"node\">\r\n<title>22</title>\r\n<polygon fill=\"none\" stroke=\"black\" points=\"1575.5,-306 1347.5,-306 1347.5,-223 1575.5,-223 1575.5,-306\"/>\r\n<text text-anchor=\"middle\" x=\"1461.5\" y=\"-290.8\" font-family=\"Helvetica,sans-Serif\" font-size=\"14.00\">Monthly_Inhand_Salary &lt;= &#45;1.204</text>\r\n<text text-anchor=\"middle\" x=\"1461.5\" y=\"-275.8\" font-family=\"Helvetica,sans-Serif\" font-size=\"14.00\">gini = 0.274</text>\r\n<text text-anchor=\"middle\" x=\"1461.5\" y=\"-260.8\" font-family=\"Helvetica,sans-Serif\" font-size=\"14.00\">samples = 1317</text>\r\n<text text-anchor=\"middle\" x=\"1461.5\" y=\"-245.8\" font-family=\"Helvetica,sans-Serif\" font-size=\"14.00\">value = [133, 1112, 72]</text>\r\n<text text-anchor=\"middle\" x=\"1461.5\" y=\"-230.8\" font-family=\"Helvetica,sans-Serif\" font-size=\"14.00\">class = 1</text>\r\n</g>\r\n<!-- 18&#45;&gt;22 -->\r\n<g id=\"edge22\" class=\"edge\">\r\n<title>18&#45;&gt;22</title>\r\n<path fill=\"none\" stroke=\"black\" d=\"M1388.36,-341.91C1397.13,-332.74 1406.53,-322.93 1415.56,-313.49\"/>\r\n<polygon fill=\"black\" stroke=\"black\" points=\"1418.32,-315.66 1422.71,-306.02 1413.27,-310.82 1418.32,-315.66\"/>\r\n</g>\r\n<!-- 20 -->\r\n<g id=\"node21\" class=\"node\">\r\n<title>20</title>\r\n<polygon fill=\"none\" stroke=\"black\" points=\"1185,-179.5 1072,-179.5 1072,-111.5 1185,-111.5 1185,-179.5\"/>\r\n<text text-anchor=\"middle\" x=\"1128.5\" y=\"-164.3\" font-family=\"Helvetica,sans-Serif\" font-size=\"14.00\">gini = 0.0</text>\r\n<text text-anchor=\"middle\" x=\"1128.5\" y=\"-149.3\" font-family=\"Helvetica,sans-Serif\" font-size=\"14.00\">samples = 1</text>\r\n<text text-anchor=\"middle\" x=\"1128.5\" y=\"-134.3\" font-family=\"Helvetica,sans-Serif\" font-size=\"14.00\">value = [0, 1, 0]</text>\r\n<text text-anchor=\"middle\" x=\"1128.5\" y=\"-119.3\" font-family=\"Helvetica,sans-Serif\" font-size=\"14.00\">class = 1</text>\r\n</g>\r\n<!-- 19&#45;&gt;20 -->\r\n<g id=\"edge20\" class=\"edge\">\r\n<title>19&#45;&gt;20</title>\r\n<path fill=\"none\" stroke=\"black\" d=\"M1200.34,-222.91C1189.44,-211.32 1177.57,-198.7 1166.68,-187.11\"/>\r\n<polygon fill=\"black\" stroke=\"black\" points=\"1169.08,-184.56 1159.68,-179.67 1163.98,-189.35 1169.08,-184.56\"/>\r\n</g>\r\n<!-- 21 -->\r\n<g id=\"node22\" class=\"node\">\r\n<title>21</title>\r\n<polygon fill=\"none\" stroke=\"black\" points=\"1316,-179.5 1203,-179.5 1203,-111.5 1316,-111.5 1316,-179.5\"/>\r\n<text text-anchor=\"middle\" x=\"1259.5\" y=\"-164.3\" font-family=\"Helvetica,sans-Serif\" font-size=\"14.00\">gini = 0.0</text>\r\n<text text-anchor=\"middle\" x=\"1259.5\" y=\"-149.3\" font-family=\"Helvetica,sans-Serif\" font-size=\"14.00\">samples = 4</text>\r\n<text text-anchor=\"middle\" x=\"1259.5\" y=\"-134.3\" font-family=\"Helvetica,sans-Serif\" font-size=\"14.00\">value = [4, 0, 0]</text>\r\n<text text-anchor=\"middle\" x=\"1259.5\" y=\"-119.3\" font-family=\"Helvetica,sans-Serif\" font-size=\"14.00\">class = 0</text>\r\n</g>\r\n<!-- 19&#45;&gt;21 -->\r\n<g id=\"edge21\" class=\"edge\">\r\n<title>19&#45;&gt;21</title>\r\n<path fill=\"none\" stroke=\"black\" d=\"M1245.79,-222.91C1247.71,-212.2 1249.79,-200.62 1251.73,-189.78\"/>\r\n<polygon fill=\"black\" stroke=\"black\" points=\"1255.23,-190.13 1253.55,-179.67 1248.34,-188.89 1255.23,-190.13\"/>\r\n</g>\r\n<!-- 23 -->\r\n<g id=\"node24\" class=\"node\">\r\n<title>23</title>\r\n<polygon fill=\"none\" stroke=\"black\" points=\"1546.5,-187 1334.5,-187 1334.5,-104 1546.5,-104 1546.5,-187\"/>\r\n<text text-anchor=\"middle\" x=\"1440.5\" y=\"-171.8\" font-family=\"Helvetica,sans-Serif\" font-size=\"14.00\">Occupation_Scientist &lt;= 1.798</text>\r\n<text text-anchor=\"middle\" x=\"1440.5\" y=\"-156.8\" font-family=\"Helvetica,sans-Serif\" font-size=\"14.00\">gini = 0.105</text>\r\n<text text-anchor=\"middle\" x=\"1440.5\" y=\"-141.8\" font-family=\"Helvetica,sans-Serif\" font-size=\"14.00\">samples = 73</text>\r\n<text text-anchor=\"middle\" x=\"1440.5\" y=\"-126.8\" font-family=\"Helvetica,sans-Serif\" font-size=\"14.00\">value = [2, 69, 2]</text>\r\n<text text-anchor=\"middle\" x=\"1440.5\" y=\"-111.8\" font-family=\"Helvetica,sans-Serif\" font-size=\"14.00\">class = 1</text>\r\n</g>\r\n<!-- 22&#45;&gt;23 -->\r\n<g id=\"edge23\" class=\"edge\">\r\n<title>22&#45;&gt;23</title>\r\n<path fill=\"none\" stroke=\"black\" d=\"M1454.21,-222.91C1452.72,-214.56 1451.12,-205.67 1449.57,-197.02\"/>\r\n<polygon fill=\"black\" stroke=\"black\" points=\"1452.98,-196.25 1447.77,-187.02 1446.09,-197.48 1452.98,-196.25\"/>\r\n</g>\r\n<!-- 26 -->\r\n<g id=\"node27\" class=\"node\">\r\n<title>26</title>\r\n<polygon fill=\"none\" stroke=\"black\" points=\"1814,-187 1565,-187 1565,-104 1814,-104 1814,-187\"/>\r\n<text text-anchor=\"middle\" x=\"1689.5\" y=\"-171.8\" font-family=\"Helvetica,sans-Serif\" font-size=\"14.00\">Amount_invested_monthly &lt;= &#45;1.291</text>\r\n<text text-anchor=\"middle\" x=\"1689.5\" y=\"-156.8\" font-family=\"Helvetica,sans-Serif\" font-size=\"14.00\">gini = 0.283</text>\r\n<text text-anchor=\"middle\" x=\"1689.5\" y=\"-141.8\" font-family=\"Helvetica,sans-Serif\" font-size=\"14.00\">samples = 1244</text>\r\n<text text-anchor=\"middle\" x=\"1689.5\" y=\"-126.8\" font-family=\"Helvetica,sans-Serif\" font-size=\"14.00\">value = [131, 1043, 70]</text>\r\n<text text-anchor=\"middle\" x=\"1689.5\" y=\"-111.8\" font-family=\"Helvetica,sans-Serif\" font-size=\"14.00\">class = 1</text>\r\n</g>\r\n<!-- 22&#45;&gt;26 -->\r\n<g id=\"edge26\" class=\"edge\">\r\n<title>22&#45;&gt;26</title>\r\n<path fill=\"none\" stroke=\"black\" d=\"M1540.6,-222.91C1560.23,-212.83 1581.39,-201.98 1601.42,-191.7\"/>\r\n<polygon fill=\"black\" stroke=\"black\" points=\"1603.24,-194.7 1610.54,-187.02 1600.04,-188.47 1603.24,-194.7\"/>\r\n</g>\r\n<!-- 24 -->\r\n<g id=\"node25\" class=\"node\">\r\n<title>24</title>\r\n<polygon fill=\"none\" stroke=\"black\" points=\"1366,-68 1245,-68 1245,0 1366,0 1366,-68\"/>\r\n<text text-anchor=\"middle\" x=\"1305.5\" y=\"-52.8\" font-family=\"Helvetica,sans-Serif\" font-size=\"14.00\">gini = 0.082</text>\r\n<text text-anchor=\"middle\" x=\"1305.5\" y=\"-37.8\" font-family=\"Helvetica,sans-Serif\" font-size=\"14.00\">samples = 71</text>\r\n<text text-anchor=\"middle\" x=\"1305.5\" y=\"-22.8\" font-family=\"Helvetica,sans-Serif\" font-size=\"14.00\">value = [1, 68, 2]</text>\r\n<text text-anchor=\"middle\" x=\"1305.5\" y=\"-7.8\" font-family=\"Helvetica,sans-Serif\" font-size=\"14.00\">class = 1</text>\r\n</g>\r\n<!-- 23&#45;&gt;24 -->\r\n<g id=\"edge24\" class=\"edge\">\r\n<title>23&#45;&gt;24</title>\r\n<path fill=\"none\" stroke=\"black\" d=\"M1390.23,-103.73C1378.54,-94.24 1366.1,-84.16 1354.46,-74.72\"/>\r\n<polygon fill=\"black\" stroke=\"black\" points=\"1356.53,-71.88 1346.55,-68.3 1352.12,-77.32 1356.53,-71.88\"/>\r\n</g>\r\n<!-- 25 -->\r\n<g id=\"node26\" class=\"node\">\r\n<title>25</title>\r\n<polygon fill=\"none\" stroke=\"black\" points=\"1497,-68 1384,-68 1384,0 1497,0 1497,-68\"/>\r\n<text text-anchor=\"middle\" x=\"1440.5\" y=\"-52.8\" font-family=\"Helvetica,sans-Serif\" font-size=\"14.00\">gini = 0.5</text>\r\n<text text-anchor=\"middle\" x=\"1440.5\" y=\"-37.8\" font-family=\"Helvetica,sans-Serif\" font-size=\"14.00\">samples = 2</text>\r\n<text text-anchor=\"middle\" x=\"1440.5\" y=\"-22.8\" font-family=\"Helvetica,sans-Serif\" font-size=\"14.00\">value = [1, 1, 0]</text>\r\n<text text-anchor=\"middle\" x=\"1440.5\" y=\"-7.8\" font-family=\"Helvetica,sans-Serif\" font-size=\"14.00\">class = 0</text>\r\n</g>\r\n<!-- 23&#45;&gt;25 -->\r\n<g id=\"edge25\" class=\"edge\">\r\n<title>23&#45;&gt;25</title>\r\n<path fill=\"none\" stroke=\"black\" d=\"M1440.5,-103.73C1440.5,-95.52 1440.5,-86.86 1440.5,-78.56\"/>\r\n<polygon fill=\"black\" stroke=\"black\" points=\"1444,-78.3 1440.5,-68.3 1437,-78.3 1444,-78.3\"/>\r\n</g>\r\n<!-- 27 -->\r\n<g id=\"node28\" class=\"node\">\r\n<title>27</title>\r\n<polygon fill=\"none\" stroke=\"black\" points=\"1628,-68 1515,-68 1515,0 1628,0 1628,-68\"/>\r\n<text text-anchor=\"middle\" x=\"1571.5\" y=\"-52.8\" font-family=\"Helvetica,sans-Serif\" font-size=\"14.00\">gini = 0.0</text>\r\n<text text-anchor=\"middle\" x=\"1571.5\" y=\"-37.8\" font-family=\"Helvetica,sans-Serif\" font-size=\"14.00\">samples = 2</text>\r\n<text text-anchor=\"middle\" x=\"1571.5\" y=\"-22.8\" font-family=\"Helvetica,sans-Serif\" font-size=\"14.00\">value = [0, 0, 2]</text>\r\n<text text-anchor=\"middle\" x=\"1571.5\" y=\"-7.8\" font-family=\"Helvetica,sans-Serif\" font-size=\"14.00\">class = 2</text>\r\n</g>\r\n<!-- 26&#45;&gt;27 -->\r\n<g id=\"edge27\" class=\"edge\">\r\n<title>26&#45;&gt;27</title>\r\n<path fill=\"none\" stroke=\"black\" d=\"M1645.56,-103.73C1635.54,-94.42 1624.89,-84.54 1614.89,-75.26\"/>\r\n<polygon fill=\"black\" stroke=\"black\" points=\"1617.1,-72.54 1607.38,-68.3 1612.33,-77.67 1617.1,-72.54\"/>\r\n</g>\r\n<!-- 28 -->\r\n<g id=\"node29\" class=\"node\">\r\n<title>28</title>\r\n<polygon fill=\"none\" stroke=\"black\" points=\"1808.5,-68 1646.5,-68 1646.5,0 1808.5,0 1808.5,-68\"/>\r\n<text text-anchor=\"middle\" x=\"1727.5\" y=\"-52.8\" font-family=\"Helvetica,sans-Serif\" font-size=\"14.00\">gini = 0.281</text>\r\n<text text-anchor=\"middle\" x=\"1727.5\" y=\"-37.8\" font-family=\"Helvetica,sans-Serif\" font-size=\"14.00\">samples = 1242</text>\r\n<text text-anchor=\"middle\" x=\"1727.5\" y=\"-22.8\" font-family=\"Helvetica,sans-Serif\" font-size=\"14.00\">value = [131, 1043, 68]</text>\r\n<text text-anchor=\"middle\" x=\"1727.5\" y=\"-7.8\" font-family=\"Helvetica,sans-Serif\" font-size=\"14.00\">class = 1</text>\r\n</g>\r\n<!-- 26&#45;&gt;28 -->\r\n<g id=\"edge28\" class=\"edge\">\r\n<title>26&#45;&gt;28</title>\r\n<path fill=\"none\" stroke=\"black\" d=\"M1703.65,-103.73C1706.56,-95.34 1709.64,-86.47 1712.58,-78.01\"/>\r\n<polygon fill=\"black\" stroke=\"black\" points=\"1715.97,-78.89 1715.94,-68.3 1709.36,-76.6 1715.97,-78.89\"/>\r\n</g>\r\n<!-- 30 -->\r\n<g id=\"node31\" class=\"node\">\r\n<title>30</title>\r\n<polygon fill=\"none\" stroke=\"black\" points=\"2941,-425 2722,-425 2722,-342 2941,-342 2941,-425\"/>\r\n<text text-anchor=\"middle\" x=\"2831.5\" y=\"-409.8\" font-family=\"Helvetica,sans-Serif\" font-size=\"14.00\">Total_EMI_per_month &lt;= 2.359</text>\r\n<text text-anchor=\"middle\" x=\"2831.5\" y=\"-394.8\" font-family=\"Helvetica,sans-Serif\" font-size=\"14.00\">gini = 0.611</text>\r\n<text text-anchor=\"middle\" x=\"2831.5\" y=\"-379.8\" font-family=\"Helvetica,sans-Serif\" font-size=\"14.00\">samples = 17779</text>\r\n<text text-anchor=\"middle\" x=\"2831.5\" y=\"-364.8\" font-family=\"Helvetica,sans-Serif\" font-size=\"14.00\">value = [2636, 6762, 8381]</text>\r\n<text text-anchor=\"middle\" x=\"2831.5\" y=\"-349.8\" font-family=\"Helvetica,sans-Serif\" font-size=\"14.00\">class = 2</text>\r\n</g>\r\n<!-- 29&#45;&gt;30 -->\r\n<g id=\"edge30\" class=\"edge\">\r\n<title>29&#45;&gt;30</title>\r\n<path fill=\"none\" stroke=\"black\" d=\"M3009.13,-460.91C2985.19,-450.61 2959.33,-439.49 2934.96,-429\"/>\r\n<polygon fill=\"black\" stroke=\"black\" points=\"2936.27,-425.76 2925.7,-425.02 2933.51,-432.19 2936.27,-425.76\"/>\r\n</g>\r\n<!-- 45 -->\r\n<g id=\"node46\" class=\"node\">\r\n<title>45</title>\r\n<polygon fill=\"none\" stroke=\"black\" points=\"3549.5,-425 3339.5,-425 3339.5,-342 3549.5,-342 3549.5,-425\"/>\r\n<text text-anchor=\"middle\" x=\"3444.5\" y=\"-409.8\" font-family=\"Helvetica,sans-Serif\" font-size=\"14.00\">Occupation_Teacher &lt;= 1.813</text>\r\n<text text-anchor=\"middle\" x=\"3444.5\" y=\"-394.8\" font-family=\"Helvetica,sans-Serif\" font-size=\"14.00\">gini = 0.621</text>\r\n<text text-anchor=\"middle\" x=\"3444.5\" y=\"-379.8\" font-family=\"Helvetica,sans-Serif\" font-size=\"14.00\">samples = 4502</text>\r\n<text text-anchor=\"middle\" x=\"3444.5\" y=\"-364.8\" font-family=\"Helvetica,sans-Serif\" font-size=\"14.00\">value = [716, 1832, 1954]</text>\r\n<text text-anchor=\"middle\" x=\"3444.5\" y=\"-349.8\" font-family=\"Helvetica,sans-Serif\" font-size=\"14.00\">class = 2</text>\r\n</g>\r\n<!-- 29&#45;&gt;45 -->\r\n<g id=\"edge45\" class=\"edge\">\r\n<title>29&#45;&gt;45</title>\r\n<path fill=\"none\" stroke=\"black\" d=\"M3221.81,-460.91C3256.8,-448.9 3295.03,-435.78 3329.79,-423.86\"/>\r\n<polygon fill=\"black\" stroke=\"black\" points=\"3331.18,-427.08 3339.5,-420.53 3328.9,-420.46 3331.18,-427.08\"/>\r\n</g>\r\n<!-- 31 -->\r\n<g id=\"node32\" class=\"node\">\r\n<title>31</title>\r\n<polygon fill=\"none\" stroke=\"black\" points=\"2477,-306 2258,-306 2258,-223 2477,-223 2477,-306\"/>\r\n<text text-anchor=\"middle\" x=\"2367.5\" y=\"-290.8\" font-family=\"Helvetica,sans-Serif\" font-size=\"14.00\">Total_EMI_per_month &lt;= 1.535</text>\r\n<text text-anchor=\"middle\" x=\"2367.5\" y=\"-275.8\" font-family=\"Helvetica,sans-Serif\" font-size=\"14.00\">gini = 0.61</text>\r\n<text text-anchor=\"middle\" x=\"2367.5\" y=\"-260.8\" font-family=\"Helvetica,sans-Serif\" font-size=\"14.00\">samples = 17200</text>\r\n<text text-anchor=\"middle\" x=\"2367.5\" y=\"-245.8\" font-family=\"Helvetica,sans-Serif\" font-size=\"14.00\">value = [2517, 6528, 8155]</text>\r\n<text text-anchor=\"middle\" x=\"2367.5\" y=\"-230.8\" font-family=\"Helvetica,sans-Serif\" font-size=\"14.00\">class = 2</text>\r\n</g>\r\n<!-- 30&#45;&gt;31 -->\r\n<g id=\"edge31\" class=\"edge\">\r\n<title>30&#45;&gt;31</title>\r\n<path fill=\"none\" stroke=\"black\" d=\"M2721.83,-354.85C2651.33,-337.07 2559.71,-313.97 2487.3,-295.71\"/>\r\n<polygon fill=\"black\" stroke=\"black\" points=\"2487.76,-292.22 2477.21,-293.16 2486.05,-299 2487.76,-292.22\"/>\r\n</g>\r\n<!-- 38 -->\r\n<g id=\"node39\" class=\"node\">\r\n<title>38</title>\r\n<polygon fill=\"none\" stroke=\"black\" points=\"2943.5,-306 2719.5,-306 2719.5,-223 2943.5,-223 2943.5,-306\"/>\r\n<text text-anchor=\"middle\" x=\"2831.5\" y=\"-290.8\" font-family=\"Helvetica,sans-Serif\" font-size=\"14.00\">Changed_Credit_Limit &lt;= &#45;1.158</text>\r\n<text text-anchor=\"middle\" x=\"2831.5\" y=\"-275.8\" font-family=\"Helvetica,sans-Serif\" font-size=\"14.00\">gini = 0.642</text>\r\n<text text-anchor=\"middle\" x=\"2831.5\" y=\"-260.8\" font-family=\"Helvetica,sans-Serif\" font-size=\"14.00\">samples = 579</text>\r\n<text text-anchor=\"middle\" x=\"2831.5\" y=\"-245.8\" font-family=\"Helvetica,sans-Serif\" font-size=\"14.00\">value = [119, 234, 226]</text>\r\n<text text-anchor=\"middle\" x=\"2831.5\" y=\"-230.8\" font-family=\"Helvetica,sans-Serif\" font-size=\"14.00\">class = 1</text>\r\n</g>\r\n<!-- 30&#45;&gt;38 -->\r\n<g id=\"edge38\" class=\"edge\">\r\n<title>30&#45;&gt;38</title>\r\n<path fill=\"none\" stroke=\"black\" d=\"M2831.5,-341.91C2831.5,-333.65 2831.5,-324.86 2831.5,-316.3\"/>\r\n<polygon fill=\"black\" stroke=\"black\" points=\"2835,-316.02 2831.5,-306.02 2828,-316.02 2835,-316.02\"/>\r\n</g>\r\n<!-- 32 -->\r\n<g id=\"node33\" class=\"node\">\r\n<title>32</title>\r\n<polygon fill=\"none\" stroke=\"black\" points=\"2183,-187 1986,-187 1986,-104 2183,-104 2183,-187\"/>\r\n<text text-anchor=\"middle\" x=\"2084.5\" y=\"-171.8\" font-family=\"Helvetica,sans-Serif\" font-size=\"14.00\">Outstanding_Debt &lt;= &#45;0.996</text>\r\n<text text-anchor=\"middle\" x=\"2084.5\" y=\"-156.8\" font-family=\"Helvetica,sans-Serif\" font-size=\"14.00\">gini = 0.61</text>\r\n<text text-anchor=\"middle\" x=\"2084.5\" y=\"-141.8\" font-family=\"Helvetica,sans-Serif\" font-size=\"14.00\">samples = 16518</text>\r\n<text text-anchor=\"middle\" x=\"2084.5\" y=\"-126.8\" font-family=\"Helvetica,sans-Serif\" font-size=\"14.00\">value = [2418, 6315, 7785]</text>\r\n<text text-anchor=\"middle\" x=\"2084.5\" y=\"-111.8\" font-family=\"Helvetica,sans-Serif\" font-size=\"14.00\">class = 2</text>\r\n</g>\r\n<!-- 31&#45;&gt;32 -->\r\n<g id=\"edge32\" class=\"edge\">\r\n<title>31&#45;&gt;32</title>\r\n<path fill=\"none\" stroke=\"black\" d=\"M2269.31,-222.91C2244.29,-212.56 2217.27,-201.39 2191.81,-190.87\"/>\r\n<polygon fill=\"black\" stroke=\"black\" points=\"2193.09,-187.61 2182.51,-187.02 2190.42,-194.08 2193.09,-187.61\"/>\r\n</g>\r\n<!-- 35 -->\r\n<g id=\"node36\" class=\"node\">\r\n<title>35</title>\r\n<polygon fill=\"none\" stroke=\"black\" points=\"2455.5,-187 2279.5,-187 2279.5,-104 2455.5,-104 2455.5,-187\"/>\r\n<text text-anchor=\"middle\" x=\"2367.5\" y=\"-171.8\" font-family=\"Helvetica,sans-Serif\" font-size=\"14.00\">Annual_Income &lt;= 1.145</text>\r\n<text text-anchor=\"middle\" x=\"2367.5\" y=\"-156.8\" font-family=\"Helvetica,sans-Serif\" font-size=\"14.00\">gini = 0.587</text>\r\n<text text-anchor=\"middle\" x=\"2367.5\" y=\"-141.8\" font-family=\"Helvetica,sans-Serif\" font-size=\"14.00\">samples = 682</text>\r\n<text text-anchor=\"middle\" x=\"2367.5\" y=\"-126.8\" font-family=\"Helvetica,sans-Serif\" font-size=\"14.00\">value = [99, 213, 370]</text>\r\n<text text-anchor=\"middle\" x=\"2367.5\" y=\"-111.8\" font-family=\"Helvetica,sans-Serif\" font-size=\"14.00\">class = 2</text>\r\n</g>\r\n<!-- 31&#45;&gt;35 -->\r\n<g id=\"edge35\" class=\"edge\">\r\n<title>31&#45;&gt;35</title>\r\n<path fill=\"none\" stroke=\"black\" d=\"M2367.5,-222.91C2367.5,-214.65 2367.5,-205.86 2367.5,-197.3\"/>\r\n<polygon fill=\"black\" stroke=\"black\" points=\"2371,-197.02 2367.5,-187.02 2364,-197.02 2371,-197.02\"/>\r\n</g>\r\n<!-- 33 -->\r\n<g id=\"node34\" class=\"node\">\r\n<title>33</title>\r\n<polygon fill=\"none\" stroke=\"black\" points=\"1972.5,-68 1826.5,-68 1826.5,0 1972.5,0 1972.5,-68\"/>\r\n<text text-anchor=\"middle\" x=\"1899.5\" y=\"-52.8\" font-family=\"Helvetica,sans-Serif\" font-size=\"14.00\">gini = 0.614</text>\r\n<text text-anchor=\"middle\" x=\"1899.5\" y=\"-37.8\" font-family=\"Helvetica,sans-Serif\" font-size=\"14.00\">samples = 219</text>\r\n<text text-anchor=\"middle\" x=\"1899.5\" y=\"-22.8\" font-family=\"Helvetica,sans-Serif\" font-size=\"14.00\">value = [36, 107, 76]</text>\r\n<text text-anchor=\"middle\" x=\"1899.5\" y=\"-7.8\" font-family=\"Helvetica,sans-Serif\" font-size=\"14.00\">class = 1</text>\r\n</g>\r\n<!-- 32&#45;&gt;33 -->\r\n<g id=\"edge33\" class=\"edge\">\r\n<title>32&#45;&gt;33</title>\r\n<path fill=\"none\" stroke=\"black\" d=\"M2015.88,-103.88C1998.89,-93.83 1980.75,-83.09 1963.97,-73.16\"/>\r\n<polygon fill=\"black\" stroke=\"black\" points=\"1965.71,-70.12 1955.33,-68.04 1962.15,-76.15 1965.71,-70.12\"/>\r\n</g>\r\n<!-- 34 -->\r\n<g id=\"node35\" class=\"node\">\r\n<title>34</title>\r\n<polygon fill=\"none\" stroke=\"black\" points=\"2178,-68 1991,-68 1991,0 2178,0 2178,-68\"/>\r\n<text text-anchor=\"middle\" x=\"2084.5\" y=\"-52.8\" font-family=\"Helvetica,sans-Serif\" font-size=\"14.00\">gini = 0.61</text>\r\n<text text-anchor=\"middle\" x=\"2084.5\" y=\"-37.8\" font-family=\"Helvetica,sans-Serif\" font-size=\"14.00\">samples = 16299</text>\r\n<text text-anchor=\"middle\" x=\"2084.5\" y=\"-22.8\" font-family=\"Helvetica,sans-Serif\" font-size=\"14.00\">value = [2382, 6208, 7709]</text>\r\n<text text-anchor=\"middle\" x=\"2084.5\" y=\"-7.8\" font-family=\"Helvetica,sans-Serif\" font-size=\"14.00\">class = 2</text>\r\n</g>\r\n<!-- 32&#45;&gt;34 -->\r\n<g id=\"edge34\" class=\"edge\">\r\n<title>32&#45;&gt;34</title>\r\n<path fill=\"none\" stroke=\"black\" d=\"M2084.5,-103.73C2084.5,-95.52 2084.5,-86.86 2084.5,-78.56\"/>\r\n<polygon fill=\"black\" stroke=\"black\" points=\"2088,-78.3 2084.5,-68.3 2081,-78.3 2088,-78.3\"/>\r\n</g>\r\n<!-- 36 -->\r\n<g id=\"node37\" class=\"node\">\r\n<title>36</title>\r\n<polygon fill=\"none\" stroke=\"black\" points=\"2350.5,-68 2196.5,-68 2196.5,0 2350.5,0 2350.5,-68\"/>\r\n<text text-anchor=\"middle\" x=\"2273.5\" y=\"-52.8\" font-family=\"Helvetica,sans-Serif\" font-size=\"14.00\">gini = 0.632</text>\r\n<text text-anchor=\"middle\" x=\"2273.5\" y=\"-37.8\" font-family=\"Helvetica,sans-Serif\" font-size=\"14.00\">samples = 352</text>\r\n<text text-anchor=\"middle\" x=\"2273.5\" y=\"-22.8\" font-family=\"Helvetica,sans-Serif\" font-size=\"14.00\">value = [75, 110, 167]</text>\r\n<text text-anchor=\"middle\" x=\"2273.5\" y=\"-7.8\" font-family=\"Helvetica,sans-Serif\" font-size=\"14.00\">class = 2</text>\r\n</g>\r\n<!-- 35&#45;&gt;36 -->\r\n<g id=\"edge36\" class=\"edge\">\r\n<title>35&#45;&gt;36</title>\r\n<path fill=\"none\" stroke=\"black\" d=\"M2332.5,-103.73C2324.75,-94.7 2316.53,-85.12 2308.77,-76.08\"/>\r\n<polygon fill=\"black\" stroke=\"black\" points=\"2311.26,-73.61 2302.09,-68.3 2305.94,-78.17 2311.26,-73.61\"/>\r\n</g>\r\n<!-- 37 -->\r\n<g id=\"node38\" class=\"node\">\r\n<title>37</title>\r\n<polygon fill=\"none\" stroke=\"black\" points=\"2522.5,-68 2368.5,-68 2368.5,0 2522.5,0 2522.5,-68\"/>\r\n<text text-anchor=\"middle\" x=\"2445.5\" y=\"-52.8\" font-family=\"Helvetica,sans-Serif\" font-size=\"14.00\">gini = 0.519</text>\r\n<text text-anchor=\"middle\" x=\"2445.5\" y=\"-37.8\" font-family=\"Helvetica,sans-Serif\" font-size=\"14.00\">samples = 330</text>\r\n<text text-anchor=\"middle\" x=\"2445.5\" y=\"-22.8\" font-family=\"Helvetica,sans-Serif\" font-size=\"14.00\">value = [24, 103, 203]</text>\r\n<text text-anchor=\"middle\" x=\"2445.5\" y=\"-7.8\" font-family=\"Helvetica,sans-Serif\" font-size=\"14.00\">class = 2</text>\r\n</g>\r\n<!-- 35&#45;&gt;37 -->\r\n<g id=\"edge37\" class=\"edge\">\r\n<title>35&#45;&gt;37</title>\r\n<path fill=\"none\" stroke=\"black\" d=\"M2396.54,-103.73C2402.85,-94.88 2409.52,-85.51 2415.85,-76.63\"/>\r\n<polygon fill=\"black\" stroke=\"black\" points=\"2418.83,-78.48 2421.78,-68.3 2413.13,-74.41 2418.83,-78.48\"/>\r\n</g>\r\n<!-- 39 -->\r\n<g id=\"node40\" class=\"node\">\r\n<title>39</title>\r\n<polygon fill=\"none\" stroke=\"black\" points=\"2840.5,-187 2616.5,-187 2616.5,-104 2840.5,-104 2840.5,-187\"/>\r\n<text text-anchor=\"middle\" x=\"2728.5\" y=\"-171.8\" font-family=\"Helvetica,sans-Serif\" font-size=\"14.00\">Changed_Credit_Limit &lt;= &#45;1.407</text>\r\n<text text-anchor=\"middle\" x=\"2728.5\" y=\"-156.8\" font-family=\"Helvetica,sans-Serif\" font-size=\"14.00\">gini = 0.659</text>\r\n<text text-anchor=\"middle\" x=\"2728.5\" y=\"-141.8\" font-family=\"Helvetica,sans-Serif\" font-size=\"14.00\">samples = 128</text>\r\n<text text-anchor=\"middle\" x=\"2728.5\" y=\"-126.8\" font-family=\"Helvetica,sans-Serif\" font-size=\"14.00\">value = [42, 35, 51]</text>\r\n<text text-anchor=\"middle\" x=\"2728.5\" y=\"-111.8\" font-family=\"Helvetica,sans-Serif\" font-size=\"14.00\">class = 2</text>\r\n</g>\r\n<!-- 38&#45;&gt;39 -->\r\n<g id=\"edge39\" class=\"edge\">\r\n<title>38&#45;&gt;39</title>\r\n<path fill=\"none\" stroke=\"black\" d=\"M2795.76,-222.91C2787.78,-213.83 2779.23,-204.12 2770.99,-194.77\"/>\r\n<polygon fill=\"black\" stroke=\"black\" points=\"2773.41,-192.21 2764.17,-187.02 2768.15,-196.84 2773.41,-192.21\"/>\r\n</g>\r\n<!-- 42 -->\r\n<g id=\"node43\" class=\"node\">\r\n<title>42</title>\r\n<polygon fill=\"none\" stroke=\"black\" points=\"3012.5,-187 2858.5,-187 2858.5,-104 3012.5,-104 3012.5,-187\"/>\r\n<text text-anchor=\"middle\" x=\"2935.5\" y=\"-171.8\" font-family=\"Helvetica,sans-Serif\" font-size=\"14.00\">Age &lt;= 0.699</text>\r\n<text text-anchor=\"middle\" x=\"2935.5\" y=\"-156.8\" font-family=\"Helvetica,sans-Serif\" font-size=\"14.00\">gini = 0.626</text>\r\n<text text-anchor=\"middle\" x=\"2935.5\" y=\"-141.8\" font-family=\"Helvetica,sans-Serif\" font-size=\"14.00\">samples = 451</text>\r\n<text text-anchor=\"middle\" x=\"2935.5\" y=\"-126.8\" font-family=\"Helvetica,sans-Serif\" font-size=\"14.00\">value = [77, 199, 175]</text>\r\n<text text-anchor=\"middle\" x=\"2935.5\" y=\"-111.8\" font-family=\"Helvetica,sans-Serif\" font-size=\"14.00\">class = 1</text>\r\n</g>\r\n<!-- 38&#45;&gt;42 -->\r\n<g id=\"edge42\" class=\"edge\">\r\n<title>38&#45;&gt;42</title>\r\n<path fill=\"none\" stroke=\"black\" d=\"M2867.58,-222.91C2875.65,-213.83 2884.28,-204.12 2892.59,-194.77\"/>\r\n<polygon fill=\"black\" stroke=\"black\" points=\"2895.45,-196.82 2899.48,-187.02 2890.22,-192.17 2895.45,-196.82\"/>\r\n</g>\r\n<!-- 40 -->\r\n<g id=\"node41\" class=\"node\">\r\n<title>40</title>\r\n<polygon fill=\"none\" stroke=\"black\" points=\"2678,-68 2541,-68 2541,0 2678,0 2678,-68\"/>\r\n<text text-anchor=\"middle\" x=\"2609.5\" y=\"-52.8\" font-family=\"Helvetica,sans-Serif\" font-size=\"14.00\">gini = 0.641</text>\r\n<text text-anchor=\"middle\" x=\"2609.5\" y=\"-37.8\" font-family=\"Helvetica,sans-Serif\" font-size=\"14.00\">samples = 93</text>\r\n<text text-anchor=\"middle\" x=\"2609.5\" y=\"-22.8\" font-family=\"Helvetica,sans-Serif\" font-size=\"14.00\">value = [21, 30, 42]</text>\r\n<text text-anchor=\"middle\" x=\"2609.5\" y=\"-7.8\" font-family=\"Helvetica,sans-Serif\" font-size=\"14.00\">class = 2</text>\r\n</g>\r\n<!-- 39&#45;&gt;40 -->\r\n<g id=\"edge40\" class=\"edge\">\r\n<title>39&#45;&gt;40</title>\r\n<path fill=\"none\" stroke=\"black\" d=\"M2684.19,-103.73C2674.08,-94.42 2663.34,-84.54 2653.25,-75.26\"/>\r\n<polygon fill=\"black\" stroke=\"black\" points=\"2655.42,-72.5 2645.69,-68.3 2650.68,-77.65 2655.42,-72.5\"/>\r\n</g>\r\n<!-- 41 -->\r\n<g id=\"node42\" class=\"node\">\r\n<title>41</title>\r\n<polygon fill=\"none\" stroke=\"black\" points=\"2817,-68 2696,-68 2696,0 2817,0 2817,-68\"/>\r\n<text text-anchor=\"middle\" x=\"2756.5\" y=\"-52.8\" font-family=\"Helvetica,sans-Serif\" font-size=\"14.00\">gini = 0.553</text>\r\n<text text-anchor=\"middle\" x=\"2756.5\" y=\"-37.8\" font-family=\"Helvetica,sans-Serif\" font-size=\"14.00\">samples = 35</text>\r\n<text text-anchor=\"middle\" x=\"2756.5\" y=\"-22.8\" font-family=\"Helvetica,sans-Serif\" font-size=\"14.00\">value = [21, 5, 9]</text>\r\n<text text-anchor=\"middle\" x=\"2756.5\" y=\"-7.8\" font-family=\"Helvetica,sans-Serif\" font-size=\"14.00\">class = 0</text>\r\n</g>\r\n<!-- 39&#45;&gt;41 -->\r\n<g id=\"edge41\" class=\"edge\">\r\n<title>39&#45;&gt;41</title>\r\n<path fill=\"none\" stroke=\"black\" d=\"M2738.93,-103.73C2741.07,-95.34 2743.34,-86.47 2745.5,-78.01\"/>\r\n<polygon fill=\"black\" stroke=\"black\" points=\"2748.9,-78.85 2747.99,-68.3 2742.12,-77.12 2748.9,-78.85\"/>\r\n</g>\r\n<!-- 43 -->\r\n<g id=\"node44\" class=\"node\">\r\n<title>43</title>\r\n<polygon fill=\"none\" stroke=\"black\" points=\"2981.5,-68 2835.5,-68 2835.5,0 2981.5,0 2981.5,-68\"/>\r\n<text text-anchor=\"middle\" x=\"2908.5\" y=\"-52.8\" font-family=\"Helvetica,sans-Serif\" font-size=\"14.00\">gini = 0.598</text>\r\n<text text-anchor=\"middle\" x=\"2908.5\" y=\"-37.8\" font-family=\"Helvetica,sans-Serif\" font-size=\"14.00\">samples = 282</text>\r\n<text text-anchor=\"middle\" x=\"2908.5\" y=\"-22.8\" font-family=\"Helvetica,sans-Serif\" font-size=\"14.00\">value = [40, 144, 98]</text>\r\n<text text-anchor=\"middle\" x=\"2908.5\" y=\"-7.8\" font-family=\"Helvetica,sans-Serif\" font-size=\"14.00\">class = 1</text>\r\n</g>\r\n<!-- 42&#45;&gt;43 -->\r\n<g id=\"edge43\" class=\"edge\">\r\n<title>42&#45;&gt;43</title>\r\n<path fill=\"none\" stroke=\"black\" d=\"M2925.45,-103.73C2923.4,-95.43 2921.24,-86.67 2919.17,-78.28\"/>\r\n<polygon fill=\"black\" stroke=\"black\" points=\"2922.5,-77.17 2916.71,-68.3 2915.71,-78.85 2922.5,-77.17\"/>\r\n</g>\r\n<!-- 44 -->\r\n<g id=\"node45\" class=\"node\">\r\n<title>44</title>\r\n<polygon fill=\"none\" stroke=\"black\" points=\"3137,-68 3000,-68 3000,0 3137,0 3137,-68\"/>\r\n<text text-anchor=\"middle\" x=\"3068.5\" y=\"-52.8\" font-family=\"Helvetica,sans-Serif\" font-size=\"14.00\">gini = 0.639</text>\r\n<text text-anchor=\"middle\" x=\"3068.5\" y=\"-37.8\" font-family=\"Helvetica,sans-Serif\" font-size=\"14.00\">samples = 169</text>\r\n<text text-anchor=\"middle\" x=\"3068.5\" y=\"-22.8\" font-family=\"Helvetica,sans-Serif\" font-size=\"14.00\">value = [37, 55, 77]</text>\r\n<text text-anchor=\"middle\" x=\"3068.5\" y=\"-7.8\" font-family=\"Helvetica,sans-Serif\" font-size=\"14.00\">class = 2</text>\r\n</g>\r\n<!-- 42&#45;&gt;44 -->\r\n<g id=\"edge44\" class=\"edge\">\r\n<title>42&#45;&gt;44</title>\r\n<path fill=\"none\" stroke=\"black\" d=\"M2985.02,-103.73C2996.55,-94.24 3008.8,-84.16 3020.26,-74.72\"/>\r\n<polygon fill=\"black\" stroke=\"black\" points=\"3022.56,-77.36 3028.05,-68.3 3018.11,-71.95 3022.56,-77.36\"/>\r\n</g>\r\n<!-- 46 -->\r\n<g id=\"node47\" class=\"node\">\r\n<title>46</title>\r\n<polygon fill=\"none\" stroke=\"black\" points=\"3537,-306 3352,-306 3352,-223 3537,-223 3537,-306\"/>\r\n<text text-anchor=\"middle\" x=\"3444.5\" y=\"-290.8\" font-family=\"Helvetica,sans-Serif\" font-size=\"14.00\">Monthly_Balance &lt;= 4.394</text>\r\n<text text-anchor=\"middle\" x=\"3444.5\" y=\"-275.8\" font-family=\"Helvetica,sans-Serif\" font-size=\"14.00\">gini = 0.621</text>\r\n<text text-anchor=\"middle\" x=\"3444.5\" y=\"-260.8\" font-family=\"Helvetica,sans-Serif\" font-size=\"14.00\">samples = 4219</text>\r\n<text text-anchor=\"middle\" x=\"3444.5\" y=\"-245.8\" font-family=\"Helvetica,sans-Serif\" font-size=\"14.00\">value = [675, 1740, 1804]</text>\r\n<text text-anchor=\"middle\" x=\"3444.5\" y=\"-230.8\" font-family=\"Helvetica,sans-Serif\" font-size=\"14.00\">class = 2</text>\r\n</g>\r\n<!-- 45&#45;&gt;46 -->\r\n<g id=\"edge46\" class=\"edge\">\r\n<title>45&#45;&gt;46</title>\r\n<path fill=\"none\" stroke=\"black\" d=\"M3444.5,-341.91C3444.5,-333.65 3444.5,-324.86 3444.5,-316.3\"/>\r\n<polygon fill=\"black\" stroke=\"black\" points=\"3448,-316.02 3444.5,-306.02 3441,-316.02 3448,-316.02\"/>\r\n</g>\r\n<!-- 53 -->\r\n<g id=\"node54\" class=\"node\">\r\n<title>53</title>\r\n<polygon fill=\"none\" stroke=\"black\" points=\"3885,-306 3656,-306 3656,-223 3885,-223 3885,-306\"/>\r\n<text text-anchor=\"middle\" x=\"3770.5\" y=\"-290.8\" font-family=\"Helvetica,sans-Serif\" font-size=\"14.00\">Credit_Utilization_Ratio &lt;= &#45;2.058</text>\r\n<text text-anchor=\"middle\" x=\"3770.5\" y=\"-275.8\" font-family=\"Helvetica,sans-Serif\" font-size=\"14.00\">gini = 0.592</text>\r\n<text text-anchor=\"middle\" x=\"3770.5\" y=\"-260.8\" font-family=\"Helvetica,sans-Serif\" font-size=\"14.00\">samples = 283</text>\r\n<text text-anchor=\"middle\" x=\"3770.5\" y=\"-245.8\" font-family=\"Helvetica,sans-Serif\" font-size=\"14.00\">value = [41, 92, 150]</text>\r\n<text text-anchor=\"middle\" x=\"3770.5\" y=\"-230.8\" font-family=\"Helvetica,sans-Serif\" font-size=\"14.00\">class = 2</text>\r\n</g>\r\n<!-- 45&#45;&gt;53 -->\r\n<g id=\"edge53\" class=\"edge\">\r\n<title>45&#45;&gt;53</title>\r\n<path fill=\"none\" stroke=\"black\" d=\"M3549.89,-344.68C3581.22,-333.43 3615.8,-321.02 3648.1,-309.43\"/>\r\n<polygon fill=\"black\" stroke=\"black\" points=\"3649.37,-312.69 3657.6,-306.02 3647,-306.1 3649.37,-312.69\"/>\r\n</g>\r\n<!-- 47 -->\r\n<g id=\"node48\" class=\"node\">\r\n<title>47</title>\r\n<polygon fill=\"none\" stroke=\"black\" points=\"3449.5,-187 3237.5,-187 3237.5,-104 3449.5,-104 3449.5,-187\"/>\r\n<text text-anchor=\"middle\" x=\"3343.5\" y=\"-171.8\" font-family=\"Helvetica,sans-Serif\" font-size=\"14.00\">Num_Credit_Inquiries &lt;= &#45;0.78</text>\r\n<text text-anchor=\"middle\" x=\"3343.5\" y=\"-156.8\" font-family=\"Helvetica,sans-Serif\" font-size=\"14.00\">gini = 0.621</text>\r\n<text text-anchor=\"middle\" x=\"3343.5\" y=\"-141.8\" font-family=\"Helvetica,sans-Serif\" font-size=\"14.00\">samples = 4190</text>\r\n<text text-anchor=\"middle\" x=\"3343.5\" y=\"-126.8\" font-family=\"Helvetica,sans-Serif\" font-size=\"14.00\">value = [669, 1737, 1784]</text>\r\n<text text-anchor=\"middle\" x=\"3343.5\" y=\"-111.8\" font-family=\"Helvetica,sans-Serif\" font-size=\"14.00\">class = 2</text>\r\n</g>\r\n<!-- 46&#45;&gt;47 -->\r\n<g id=\"edge47\" class=\"edge\">\r\n<title>46&#45;&gt;47</title>\r\n<path fill=\"none\" stroke=\"black\" d=\"M3409.46,-222.91C3401.62,-213.83 3393.24,-204.12 3385.17,-194.77\"/>\r\n<polygon fill=\"black\" stroke=\"black\" points=\"3387.66,-192.3 3378.48,-187.02 3382.36,-196.88 3387.66,-192.3\"/>\r\n</g>\r\n<!-- 50 -->\r\n<g id=\"node51\" class=\"node\">\r\n<title>50</title>\r\n<polygon fill=\"none\" stroke=\"black\" points=\"3691.5,-187 3467.5,-187 3467.5,-104 3691.5,-104 3691.5,-187\"/>\r\n<text text-anchor=\"middle\" x=\"3579.5\" y=\"-171.8\" font-family=\"Helvetica,sans-Serif\" font-size=\"14.00\">Total_EMI_per_month &lt;= &#45;0.161</text>\r\n<text text-anchor=\"middle\" x=\"3579.5\" y=\"-156.8\" font-family=\"Helvetica,sans-Serif\" font-size=\"14.00\">gini = 0.471</text>\r\n<text text-anchor=\"middle\" x=\"3579.5\" y=\"-141.8\" font-family=\"Helvetica,sans-Serif\" font-size=\"14.00\">samples = 29</text>\r\n<text text-anchor=\"middle\" x=\"3579.5\" y=\"-126.8\" font-family=\"Helvetica,sans-Serif\" font-size=\"14.00\">value = [6, 3, 20]</text>\r\n<text text-anchor=\"middle\" x=\"3579.5\" y=\"-111.8\" font-family=\"Helvetica,sans-Serif\" font-size=\"14.00\">class = 2</text>\r\n</g>\r\n<!-- 46&#45;&gt;50 -->\r\n<g id=\"edge50\" class=\"edge\">\r\n<title>46&#45;&gt;50</title>\r\n<path fill=\"none\" stroke=\"black\" d=\"M3491.34,-222.91C3502.23,-213.47 3513.91,-203.34 3525.1,-193.65\"/>\r\n<polygon fill=\"black\" stroke=\"black\" points=\"3527.48,-196.22 3532.75,-187.02 3522.9,-190.93 3527.48,-196.22\"/>\r\n</g>\r\n<!-- 48 -->\r\n<g id=\"node49\" class=\"node\">\r\n<title>48</title>\r\n<polygon fill=\"none\" stroke=\"black\" points=\"3309.5,-68 3155.5,-68 3155.5,0 3309.5,0 3309.5,-68\"/>\r\n<text text-anchor=\"middle\" x=\"3232.5\" y=\"-52.8\" font-family=\"Helvetica,sans-Serif\" font-size=\"14.00\">gini = 0.615</text>\r\n<text text-anchor=\"middle\" x=\"3232.5\" y=\"-37.8\" font-family=\"Helvetica,sans-Serif\" font-size=\"14.00\">samples = 305</text>\r\n<text text-anchor=\"middle\" x=\"3232.5\" y=\"-22.8\" font-family=\"Helvetica,sans-Serif\" font-size=\"14.00\">value = [53, 151, 101]</text>\r\n<text text-anchor=\"middle\" x=\"3232.5\" y=\"-7.8\" font-family=\"Helvetica,sans-Serif\" font-size=\"14.00\">class = 1</text>\r\n</g>\r\n<!-- 47&#45;&gt;48 -->\r\n<g id=\"edge48\" class=\"edge\">\r\n<title>47&#45;&gt;48</title>\r\n<path fill=\"none\" stroke=\"black\" d=\"M3302.17,-103.73C3292.83,-94.51 3282.92,-84.74 3273.59,-75.53\"/>\r\n<polygon fill=\"black\" stroke=\"black\" points=\"3275.83,-72.83 3266.26,-68.3 3270.92,-77.81 3275.83,-72.83\"/>\r\n</g>\r\n<!-- 49 -->\r\n<g id=\"node50\" class=\"node\">\r\n<title>49</title>\r\n<polygon fill=\"none\" stroke=\"black\" points=\"3507,-68 3328,-68 3328,0 3507,0 3507,-68\"/>\r\n<text text-anchor=\"middle\" x=\"3417.5\" y=\"-52.8\" font-family=\"Helvetica,sans-Serif\" font-size=\"14.00\">gini = 0.621</text>\r\n<text text-anchor=\"middle\" x=\"3417.5\" y=\"-37.8\" font-family=\"Helvetica,sans-Serif\" font-size=\"14.00\">samples = 3885</text>\r\n<text text-anchor=\"middle\" x=\"3417.5\" y=\"-22.8\" font-family=\"Helvetica,sans-Serif\" font-size=\"14.00\">value = [616, 1586, 1683]</text>\r\n<text text-anchor=\"middle\" x=\"3417.5\" y=\"-7.8\" font-family=\"Helvetica,sans-Serif\" font-size=\"14.00\">class = 2</text>\r\n</g>\r\n<!-- 47&#45;&gt;49 -->\r\n<g id=\"edge49\" class=\"edge\">\r\n<title>47&#45;&gt;49</title>\r\n<path fill=\"none\" stroke=\"black\" d=\"M3371.05,-103.73C3377.03,-94.88 3383.37,-85.51 3389.37,-76.63\"/>\r\n<polygon fill=\"black\" stroke=\"black\" points=\"3392.3,-78.54 3395,-68.3 3386.5,-74.63 3392.3,-78.54\"/>\r\n</g>\r\n<!-- 51 -->\r\n<g id=\"node52\" class=\"node\">\r\n<title>51</title>\r\n<polygon fill=\"none\" stroke=\"black\" points=\"3638,-68 3525,-68 3525,0 3638,0 3638,-68\"/>\r\n<text text-anchor=\"middle\" x=\"3581.5\" y=\"-52.8\" font-family=\"Helvetica,sans-Serif\" font-size=\"14.00\">gini = 0.444</text>\r\n<text text-anchor=\"middle\" x=\"3581.5\" y=\"-37.8\" font-family=\"Helvetica,sans-Serif\" font-size=\"14.00\">samples = 3</text>\r\n<text text-anchor=\"middle\" x=\"3581.5\" y=\"-22.8\" font-family=\"Helvetica,sans-Serif\" font-size=\"14.00\">value = [2, 1, 0]</text>\r\n<text text-anchor=\"middle\" x=\"3581.5\" y=\"-7.8\" font-family=\"Helvetica,sans-Serif\" font-size=\"14.00\">class = 0</text>\r\n</g>\r\n<!-- 50&#45;&gt;51 -->\r\n<g id=\"edge51\" class=\"edge\">\r\n<title>50&#45;&gt;51</title>\r\n<path fill=\"none\" stroke=\"black\" d=\"M3580.24,-103.73C3580.39,-95.52 3580.55,-86.86 3580.7,-78.56\"/>\r\n<polygon fill=\"black\" stroke=\"black\" points=\"3584.21,-78.36 3580.89,-68.3 3577.21,-78.23 3584.21,-78.36\"/>\r\n</g>\r\n<!-- 52 -->\r\n<g id=\"node53\" class=\"node\">\r\n<title>52</title>\r\n<polygon fill=\"none\" stroke=\"black\" points=\"3777,-68 3656,-68 3656,0 3777,0 3777,-68\"/>\r\n<text text-anchor=\"middle\" x=\"3716.5\" y=\"-52.8\" font-family=\"Helvetica,sans-Serif\" font-size=\"14.00\">gini = 0.379</text>\r\n<text text-anchor=\"middle\" x=\"3716.5\" y=\"-37.8\" font-family=\"Helvetica,sans-Serif\" font-size=\"14.00\">samples = 26</text>\r\n<text text-anchor=\"middle\" x=\"3716.5\" y=\"-22.8\" font-family=\"Helvetica,sans-Serif\" font-size=\"14.00\">value = [4, 2, 20]</text>\r\n<text text-anchor=\"middle\" x=\"3716.5\" y=\"-7.8\" font-family=\"Helvetica,sans-Serif\" font-size=\"14.00\">class = 2</text>\r\n</g>\r\n<!-- 50&#45;&gt;52 -->\r\n<g id=\"edge52\" class=\"edge\">\r\n<title>50&#45;&gt;52</title>\r\n<path fill=\"none\" stroke=\"black\" d=\"M3630.51,-103.73C3642.38,-94.24 3655,-84.16 3666.81,-74.72\"/>\r\n<polygon fill=\"black\" stroke=\"black\" points=\"3669.21,-77.28 3674.84,-68.3 3664.84,-71.81 3669.21,-77.28\"/>\r\n</g>\r\n<!-- 54 -->\r\n<g id=\"node55\" class=\"node\">\r\n<title>54</title>\r\n<polygon fill=\"none\" stroke=\"black\" points=\"3831,-179.5 3710,-179.5 3710,-111.5 3831,-111.5 3831,-179.5\"/>\r\n<text text-anchor=\"middle\" x=\"3770.5\" y=\"-164.3\" font-family=\"Helvetica,sans-Serif\" font-size=\"14.00\">gini = 0.0</text>\r\n<text text-anchor=\"middle\" x=\"3770.5\" y=\"-149.3\" font-family=\"Helvetica,sans-Serif\" font-size=\"14.00\">samples = 10</text>\r\n<text text-anchor=\"middle\" x=\"3770.5\" y=\"-134.3\" font-family=\"Helvetica,sans-Serif\" font-size=\"14.00\">value = [0, 0, 10]</text>\r\n<text text-anchor=\"middle\" x=\"3770.5\" y=\"-119.3\" font-family=\"Helvetica,sans-Serif\" font-size=\"14.00\">class = 2</text>\r\n</g>\r\n<!-- 53&#45;&gt;54 -->\r\n<g id=\"edge54\" class=\"edge\">\r\n<title>53&#45;&gt;54</title>\r\n<path fill=\"none\" stroke=\"black\" d=\"M3770.5,-222.91C3770.5,-212.2 3770.5,-200.62 3770.5,-189.78\"/>\r\n<polygon fill=\"black\" stroke=\"black\" points=\"3774,-189.67 3770.5,-179.67 3767,-189.67 3774,-189.67\"/>\r\n</g>\r\n<!-- 55 -->\r\n<g id=\"node56\" class=\"node\">\r\n<title>55</title>\r\n<polygon fill=\"none\" stroke=\"black\" points=\"4106,-187 3849,-187 3849,-104 4106,-104 4106,-187\"/>\r\n<text text-anchor=\"middle\" x=\"3977.5\" y=\"-171.8\" font-family=\"Helvetica,sans-Serif\" font-size=\"14.00\">Num_of_Delayed_Payment &lt;= &#45;1.056</text>\r\n<text text-anchor=\"middle\" x=\"3977.5\" y=\"-156.8\" font-family=\"Helvetica,sans-Serif\" font-size=\"14.00\">gini = 0.601</text>\r\n<text text-anchor=\"middle\" x=\"3977.5\" y=\"-141.8\" font-family=\"Helvetica,sans-Serif\" font-size=\"14.00\">samples = 273</text>\r\n<text text-anchor=\"middle\" x=\"3977.5\" y=\"-126.8\" font-family=\"Helvetica,sans-Serif\" font-size=\"14.00\">value = [41, 92, 140]</text>\r\n<text text-anchor=\"middle\" x=\"3977.5\" y=\"-111.8\" font-family=\"Helvetica,sans-Serif\" font-size=\"14.00\">class = 2</text>\r\n</g>\r\n<!-- 53&#45;&gt;55 -->\r\n<g id=\"edge55\" class=\"edge\">\r\n<title>53&#45;&gt;55</title>\r\n<path fill=\"none\" stroke=\"black\" d=\"M3842.32,-222.91C3859.98,-212.92 3879,-202.17 3897.04,-191.98\"/>\r\n<polygon fill=\"black\" stroke=\"black\" points=\"3898.83,-194.99 3905.81,-187.02 3895.38,-188.89 3898.83,-194.99\"/>\r\n</g>\r\n<!-- 56 -->\r\n<g id=\"node57\" class=\"node\">\r\n<title>56</title>\r\n<polygon fill=\"none\" stroke=\"black\" points=\"3957,-68 3844,-68 3844,0 3957,0 3957,-68\"/>\r\n<text text-anchor=\"middle\" x=\"3900.5\" y=\"-52.8\" font-family=\"Helvetica,sans-Serif\" font-size=\"14.00\">gini = 0.0</text>\r\n<text text-anchor=\"middle\" x=\"3900.5\" y=\"-37.8\" font-family=\"Helvetica,sans-Serif\" font-size=\"14.00\">samples = 8</text>\r\n<text text-anchor=\"middle\" x=\"3900.5\" y=\"-22.8\" font-family=\"Helvetica,sans-Serif\" font-size=\"14.00\">value = [0, 0, 8]</text>\r\n<text text-anchor=\"middle\" x=\"3900.5\" y=\"-7.8\" font-family=\"Helvetica,sans-Serif\" font-size=\"14.00\">class = 2</text>\r\n</g>\r\n<!-- 55&#45;&gt;56 -->\r\n<g id=\"edge56\" class=\"edge\">\r\n<title>55&#45;&gt;56</title>\r\n<path fill=\"none\" stroke=\"black\" d=\"M3948.83,-103.73C3942.61,-94.88 3936.02,-85.51 3929.77,-76.63\"/>\r\n<polygon fill=\"black\" stroke=\"black\" points=\"3932.53,-74.47 3923.92,-68.3 3926.81,-78.49 3932.53,-74.47\"/>\r\n</g>\r\n<!-- 57 -->\r\n<g id=\"node58\" class=\"node\">\r\n<title>57</title>\r\n<polygon fill=\"none\" stroke=\"black\" points=\"4121.5,-68 3975.5,-68 3975.5,0 4121.5,0 4121.5,-68\"/>\r\n<text text-anchor=\"middle\" x=\"4048.5\" y=\"-52.8\" font-family=\"Helvetica,sans-Serif\" font-size=\"14.00\">gini = 0.607</text>\r\n<text text-anchor=\"middle\" x=\"4048.5\" y=\"-37.8\" font-family=\"Helvetica,sans-Serif\" font-size=\"14.00\">samples = 265</text>\r\n<text text-anchor=\"middle\" x=\"4048.5\" y=\"-22.8\" font-family=\"Helvetica,sans-Serif\" font-size=\"14.00\">value = [41, 92, 132]</text>\r\n<text text-anchor=\"middle\" x=\"4048.5\" y=\"-7.8\" font-family=\"Helvetica,sans-Serif\" font-size=\"14.00\">class = 2</text>\r\n</g>\r\n<!-- 55&#45;&gt;57 -->\r\n<g id=\"edge57\" class=\"edge\">\r\n<title>55&#45;&gt;57</title>\r\n<path fill=\"none\" stroke=\"black\" d=\"M4003.94,-103.73C4009.62,-94.97 4015.62,-85.7 4021.33,-76.91\"/>\r\n<polygon fill=\"black\" stroke=\"black\" points=\"4024.4,-78.59 4026.91,-68.3 4018.53,-74.79 4024.4,-78.59\"/>\r\n</g>\r\n<!-- 59 -->\r\n<g id=\"node60\" class=\"node\">\r\n<title>59</title>\r\n<polygon fill=\"none\" stroke=\"black\" points=\"5623,-544 5444,-544 5444,-461 5623,-461 5623,-544\"/>\r\n<text text-anchor=\"middle\" x=\"5533.5\" y=\"-528.8\" font-family=\"Helvetica,sans-Serif\" font-size=\"14.00\">Interest_Rate &lt;= 2.612</text>\r\n<text text-anchor=\"middle\" x=\"5533.5\" y=\"-513.8\" font-family=\"Helvetica,sans-Serif\" font-size=\"14.00\">gini = 0.491</text>\r\n<text text-anchor=\"middle\" x=\"5533.5\" y=\"-498.8\" font-family=\"Helvetica,sans-Serif\" font-size=\"14.00\">samples = 14944</text>\r\n<text text-anchor=\"middle\" x=\"5533.5\" y=\"-483.8\" font-family=\"Helvetica,sans-Serif\" font-size=\"14.00\">value = [8988, 5735, 221]</text>\r\n<text text-anchor=\"middle\" x=\"5533.5\" y=\"-468.8\" font-family=\"Helvetica,sans-Serif\" font-size=\"14.00\">class = 0</text>\r\n</g>\r\n<!-- 58&#45;&gt;59 -->\r\n<g id=\"edge59\" class=\"edge\">\r\n<title>58&#45;&gt;59</title>\r\n<path fill=\"none\" stroke=\"black\" d=\"M5533.5,-579.91C5533.5,-571.65 5533.5,-562.86 5533.5,-554.3\"/>\r\n<polygon fill=\"black\" stroke=\"black\" points=\"5537,-554.02 5533.5,-544.02 5530,-554.02 5537,-554.02\"/>\r\n</g>\r\n<!-- 90 -->\r\n<g id=\"node91\" class=\"node\">\r\n<title>90</title>\r\n<polygon fill=\"none\" stroke=\"black\" points=\"7264,-544 7069,-544 7069,-461 7264,-461 7264,-544\"/>\r\n<text text-anchor=\"middle\" x=\"7166.5\" y=\"-528.8\" font-family=\"Helvetica,sans-Serif\" font-size=\"14.00\">Credit_Mix &lt;= 0.324</text>\r\n<text text-anchor=\"middle\" x=\"7166.5\" y=\"-513.8\" font-family=\"Helvetica,sans-Serif\" font-size=\"14.00\">gini = 0.512</text>\r\n<text text-anchor=\"middle\" x=\"7166.5\" y=\"-498.8\" font-family=\"Helvetica,sans-Serif\" font-size=\"14.00\">samples = 35399</text>\r\n<text text-anchor=\"middle\" x=\"7166.5\" y=\"-483.8\" font-family=\"Helvetica,sans-Serif\" font-size=\"14.00\">value = [9948, 22446, 3005]</text>\r\n<text text-anchor=\"middle\" x=\"7166.5\" y=\"-468.8\" font-family=\"Helvetica,sans-Serif\" font-size=\"14.00\">class = 1</text>\r\n</g>\r\n<!-- 58&#45;&gt;90 -->\r\n<g id=\"edge90\" class=\"edge\">\r\n<title>58&#45;&gt;90</title>\r\n<path fill=\"none\" stroke=\"black\" d=\"M5635.03,-613.23C5925.82,-592.39 6759.94,-532.63 7058.55,-511.23\"/>\r\n<polygon fill=\"black\" stroke=\"black\" points=\"7059.22,-514.7 7068.95,-510.49 7058.72,-507.71 7059.22,-514.7\"/>\r\n</g>\r\n<!-- 60 -->\r\n<g id=\"node61\" class=\"node\">\r\n<title>60</title>\r\n<polygon fill=\"none\" stroke=\"black\" points=\"5291.5,-425 5099.5,-425 5099.5,-342 5291.5,-342 5291.5,-425\"/>\r\n<text text-anchor=\"middle\" x=\"5195.5\" y=\"-409.8\" font-family=\"Helvetica,sans-Serif\" font-size=\"14.00\">Outstanding_Debt &lt;= 3.485</text>\r\n<text text-anchor=\"middle\" x=\"5195.5\" y=\"-394.8\" font-family=\"Helvetica,sans-Serif\" font-size=\"14.00\">gini = 0.49</text>\r\n<text text-anchor=\"middle\" x=\"5195.5\" y=\"-379.8\" font-family=\"Helvetica,sans-Serif\" font-size=\"14.00\">samples = 14776</text>\r\n<text text-anchor=\"middle\" x=\"5195.5\" y=\"-364.8\" font-family=\"Helvetica,sans-Serif\" font-size=\"14.00\">value = [8920, 5635, 221]</text>\r\n<text text-anchor=\"middle\" x=\"5195.5\" y=\"-349.8\" font-family=\"Helvetica,sans-Serif\" font-size=\"14.00\">class = 0</text>\r\n</g>\r\n<!-- 59&#45;&gt;60 -->\r\n<g id=\"edge60\" class=\"edge\">\r\n<title>59&#45;&gt;60</title>\r\n<path fill=\"none\" stroke=\"black\" d=\"M5443.81,-470.45C5399.99,-455.28 5346.97,-436.93 5301.19,-421.09\"/>\r\n<polygon fill=\"black\" stroke=\"black\" points=\"5302.13,-417.71 5291.54,-417.74 5299.84,-424.32 5302.13,-417.71\"/>\r\n</g>\r\n<!-- 75 -->\r\n<g id=\"node76\" class=\"node\">\r\n<title>75</title>\r\n<polygon fill=\"none\" stroke=\"black\" points=\"5864,-425 5683,-425 5683,-342 5864,-342 5864,-425\"/>\r\n<text text-anchor=\"middle\" x=\"5773.5\" y=\"-409.8\" font-family=\"Helvetica,sans-Serif\" font-size=\"14.00\">Annual_Income &lt;= &#45;1.235</text>\r\n<text text-anchor=\"middle\" x=\"5773.5\" y=\"-394.8\" font-family=\"Helvetica,sans-Serif\" font-size=\"14.00\">gini = 0.482</text>\r\n<text text-anchor=\"middle\" x=\"5773.5\" y=\"-379.8\" font-family=\"Helvetica,sans-Serif\" font-size=\"14.00\">samples = 168</text>\r\n<text text-anchor=\"middle\" x=\"5773.5\" y=\"-364.8\" font-family=\"Helvetica,sans-Serif\" font-size=\"14.00\">value = [68, 100, 0]</text>\r\n<text text-anchor=\"middle\" x=\"5773.5\" y=\"-349.8\" font-family=\"Helvetica,sans-Serif\" font-size=\"14.00\">class = 1</text>\r\n</g>\r\n<!-- 59&#45;&gt;75 -->\r\n<g id=\"edge75\" class=\"edge\">\r\n<title>59&#45;&gt;75</title>\r\n<path fill=\"none\" stroke=\"black\" d=\"M5616.77,-460.91C5637.62,-450.74 5660.1,-439.78 5681.36,-429.42\"/>\r\n<polygon fill=\"black\" stroke=\"black\" points=\"5682.93,-432.55 5690.38,-425.02 5679.86,-426.26 5682.93,-432.55\"/>\r\n</g>\r\n<!-- 61 -->\r\n<g id=\"node62\" class=\"node\">\r\n<title>61</title>\r\n<polygon fill=\"none\" stroke=\"black\" points=\"4921,-306 4484,-306 4484,-223 4921,-223 4921,-306\"/>\r\n<text text-anchor=\"middle\" x=\"4702.5\" y=\"-290.8\" font-family=\"Helvetica,sans-Serif\" font-size=\"14.00\">Payment_Behaviour_Low_spent_Small_value_payments &lt;= 0.563</text>\r\n<text text-anchor=\"middle\" x=\"4702.5\" y=\"-275.8\" font-family=\"Helvetica,sans-Serif\" font-size=\"14.00\">gini = 0.489</text>\r\n<text text-anchor=\"middle\" x=\"4702.5\" y=\"-260.8\" font-family=\"Helvetica,sans-Serif\" font-size=\"14.00\">samples = 14726</text>\r\n<text text-anchor=\"middle\" x=\"4702.5\" y=\"-245.8\" font-family=\"Helvetica,sans-Serif\" font-size=\"14.00\">value = [8908, 5598, 220]</text>\r\n<text text-anchor=\"middle\" x=\"4702.5\" y=\"-230.8\" font-family=\"Helvetica,sans-Serif\" font-size=\"14.00\">class = 0</text>\r\n</g>\r\n<!-- 60&#45;&gt;61 -->\r\n<g id=\"edge61\" class=\"edge\">\r\n<title>60&#45;&gt;61</title>\r\n<path fill=\"none\" stroke=\"black\" d=\"M5099.27,-359.66C5037.86,-345.09 4956.33,-325.74 4883.15,-308.37\"/>\r\n<polygon fill=\"black\" stroke=\"black\" points=\"4883.88,-304.95 4873.34,-306.04 4882.26,-311.76 4883.88,-304.95\"/>\r\n</g>\r\n<!-- 68 -->\r\n<g id=\"node69\" class=\"node\">\r\n<title>68</title>\r\n<polygon fill=\"none\" stroke=\"black\" points=\"5277.5,-306 5113.5,-306 5113.5,-223 5277.5,-223 5277.5,-306\"/>\r\n<text text-anchor=\"middle\" x=\"5195.5\" y=\"-290.8\" font-family=\"Helvetica,sans-Serif\" font-size=\"14.00\">Interest_Rate &lt;= 0.689</text>\r\n<text text-anchor=\"middle\" x=\"5195.5\" y=\"-275.8\" font-family=\"Helvetica,sans-Serif\" font-size=\"14.00\">gini = 0.394</text>\r\n<text text-anchor=\"middle\" x=\"5195.5\" y=\"-260.8\" font-family=\"Helvetica,sans-Serif\" font-size=\"14.00\">samples = 50</text>\r\n<text text-anchor=\"middle\" x=\"5195.5\" y=\"-245.8\" font-family=\"Helvetica,sans-Serif\" font-size=\"14.00\">value = [12, 37, 1]</text>\r\n<text text-anchor=\"middle\" x=\"5195.5\" y=\"-230.8\" font-family=\"Helvetica,sans-Serif\" font-size=\"14.00\">class = 1</text>\r\n</g>\r\n<!-- 60&#45;&gt;68 -->\r\n<g id=\"edge68\" class=\"edge\">\r\n<title>60&#45;&gt;68</title>\r\n<path fill=\"none\" stroke=\"black\" d=\"M5195.5,-341.91C5195.5,-333.65 5195.5,-324.86 5195.5,-316.3\"/>\r\n<polygon fill=\"black\" stroke=\"black\" points=\"5199,-316.02 5195.5,-306.02 5192,-316.02 5199,-316.02\"/>\r\n</g>\r\n<!-- 62 -->\r\n<g id=\"node63\" class=\"node\">\r\n<title>62</title>\r\n<polygon fill=\"none\" stroke=\"black\" points=\"4576.5,-187 4124.5,-187 4124.5,-104 4576.5,-104 4576.5,-187\"/>\r\n<text text-anchor=\"middle\" x=\"4350.5\" y=\"-171.8\" font-family=\"Helvetica,sans-Serif\" font-size=\"14.00\">Payment_Behaviour_Low_spent_Medium_value_payments &lt;= 1.046</text>\r\n<text text-anchor=\"middle\" x=\"4350.5\" y=\"-156.8\" font-family=\"Helvetica,sans-Serif\" font-size=\"14.00\">gini = 0.499</text>\r\n<text text-anchor=\"middle\" x=\"4350.5\" y=\"-141.8\" font-family=\"Helvetica,sans-Serif\" font-size=\"14.00\">samples = 10073</text>\r\n<text text-anchor=\"middle\" x=\"4350.5\" y=\"-126.8\" font-family=\"Helvetica,sans-Serif\" font-size=\"14.00\">value = [5940, 3941, 192]</text>\r\n<text text-anchor=\"middle\" x=\"4350.5\" y=\"-111.8\" font-family=\"Helvetica,sans-Serif\" font-size=\"14.00\">class = 0</text>\r\n</g>\r\n<!-- 61&#45;&gt;62 -->\r\n<g id=\"edge62\" class=\"edge\">\r\n<title>61&#45;&gt;62</title>\r\n<path fill=\"none\" stroke=\"black\" d=\"M4580.38,-222.91C4548.7,-212.38 4514.46,-201 4482.31,-190.31\"/>\r\n<polygon fill=\"black\" stroke=\"black\" points=\"4483,-186.85 4472.41,-187.02 4480.79,-193.5 4483,-186.85\"/>\r\n</g>\r\n<!-- 65 -->\r\n<g id=\"node66\" class=\"node\">\r\n<title>65</title>\r\n<polygon fill=\"none\" stroke=\"black\" points=\"4810,-187 4595,-187 4595,-104 4810,-104 4810,-187\"/>\r\n<text text-anchor=\"middle\" x=\"4702.5\" y=\"-171.8\" font-family=\"Helvetica,sans-Serif\" font-size=\"14.00\">Total_EMI_per_month &lt;= &#45;0.73</text>\r\n<text text-anchor=\"middle\" x=\"4702.5\" y=\"-156.8\" font-family=\"Helvetica,sans-Serif\" font-size=\"14.00\">gini = 0.466</text>\r\n<text text-anchor=\"middle\" x=\"4702.5\" y=\"-141.8\" font-family=\"Helvetica,sans-Serif\" font-size=\"14.00\">samples = 4653</text>\r\n<text text-anchor=\"middle\" x=\"4702.5\" y=\"-126.8\" font-family=\"Helvetica,sans-Serif\" font-size=\"14.00\">value = [2968, 1657, 28]</text>\r\n<text text-anchor=\"middle\" x=\"4702.5\" y=\"-111.8\" font-family=\"Helvetica,sans-Serif\" font-size=\"14.00\">class = 0</text>\r\n</g>\r\n<!-- 61&#45;&gt;65 -->\r\n<g id=\"edge65\" class=\"edge\">\r\n<title>61&#45;&gt;65</title>\r\n<path fill=\"none\" stroke=\"black\" d=\"M4702.5,-222.91C4702.5,-214.65 4702.5,-205.86 4702.5,-197.3\"/>\r\n<polygon fill=\"black\" stroke=\"black\" points=\"4706,-197.02 4702.5,-187.02 4699,-197.02 4706,-197.02\"/>\r\n</g>\r\n<!-- 63 -->\r\n<g id=\"node64\" class=\"node\">\r\n<title>63</title>\r\n<polygon fill=\"none\" stroke=\"black\" points=\"4344,-68 4165,-68 4165,0 4344,0 4344,-68\"/>\r\n<text text-anchor=\"middle\" x=\"4254.5\" y=\"-52.8\" font-family=\"Helvetica,sans-Serif\" font-size=\"14.00\">gini = 0.505</text>\r\n<text text-anchor=\"middle\" x=\"4254.5\" y=\"-37.8\" font-family=\"Helvetica,sans-Serif\" font-size=\"14.00\">samples = 8031</text>\r\n<text text-anchor=\"middle\" x=\"4254.5\" y=\"-22.8\" font-family=\"Helvetica,sans-Serif\" font-size=\"14.00\">value = [4643, 3219, 169]</text>\r\n<text text-anchor=\"middle\" x=\"4254.5\" y=\"-7.8\" font-family=\"Helvetica,sans-Serif\" font-size=\"14.00\">class = 0</text>\r\n</g>\r\n<!-- 62&#45;&gt;63 -->\r\n<g id=\"edge63\" class=\"edge\">\r\n<title>62&#45;&gt;63</title>\r\n<path fill=\"none\" stroke=\"black\" d=\"M4314.75,-103.73C4306.84,-94.7 4298.44,-85.12 4290.52,-76.08\"/>\r\n<polygon fill=\"black\" stroke=\"black\" points=\"4292.92,-73.51 4283.69,-68.3 4287.65,-78.13 4292.92,-73.51\"/>\r\n</g>\r\n<!-- 64 -->\r\n<g id=\"node65\" class=\"node\">\r\n<title>64</title>\r\n<polygon fill=\"none\" stroke=\"black\" points=\"4524.5,-68 4362.5,-68 4362.5,0 4524.5,0 4524.5,-68\"/>\r\n<text text-anchor=\"middle\" x=\"4443.5\" y=\"-52.8\" font-family=\"Helvetica,sans-Serif\" font-size=\"14.00\">gini = 0.471</text>\r\n<text text-anchor=\"middle\" x=\"4443.5\" y=\"-37.8\" font-family=\"Helvetica,sans-Serif\" font-size=\"14.00\">samples = 2042</text>\r\n<text text-anchor=\"middle\" x=\"4443.5\" y=\"-22.8\" font-family=\"Helvetica,sans-Serif\" font-size=\"14.00\">value = [1297, 722, 23]</text>\r\n<text text-anchor=\"middle\" x=\"4443.5\" y=\"-7.8\" font-family=\"Helvetica,sans-Serif\" font-size=\"14.00\">class = 0</text>\r\n</g>\r\n<!-- 62&#45;&gt;64 -->\r\n<g id=\"edge64\" class=\"edge\">\r\n<title>62&#45;&gt;64</title>\r\n<path fill=\"none\" stroke=\"black\" d=\"M4385.13,-103.73C4392.8,-94.7 4400.93,-85.12 4408.61,-76.08\"/>\r\n<polygon fill=\"black\" stroke=\"black\" points=\"4411.41,-78.19 4415.22,-68.3 4406.08,-73.66 4411.41,-78.19\"/>\r\n</g>\r\n<!-- 66 -->\r\n<g id=\"node67\" class=\"node\">\r\n<title>66</title>\r\n<polygon fill=\"none\" stroke=\"black\" points=\"4668,-68 4555,-68 4555,0 4668,0 4668,-68\"/>\r\n<text text-anchor=\"middle\" x=\"4611.5\" y=\"-52.8\" font-family=\"Helvetica,sans-Serif\" font-size=\"14.00\">gini = 0.198</text>\r\n<text text-anchor=\"middle\" x=\"4611.5\" y=\"-37.8\" font-family=\"Helvetica,sans-Serif\" font-size=\"14.00\">samples = 9</text>\r\n<text text-anchor=\"middle\" x=\"4611.5\" y=\"-22.8\" font-family=\"Helvetica,sans-Serif\" font-size=\"14.00\">value = [1, 8, 0]</text>\r\n<text text-anchor=\"middle\" x=\"4611.5\" y=\"-7.8\" font-family=\"Helvetica,sans-Serif\" font-size=\"14.00\">class = 1</text>\r\n</g>\r\n<!-- 65&#45;&gt;66 -->\r\n<g id=\"edge66\" class=\"edge\">\r\n<title>65&#45;&gt;66</title>\r\n<path fill=\"none\" stroke=\"black\" d=\"M4668.61,-103.73C4661.11,-94.7 4653.16,-85.12 4645.64,-76.08\"/>\r\n<polygon fill=\"black\" stroke=\"black\" points=\"4648.26,-73.75 4639.17,-68.3 4642.87,-78.23 4648.26,-73.75\"/>\r\n</g>\r\n<!-- 67 -->\r\n<g id=\"node68\" class=\"node\">\r\n<title>67</title>\r\n<polygon fill=\"none\" stroke=\"black\" points=\"4856.5,-68 4686.5,-68 4686.5,0 4856.5,0 4856.5,-68\"/>\r\n<text text-anchor=\"middle\" x=\"4771.5\" y=\"-52.8\" font-family=\"Helvetica,sans-Serif\" font-size=\"14.00\">gini = 0.466</text>\r\n<text text-anchor=\"middle\" x=\"4771.5\" y=\"-37.8\" font-family=\"Helvetica,sans-Serif\" font-size=\"14.00\">samples = 4644</text>\r\n<text text-anchor=\"middle\" x=\"4771.5\" y=\"-22.8\" font-family=\"Helvetica,sans-Serif\" font-size=\"14.00\">value = [2967, 1649, 28]</text>\r\n<text text-anchor=\"middle\" x=\"4771.5\" y=\"-7.8\" font-family=\"Helvetica,sans-Serif\" font-size=\"14.00\">class = 0</text>\r\n</g>\r\n<!-- 65&#45;&gt;67 -->\r\n<g id=\"edge67\" class=\"edge\">\r\n<title>65&#45;&gt;67</title>\r\n<path fill=\"none\" stroke=\"black\" d=\"M4728.19,-103.73C4733.71,-94.97 4739.55,-85.7 4745.09,-76.91\"/>\r\n<polygon fill=\"black\" stroke=\"black\" points=\"4748.15,-78.63 4750.52,-68.3 4742.22,-74.89 4748.15,-78.63\"/>\r\n</g>\r\n<!-- 69 -->\r\n<g id=\"node70\" class=\"node\">\r\n<title>69</title>\r\n<polygon fill=\"none\" stroke=\"black\" points=\"5265,-187 4828,-187 4828,-104 5265,-104 5265,-187\"/>\r\n<text text-anchor=\"middle\" x=\"5046.5\" y=\"-171.8\" font-family=\"Helvetica,sans-Serif\" font-size=\"14.00\">Payment_Behaviour_Low_spent_Small_value_payments &lt;= 0.563</text>\r\n<text text-anchor=\"middle\" x=\"5046.5\" y=\"-156.8\" font-family=\"Helvetica,sans-Serif\" font-size=\"14.00\">gini = 0.245</text>\r\n<text text-anchor=\"middle\" x=\"5046.5\" y=\"-141.8\" font-family=\"Helvetica,sans-Serif\" font-size=\"14.00\">samples = 7</text>\r\n<text text-anchor=\"middle\" x=\"5046.5\" y=\"-126.8\" font-family=\"Helvetica,sans-Serif\" font-size=\"14.00\">value = [6, 1, 0]</text>\r\n<text text-anchor=\"middle\" x=\"5046.5\" y=\"-111.8\" font-family=\"Helvetica,sans-Serif\" font-size=\"14.00\">class = 0</text>\r\n</g>\r\n<!-- 68&#45;&gt;69 -->\r\n<g id=\"edge69\" class=\"edge\">\r\n<title>68&#45;&gt;69</title>\r\n<path fill=\"none\" stroke=\"black\" d=\"M5143.81,-222.91C5131.67,-213.38 5118.64,-203.15 5106.19,-193.37\"/>\r\n<polygon fill=\"black\" stroke=\"black\" points=\"5108.13,-190.44 5098.1,-187.02 5103.81,-195.95 5108.13,-190.44\"/>\r\n</g>\r\n<!-- 72 -->\r\n<g id=\"node73\" class=\"node\">\r\n<title>72</title>\r\n<polygon fill=\"none\" stroke=\"black\" points=\"5404,-187 5283,-187 5283,-104 5404,-104 5404,-187\"/>\r\n<text text-anchor=\"middle\" x=\"5343.5\" y=\"-171.8\" font-family=\"Helvetica,sans-Serif\" font-size=\"14.00\">Age &lt;= 1.618</text>\r\n<text text-anchor=\"middle\" x=\"5343.5\" y=\"-156.8\" font-family=\"Helvetica,sans-Serif\" font-size=\"14.00\">gini = 0.279</text>\r\n<text text-anchor=\"middle\" x=\"5343.5\" y=\"-141.8\" font-family=\"Helvetica,sans-Serif\" font-size=\"14.00\">samples = 43</text>\r\n<text text-anchor=\"middle\" x=\"5343.5\" y=\"-126.8\" font-family=\"Helvetica,sans-Serif\" font-size=\"14.00\">value = [6, 36, 1]</text>\r\n<text text-anchor=\"middle\" x=\"5343.5\" y=\"-111.8\" font-family=\"Helvetica,sans-Serif\" font-size=\"14.00\">class = 1</text>\r\n</g>\r\n<!-- 68&#45;&gt;72 -->\r\n<g id=\"edge72\" class=\"edge\">\r\n<title>68&#45;&gt;72</title>\r\n<path fill=\"none\" stroke=\"black\" d=\"M5246.85,-222.91C5258.9,-213.38 5271.84,-203.15 5284.21,-193.37\"/>\r\n<polygon fill=\"black\" stroke=\"black\" points=\"5286.57,-195.97 5292.24,-187.02 5282.23,-190.48 5286.57,-195.97\"/>\r\n</g>\r\n<!-- 70 -->\r\n<g id=\"node71\" class=\"node\">\r\n<title>70</title>\r\n<polygon fill=\"none\" stroke=\"black\" points=\"4994,-68 4881,-68 4881,0 4994,0 4994,-68\"/>\r\n<text text-anchor=\"middle\" x=\"4937.5\" y=\"-52.8\" font-family=\"Helvetica,sans-Serif\" font-size=\"14.00\">gini = 0.0</text>\r\n<text text-anchor=\"middle\" x=\"4937.5\" y=\"-37.8\" font-family=\"Helvetica,sans-Serif\" font-size=\"14.00\">samples = 6</text>\r\n<text text-anchor=\"middle\" x=\"4937.5\" y=\"-22.8\" font-family=\"Helvetica,sans-Serif\" font-size=\"14.00\">value = [6, 0, 0]</text>\r\n<text text-anchor=\"middle\" x=\"4937.5\" y=\"-7.8\" font-family=\"Helvetica,sans-Serif\" font-size=\"14.00\">class = 0</text>\r\n</g>\r\n<!-- 69&#45;&gt;70 -->\r\n<g id=\"edge70\" class=\"edge\">\r\n<title>69&#45;&gt;70</title>\r\n<path fill=\"none\" stroke=\"black\" d=\"M5005.91,-103.73C4996.74,-94.51 4987.01,-84.74 4977.85,-75.53\"/>\r\n<polygon fill=\"black\" stroke=\"black\" points=\"4980.18,-72.92 4970.65,-68.3 4975.22,-77.86 4980.18,-72.92\"/>\r\n</g>\r\n<!-- 71 -->\r\n<g id=\"node72\" class=\"node\">\r\n<title>71</title>\r\n<polygon fill=\"none\" stroke=\"black\" points=\"5125,-68 5012,-68 5012,0 5125,0 5125,-68\"/>\r\n<text text-anchor=\"middle\" x=\"5068.5\" y=\"-52.8\" font-family=\"Helvetica,sans-Serif\" font-size=\"14.00\">gini = 0.0</text>\r\n<text text-anchor=\"middle\" x=\"5068.5\" y=\"-37.8\" font-family=\"Helvetica,sans-Serif\" font-size=\"14.00\">samples = 1</text>\r\n<text text-anchor=\"middle\" x=\"5068.5\" y=\"-22.8\" font-family=\"Helvetica,sans-Serif\" font-size=\"14.00\">value = [0, 1, 0]</text>\r\n<text text-anchor=\"middle\" x=\"5068.5\" y=\"-7.8\" font-family=\"Helvetica,sans-Serif\" font-size=\"14.00\">class = 1</text>\r\n</g>\r\n<!-- 69&#45;&gt;71 -->\r\n<g id=\"edge71\" class=\"edge\">\r\n<title>69&#45;&gt;71</title>\r\n<path fill=\"none\" stroke=\"black\" d=\"M5054.69,-103.73C5056.36,-95.43 5058.12,-86.67 5059.8,-78.28\"/>\r\n<polygon fill=\"black\" stroke=\"black\" points=\"5063.27,-78.79 5061.81,-68.3 5056.41,-77.41 5063.27,-78.79\"/>\r\n</g>\r\n<!-- 73 -->\r\n<g id=\"node74\" class=\"node\">\r\n<title>73</title>\r\n<polygon fill=\"none\" stroke=\"black\" points=\"5267,-68 5146,-68 5146,0 5267,0 5267,-68\"/>\r\n<text text-anchor=\"middle\" x=\"5206.5\" y=\"-52.8\" font-family=\"Helvetica,sans-Serif\" font-size=\"14.00\">gini = 0.219</text>\r\n<text text-anchor=\"middle\" x=\"5206.5\" y=\"-37.8\" font-family=\"Helvetica,sans-Serif\" font-size=\"14.00\">samples = 41</text>\r\n<text text-anchor=\"middle\" x=\"5206.5\" y=\"-22.8\" font-family=\"Helvetica,sans-Serif\" font-size=\"14.00\">value = [4, 36, 1]</text>\r\n<text text-anchor=\"middle\" x=\"5206.5\" y=\"-7.8\" font-family=\"Helvetica,sans-Serif\" font-size=\"14.00\">class = 1</text>\r\n</g>\r\n<!-- 72&#45;&gt;73 -->\r\n<g id=\"edge73\" class=\"edge\">\r\n<title>72&#45;&gt;73</title>\r\n<path fill=\"none\" stroke=\"black\" d=\"M5292.49,-103.73C5280.62,-94.24 5268,-84.16 5256.19,-74.72\"/>\r\n<polygon fill=\"black\" stroke=\"black\" points=\"5258.16,-71.81 5248.16,-68.3 5253.79,-77.28 5258.16,-71.81\"/>\r\n</g>\r\n<!-- 74 -->\r\n<g id=\"node75\" class=\"node\">\r\n<title>74</title>\r\n<polygon fill=\"none\" stroke=\"black\" points=\"5398,-68 5285,-68 5285,0 5398,0 5398,-68\"/>\r\n<text text-anchor=\"middle\" x=\"5341.5\" y=\"-52.8\" font-family=\"Helvetica,sans-Serif\" font-size=\"14.00\">gini = 0.0</text>\r\n<text text-anchor=\"middle\" x=\"5341.5\" y=\"-37.8\" font-family=\"Helvetica,sans-Serif\" font-size=\"14.00\">samples = 2</text>\r\n<text text-anchor=\"middle\" x=\"5341.5\" y=\"-22.8\" font-family=\"Helvetica,sans-Serif\" font-size=\"14.00\">value = [2, 0, 0]</text>\r\n<text text-anchor=\"middle\" x=\"5341.5\" y=\"-7.8\" font-family=\"Helvetica,sans-Serif\" font-size=\"14.00\">class = 0</text>\r\n</g>\r\n<!-- 72&#45;&gt;74 -->\r\n<g id=\"edge74\" class=\"edge\">\r\n<title>72&#45;&gt;74</title>\r\n<path fill=\"none\" stroke=\"black\" d=\"M5342.76,-103.73C5342.61,-95.52 5342.45,-86.86 5342.3,-78.56\"/>\r\n<polygon fill=\"black\" stroke=\"black\" points=\"5345.79,-78.23 5342.11,-68.3 5338.79,-78.36 5345.79,-78.23\"/>\r\n</g>\r\n<!-- 76 -->\r\n<g id=\"node77\" class=\"node\">\r\n<title>76</title>\r\n<polygon fill=\"none\" stroke=\"black\" points=\"5885.5,-306 5661.5,-306 5661.5,-223 5885.5,-223 5885.5,-306\"/>\r\n<text text-anchor=\"middle\" x=\"5773.5\" y=\"-290.8\" font-family=\"Helvetica,sans-Serif\" font-size=\"14.00\">Delay_from_due_date &lt;= &#45;0.397</text>\r\n<text text-anchor=\"middle\" x=\"5773.5\" y=\"-275.8\" font-family=\"Helvetica,sans-Serif\" font-size=\"14.00\">gini = 0.264</text>\r\n<text text-anchor=\"middle\" x=\"5773.5\" y=\"-260.8\" font-family=\"Helvetica,sans-Serif\" font-size=\"14.00\">samples = 32</text>\r\n<text text-anchor=\"middle\" x=\"5773.5\" y=\"-245.8\" font-family=\"Helvetica,sans-Serif\" font-size=\"14.00\">value = [5, 27, 0]</text>\r\n<text text-anchor=\"middle\" x=\"5773.5\" y=\"-230.8\" font-family=\"Helvetica,sans-Serif\" font-size=\"14.00\">class = 1</text>\r\n</g>\r\n<!-- 75&#45;&gt;76 -->\r\n<g id=\"edge76\" class=\"edge\">\r\n<title>75&#45;&gt;76</title>\r\n<path fill=\"none\" stroke=\"black\" d=\"M5773.5,-341.91C5773.5,-333.65 5773.5,-324.86 5773.5,-316.3\"/>\r\n<polygon fill=\"black\" stroke=\"black\" points=\"5777,-316.02 5773.5,-306.02 5770,-316.02 5777,-316.02\"/>\r\n</g>\r\n<!-- 83 -->\r\n<g id=\"node84\" class=\"node\">\r\n<title>83</title>\r\n<polygon fill=\"none\" stroke=\"black\" points=\"6146,-306 5927,-306 5927,-223 6146,-223 6146,-306\"/>\r\n<text text-anchor=\"middle\" x=\"6036.5\" y=\"-290.8\" font-family=\"Helvetica,sans-Serif\" font-size=\"14.00\">Delay_from_due_date &lt;= 3.184</text>\r\n<text text-anchor=\"middle\" x=\"6036.5\" y=\"-275.8\" font-family=\"Helvetica,sans-Serif\" font-size=\"14.00\">gini = 0.497</text>\r\n<text text-anchor=\"middle\" x=\"6036.5\" y=\"-260.8\" font-family=\"Helvetica,sans-Serif\" font-size=\"14.00\">samples = 136</text>\r\n<text text-anchor=\"middle\" x=\"6036.5\" y=\"-245.8\" font-family=\"Helvetica,sans-Serif\" font-size=\"14.00\">value = [63, 73, 0]</text>\r\n<text text-anchor=\"middle\" x=\"6036.5\" y=\"-230.8\" font-family=\"Helvetica,sans-Serif\" font-size=\"14.00\">class = 1</text>\r\n</g>\r\n<!-- 75&#45;&gt;83 -->\r\n<g id=\"edge83\" class=\"edge\">\r\n<title>75&#45;&gt;83</title>\r\n<path fill=\"none\" stroke=\"black\" d=\"M5864.01,-342.24C5887.23,-331.91 5912.34,-320.73 5936.03,-310.2\"/>\r\n<polygon fill=\"black\" stroke=\"black\" points=\"5937.66,-313.3 5945.38,-306.04 5934.82,-306.9 5937.66,-313.3\"/>\r\n</g>\r\n<!-- 77 -->\r\n<g id=\"node78\" class=\"node\">\r\n<title>77</title>\r\n<polygon fill=\"none\" stroke=\"black\" points=\"5674,-187 5485,-187 5485,-104 5674,-104 5674,-187\"/>\r\n<text text-anchor=\"middle\" x=\"5579.5\" y=\"-171.8\" font-family=\"Helvetica,sans-Serif\" font-size=\"14.00\">Monthly_Balance &lt;= &#45;0.734</text>\r\n<text text-anchor=\"middle\" x=\"5579.5\" y=\"-156.8\" font-family=\"Helvetica,sans-Serif\" font-size=\"14.00\">gini = 0.32</text>\r\n<text text-anchor=\"middle\" x=\"5579.5\" y=\"-141.8\" font-family=\"Helvetica,sans-Serif\" font-size=\"14.00\">samples = 5</text>\r\n<text text-anchor=\"middle\" x=\"5579.5\" y=\"-126.8\" font-family=\"Helvetica,sans-Serif\" font-size=\"14.00\">value = [4, 1, 0]</text>\r\n<text text-anchor=\"middle\" x=\"5579.5\" y=\"-111.8\" font-family=\"Helvetica,sans-Serif\" font-size=\"14.00\">class = 0</text>\r\n</g>\r\n<!-- 76&#45;&gt;77 -->\r\n<g id=\"edge77\" class=\"edge\">\r\n<title>76&#45;&gt;77</title>\r\n<path fill=\"none\" stroke=\"black\" d=\"M5706.19,-222.91C5689.79,-213.02 5672.14,-202.37 5655.37,-192.25\"/>\r\n<polygon fill=\"black\" stroke=\"black\" points=\"5657.06,-189.19 5646.69,-187.02 5653.44,-195.18 5657.06,-189.19\"/>\r\n</g>\r\n<!-- 80 -->\r\n<g id=\"node81\" class=\"node\">\r\n<title>80</title>\r\n<polygon fill=\"none\" stroke=\"black\" points=\"5904.5,-187 5692.5,-187 5692.5,-104 5904.5,-104 5904.5,-187\"/>\r\n<text text-anchor=\"middle\" x=\"5798.5\" y=\"-171.8\" font-family=\"Helvetica,sans-Serif\" font-size=\"14.00\">Occupation_Musician &lt;= 1.869</text>\r\n<text text-anchor=\"middle\" x=\"5798.5\" y=\"-156.8\" font-family=\"Helvetica,sans-Serif\" font-size=\"14.00\">gini = 0.071</text>\r\n<text text-anchor=\"middle\" x=\"5798.5\" y=\"-141.8\" font-family=\"Helvetica,sans-Serif\" font-size=\"14.00\">samples = 27</text>\r\n<text text-anchor=\"middle\" x=\"5798.5\" y=\"-126.8\" font-family=\"Helvetica,sans-Serif\" font-size=\"14.00\">value = [1, 26, 0]</text>\r\n<text text-anchor=\"middle\" x=\"5798.5\" y=\"-111.8\" font-family=\"Helvetica,sans-Serif\" font-size=\"14.00\">class = 1</text>\r\n</g>\r\n<!-- 76&#45;&gt;80 -->\r\n<g id=\"edge80\" class=\"edge\">\r\n<title>76&#45;&gt;80</title>\r\n<path fill=\"none\" stroke=\"black\" d=\"M5782.17,-222.91C5783.96,-214.56 5785.86,-205.67 5787.71,-197.02\"/>\r\n<polygon fill=\"black\" stroke=\"black\" points=\"5791.17,-197.53 5789.84,-187.02 5784.33,-196.07 5791.17,-197.53\"/>\r\n</g>\r\n<!-- 78 -->\r\n<g id=\"node79\" class=\"node\">\r\n<title>78</title>\r\n<polygon fill=\"none\" stroke=\"black\" points=\"5529,-68 5416,-68 5416,0 5529,0 5529,-68\"/>\r\n<text text-anchor=\"middle\" x=\"5472.5\" y=\"-52.8\" font-family=\"Helvetica,sans-Serif\" font-size=\"14.00\">gini = 0.0</text>\r\n<text text-anchor=\"middle\" x=\"5472.5\" y=\"-37.8\" font-family=\"Helvetica,sans-Serif\" font-size=\"14.00\">samples = 4</text>\r\n<text text-anchor=\"middle\" x=\"5472.5\" y=\"-22.8\" font-family=\"Helvetica,sans-Serif\" font-size=\"14.00\">value = [4, 0, 0]</text>\r\n<text text-anchor=\"middle\" x=\"5472.5\" y=\"-7.8\" font-family=\"Helvetica,sans-Serif\" font-size=\"14.00\">class = 0</text>\r\n</g>\r\n<!-- 77&#45;&gt;78 -->\r\n<g id=\"edge78\" class=\"edge\">\r\n<title>77&#45;&gt;78</title>\r\n<path fill=\"none\" stroke=\"black\" d=\"M5539.66,-103.73C5530.66,-94.51 5521.1,-84.74 5512.11,-75.53\"/>\r\n<polygon fill=\"black\" stroke=\"black\" points=\"5514.53,-73.01 5505.04,-68.3 5509.53,-77.9 5514.53,-73.01\"/>\r\n</g>\r\n<!-- 79 -->\r\n<g id=\"node80\" class=\"node\">\r\n<title>79</title>\r\n<polygon fill=\"none\" stroke=\"black\" points=\"5660,-68 5547,-68 5547,0 5660,0 5660,-68\"/>\r\n<text text-anchor=\"middle\" x=\"5603.5\" y=\"-52.8\" font-family=\"Helvetica,sans-Serif\" font-size=\"14.00\">gini = 0.0</text>\r\n<text text-anchor=\"middle\" x=\"5603.5\" y=\"-37.8\" font-family=\"Helvetica,sans-Serif\" font-size=\"14.00\">samples = 1</text>\r\n<text text-anchor=\"middle\" x=\"5603.5\" y=\"-22.8\" font-family=\"Helvetica,sans-Serif\" font-size=\"14.00\">value = [0, 1, 0]</text>\r\n<text text-anchor=\"middle\" x=\"5603.5\" y=\"-7.8\" font-family=\"Helvetica,sans-Serif\" font-size=\"14.00\">class = 1</text>\r\n</g>\r\n<!-- 77&#45;&gt;79 -->\r\n<g id=\"edge79\" class=\"edge\">\r\n<title>77&#45;&gt;79</title>\r\n<path fill=\"none\" stroke=\"black\" d=\"M5588.44,-103.73C5590.26,-95.43 5592.18,-86.67 5594.01,-78.28\"/>\r\n<polygon fill=\"black\" stroke=\"black\" points=\"5597.48,-78.82 5596.2,-68.3 5590.64,-77.32 5597.48,-78.82\"/>\r\n</g>\r\n<!-- 81 -->\r\n<g id=\"node82\" class=\"node\">\r\n<title>81</title>\r\n<polygon fill=\"none\" stroke=\"black\" points=\"5799,-68 5678,-68 5678,0 5799,0 5799,-68\"/>\r\n<text text-anchor=\"middle\" x=\"5738.5\" y=\"-52.8\" font-family=\"Helvetica,sans-Serif\" font-size=\"14.00\">gini = 0.0</text>\r\n<text text-anchor=\"middle\" x=\"5738.5\" y=\"-37.8\" font-family=\"Helvetica,sans-Serif\" font-size=\"14.00\">samples = 26</text>\r\n<text text-anchor=\"middle\" x=\"5738.5\" y=\"-22.8\" font-family=\"Helvetica,sans-Serif\" font-size=\"14.00\">value = [0, 26, 0]</text>\r\n<text text-anchor=\"middle\" x=\"5738.5\" y=\"-7.8\" font-family=\"Helvetica,sans-Serif\" font-size=\"14.00\">class = 1</text>\r\n</g>\r\n<!-- 80&#45;&gt;81 -->\r\n<g id=\"edge81\" class=\"edge\">\r\n<title>80&#45;&gt;81</title>\r\n<path fill=\"none\" stroke=\"black\" d=\"M5776.16,-103.73C5771.41,-95.06 5766.39,-85.9 5761.61,-77.18\"/>\r\n<polygon fill=\"black\" stroke=\"black\" points=\"5764.62,-75.39 5756.75,-68.3 5758.48,-78.75 5764.62,-75.39\"/>\r\n</g>\r\n<!-- 82 -->\r\n<g id=\"node83\" class=\"node\">\r\n<title>82</title>\r\n<polygon fill=\"none\" stroke=\"black\" points=\"5930,-68 5817,-68 5817,0 5930,0 5930,-68\"/>\r\n<text text-anchor=\"middle\" x=\"5873.5\" y=\"-52.8\" font-family=\"Helvetica,sans-Serif\" font-size=\"14.00\">gini = 0.0</text>\r\n<text text-anchor=\"middle\" x=\"5873.5\" y=\"-37.8\" font-family=\"Helvetica,sans-Serif\" font-size=\"14.00\">samples = 1</text>\r\n<text text-anchor=\"middle\" x=\"5873.5\" y=\"-22.8\" font-family=\"Helvetica,sans-Serif\" font-size=\"14.00\">value = [1, 0, 0]</text>\r\n<text text-anchor=\"middle\" x=\"5873.5\" y=\"-7.8\" font-family=\"Helvetica,sans-Serif\" font-size=\"14.00\">class = 0</text>\r\n</g>\r\n<!-- 80&#45;&gt;82 -->\r\n<g id=\"edge82\" class=\"edge\">\r\n<title>80&#45;&gt;82</title>\r\n<path fill=\"none\" stroke=\"black\" d=\"M5826.43,-103.73C5832.49,-94.88 5838.9,-85.51 5844.99,-76.63\"/>\r\n<polygon fill=\"black\" stroke=\"black\" points=\"5847.93,-78.53 5850.69,-68.3 5842.15,-74.57 5847.93,-78.53\"/>\r\n</g>\r\n<!-- 84 -->\r\n<g id=\"node85\" class=\"node\">\r\n<title>84</title>\r\n<polygon fill=\"none\" stroke=\"black\" points=\"6101,-187 5972,-187 5972,-104 6101,-104 6101,-187\"/>\r\n<text text-anchor=\"middle\" x=\"6036.5\" y=\"-171.8\" font-family=\"Helvetica,sans-Serif\" font-size=\"14.00\">Age &lt;= 0.527</text>\r\n<text text-anchor=\"middle\" x=\"6036.5\" y=\"-156.8\" font-family=\"Helvetica,sans-Serif\" font-size=\"14.00\">gini = 0.5</text>\r\n<text text-anchor=\"middle\" x=\"6036.5\" y=\"-141.8\" font-family=\"Helvetica,sans-Serif\" font-size=\"14.00\">samples = 122</text>\r\n<text text-anchor=\"middle\" x=\"6036.5\" y=\"-126.8\" font-family=\"Helvetica,sans-Serif\" font-size=\"14.00\">value = [62, 60, 0]</text>\r\n<text text-anchor=\"middle\" x=\"6036.5\" y=\"-111.8\" font-family=\"Helvetica,sans-Serif\" font-size=\"14.00\">class = 0</text>\r\n</g>\r\n<!-- 83&#45;&gt;84 -->\r\n<g id=\"edge84\" class=\"edge\">\r\n<title>83&#45;&gt;84</title>\r\n<path fill=\"none\" stroke=\"black\" d=\"M6036.5,-222.91C6036.5,-214.65 6036.5,-205.86 6036.5,-197.3\"/>\r\n<polygon fill=\"black\" stroke=\"black\" points=\"6040,-197.02 6036.5,-187.02 6033,-197.02 6040,-197.02\"/>\r\n</g>\r\n<!-- 87 -->\r\n<g id=\"node88\" class=\"node\">\r\n<title>87</title>\r\n<polygon fill=\"none\" stroke=\"black\" points=\"6415,-187 6166,-187 6166,-104 6415,-104 6415,-187\"/>\r\n<text text-anchor=\"middle\" x=\"6290.5\" y=\"-171.8\" font-family=\"Helvetica,sans-Serif\" font-size=\"14.00\">Amount_invested_monthly &lt;= &#45;1.107</text>\r\n<text text-anchor=\"middle\" x=\"6290.5\" y=\"-156.8\" font-family=\"Helvetica,sans-Serif\" font-size=\"14.00\">gini = 0.133</text>\r\n<text text-anchor=\"middle\" x=\"6290.5\" y=\"-141.8\" font-family=\"Helvetica,sans-Serif\" font-size=\"14.00\">samples = 14</text>\r\n<text text-anchor=\"middle\" x=\"6290.5\" y=\"-126.8\" font-family=\"Helvetica,sans-Serif\" font-size=\"14.00\">value = [1, 13, 0]</text>\r\n<text text-anchor=\"middle\" x=\"6290.5\" y=\"-111.8\" font-family=\"Helvetica,sans-Serif\" font-size=\"14.00\">class = 1</text>\r\n</g>\r\n<!-- 83&#45;&gt;87 -->\r\n<g id=\"edge87\" class=\"edge\">\r\n<title>83&#45;&gt;87</title>\r\n<path fill=\"none\" stroke=\"black\" d=\"M6124.62,-222.91C6146.79,-212.7 6170.7,-201.68 6193.28,-191.28\"/>\r\n<polygon fill=\"black\" stroke=\"black\" points=\"6194.91,-194.38 6202.53,-187.02 6191.98,-188.03 6194.91,-194.38\"/>\r\n</g>\r\n<!-- 85 -->\r\n<g id=\"node86\" class=\"node\">\r\n<title>85</title>\r\n<polygon fill=\"none\" stroke=\"black\" points=\"6077,-68 5948,-68 5948,0 6077,0 6077,-68\"/>\r\n<text text-anchor=\"middle\" x=\"6012.5\" y=\"-52.8\" font-family=\"Helvetica,sans-Serif\" font-size=\"14.00\">gini = 0.485</text>\r\n<text text-anchor=\"middle\" x=\"6012.5\" y=\"-37.8\" font-family=\"Helvetica,sans-Serif\" font-size=\"14.00\">samples = 92</text>\r\n<text text-anchor=\"middle\" x=\"6012.5\" y=\"-22.8\" font-family=\"Helvetica,sans-Serif\" font-size=\"14.00\">value = [38, 54, 0]</text>\r\n<text text-anchor=\"middle\" x=\"6012.5\" y=\"-7.8\" font-family=\"Helvetica,sans-Serif\" font-size=\"14.00\">class = 1</text>\r\n</g>\r\n<!-- 84&#45;&gt;85 -->\r\n<g id=\"edge85\" class=\"edge\">\r\n<title>84&#45;&gt;85</title>\r\n<path fill=\"none\" stroke=\"black\" d=\"M6027.56,-103.73C6025.74,-95.43 6023.82,-86.67 6021.99,-78.28\"/>\r\n<polygon fill=\"black\" stroke=\"black\" points=\"6025.36,-77.32 6019.8,-68.3 6018.52,-78.82 6025.36,-77.32\"/>\r\n</g>\r\n<!-- 86 -->\r\n<g id=\"node87\" class=\"node\">\r\n<title>86</title>\r\n<polygon fill=\"none\" stroke=\"black\" points=\"6216,-68 6095,-68 6095,0 6216,0 6216,-68\"/>\r\n<text text-anchor=\"middle\" x=\"6155.5\" y=\"-52.8\" font-family=\"Helvetica,sans-Serif\" font-size=\"14.00\">gini = 0.32</text>\r\n<text text-anchor=\"middle\" x=\"6155.5\" y=\"-37.8\" font-family=\"Helvetica,sans-Serif\" font-size=\"14.00\">samples = 30</text>\r\n<text text-anchor=\"middle\" x=\"6155.5\" y=\"-22.8\" font-family=\"Helvetica,sans-Serif\" font-size=\"14.00\">value = [24, 6, 0]</text>\r\n<text text-anchor=\"middle\" x=\"6155.5\" y=\"-7.8\" font-family=\"Helvetica,sans-Serif\" font-size=\"14.00\">class = 0</text>\r\n</g>\r\n<!-- 84&#45;&gt;86 -->\r\n<g id=\"edge86\" class=\"edge\">\r\n<title>84&#45;&gt;86</title>\r\n<path fill=\"none\" stroke=\"black\" d=\"M6080.81,-103.73C6090.92,-94.42 6101.66,-84.54 6111.75,-75.26\"/>\r\n<polygon fill=\"black\" stroke=\"black\" points=\"6114.32,-77.65 6119.31,-68.3 6109.58,-72.5 6114.32,-77.65\"/>\r\n</g>\r\n<!-- 88 -->\r\n<g id=\"node89\" class=\"node\">\r\n<title>88</title>\r\n<polygon fill=\"none\" stroke=\"black\" points=\"6347,-68 6234,-68 6234,0 6347,0 6347,-68\"/>\r\n<text text-anchor=\"middle\" x=\"6290.5\" y=\"-52.8\" font-family=\"Helvetica,sans-Serif\" font-size=\"14.00\">gini = 0.0</text>\r\n<text text-anchor=\"middle\" x=\"6290.5\" y=\"-37.8\" font-family=\"Helvetica,sans-Serif\" font-size=\"14.00\">samples = 1</text>\r\n<text text-anchor=\"middle\" x=\"6290.5\" y=\"-22.8\" font-family=\"Helvetica,sans-Serif\" font-size=\"14.00\">value = [1, 0, 0]</text>\r\n<text text-anchor=\"middle\" x=\"6290.5\" y=\"-7.8\" font-family=\"Helvetica,sans-Serif\" font-size=\"14.00\">class = 0</text>\r\n</g>\r\n<!-- 87&#45;&gt;88 -->\r\n<g id=\"edge88\" class=\"edge\">\r\n<title>87&#45;&gt;88</title>\r\n<path fill=\"none\" stroke=\"black\" d=\"M6290.5,-103.73C6290.5,-95.52 6290.5,-86.86 6290.5,-78.56\"/>\r\n<polygon fill=\"black\" stroke=\"black\" points=\"6294,-78.3 6290.5,-68.3 6287,-78.3 6294,-78.3\"/>\r\n</g>\r\n<!-- 89 -->\r\n<g id=\"node90\" class=\"node\">\r\n<title>89</title>\r\n<polygon fill=\"none\" stroke=\"black\" points=\"6486,-68 6365,-68 6365,0 6486,0 6486,-68\"/>\r\n<text text-anchor=\"middle\" x=\"6425.5\" y=\"-52.8\" font-family=\"Helvetica,sans-Serif\" font-size=\"14.00\">gini = 0.0</text>\r\n<text text-anchor=\"middle\" x=\"6425.5\" y=\"-37.8\" font-family=\"Helvetica,sans-Serif\" font-size=\"14.00\">samples = 13</text>\r\n<text text-anchor=\"middle\" x=\"6425.5\" y=\"-22.8\" font-family=\"Helvetica,sans-Serif\" font-size=\"14.00\">value = [0, 13, 0]</text>\r\n<text text-anchor=\"middle\" x=\"6425.5\" y=\"-7.8\" font-family=\"Helvetica,sans-Serif\" font-size=\"14.00\">class = 1</text>\r\n</g>\r\n<!-- 87&#45;&gt;89 -->\r\n<g id=\"edge89\" class=\"edge\">\r\n<title>87&#45;&gt;89</title>\r\n<path fill=\"none\" stroke=\"black\" d=\"M6340.77,-103.73C6352.46,-94.24 6364.9,-84.16 6376.54,-74.72\"/>\r\n<polygon fill=\"black\" stroke=\"black\" points=\"6378.88,-77.32 6384.45,-68.3 6374.47,-71.88 6378.88,-77.32\"/>\r\n</g>\r\n<!-- 91 -->\r\n<g id=\"node92\" class=\"node\">\r\n<title>91</title>\r\n<polygon fill=\"none\" stroke=\"black\" points=\"7385,-425 6948,-425 6948,-342 7385,-342 7385,-425\"/>\r\n<text text-anchor=\"middle\" x=\"7166.5\" y=\"-409.8\" font-family=\"Helvetica,sans-Serif\" font-size=\"14.00\">Payment_Behaviour_Low_spent_Small_value_payments &lt;= 0.563</text>\r\n<text text-anchor=\"middle\" x=\"7166.5\" y=\"-394.8\" font-family=\"Helvetica,sans-Serif\" font-size=\"14.00\">gini = 0.449</text>\r\n<text text-anchor=\"middle\" x=\"7166.5\" y=\"-379.8\" font-family=\"Helvetica,sans-Serif\" font-size=\"14.00\">samples = 22897</text>\r\n<text text-anchor=\"middle\" x=\"7166.5\" y=\"-364.8\" font-family=\"Helvetica,sans-Serif\" font-size=\"14.00\">value = [5732, 15958, 1207]</text>\r\n<text text-anchor=\"middle\" x=\"7166.5\" y=\"-349.8\" font-family=\"Helvetica,sans-Serif\" font-size=\"14.00\">class = 1</text>\r\n</g>\r\n<!-- 90&#45;&gt;91 -->\r\n<g id=\"edge91\" class=\"edge\">\r\n<title>90&#45;&gt;91</title>\r\n<path fill=\"none\" stroke=\"black\" d=\"M7166.5,-460.91C7166.5,-452.65 7166.5,-443.86 7166.5,-435.3\"/>\r\n<polygon fill=\"black\" stroke=\"black\" points=\"7170,-435.02 7166.5,-425.02 7163,-435.02 7170,-435.02\"/>\r\n</g>\r\n<!-- 106 -->\r\n<g id=\"node107\" class=\"node\">\r\n<title>106</title>\r\n<polygon fill=\"none\" stroke=\"black\" points=\"8429,-425 7992,-425 7992,-342 8429,-342 8429,-425\"/>\r\n<text text-anchor=\"middle\" x=\"8210.5\" y=\"-409.8\" font-family=\"Helvetica,sans-Serif\" font-size=\"14.00\">Payment_Behaviour_Low_spent_Small_value_payments &lt;= 0.563</text>\r\n<text text-anchor=\"middle\" x=\"8210.5\" y=\"-394.8\" font-family=\"Helvetica,sans-Serif\" font-size=\"14.00\">gini = 0.596</text>\r\n<text text-anchor=\"middle\" x=\"8210.5\" y=\"-379.8\" font-family=\"Helvetica,sans-Serif\" font-size=\"14.00\">samples = 12502</text>\r\n<text text-anchor=\"middle\" x=\"8210.5\" y=\"-364.8\" font-family=\"Helvetica,sans-Serif\" font-size=\"14.00\">value = [4216, 6488, 1798]</text>\r\n<text text-anchor=\"middle\" x=\"8210.5\" y=\"-349.8\" font-family=\"Helvetica,sans-Serif\" font-size=\"14.00\">class = 1</text>\r\n</g>\r\n<!-- 90&#45;&gt;106 -->\r\n<g id=\"edge106\" class=\"edge\">\r\n<title>90&#45;&gt;106</title>\r\n<path fill=\"none\" stroke=\"black\" d=\"M7264.25,-490.55C7426.93,-472.31 7757.47,-435.27 7981.51,-410.16\"/>\r\n<polygon fill=\"black\" stroke=\"black\" points=\"7982.21,-413.61 7991.76,-409.01 7981.43,-406.65 7982.21,-413.61\"/>\r\n</g>\r\n<!-- 92 -->\r\n<g id=\"node93\" class=\"node\">\r\n<title>92</title>\r\n<polygon fill=\"none\" stroke=\"black\" points=\"7232.5,-306 6792.5,-306 6792.5,-223 7232.5,-223 7232.5,-306\"/>\r\n<text text-anchor=\"middle\" x=\"7012.5\" y=\"-290.8\" font-family=\"Helvetica,sans-Serif\" font-size=\"14.00\">Payment_Behaviour_High_spent_Large_value_payments &lt;= 1.054</text>\r\n<text text-anchor=\"middle\" x=\"7012.5\" y=\"-275.8\" font-family=\"Helvetica,sans-Serif\" font-size=\"14.00\">gini = 0.436</text>\r\n<text text-anchor=\"middle\" x=\"7012.5\" y=\"-260.8\" font-family=\"Helvetica,sans-Serif\" font-size=\"14.00\">samples = 16899</text>\r\n<text text-anchor=\"middle\" x=\"7012.5\" y=\"-245.8\" font-family=\"Helvetica,sans-Serif\" font-size=\"14.00\">value = [3802, 12065, 1032]</text>\r\n<text text-anchor=\"middle\" x=\"7012.5\" y=\"-230.8\" font-family=\"Helvetica,sans-Serif\" font-size=\"14.00\">class = 1</text>\r\n</g>\r\n<!-- 91&#45;&gt;92 -->\r\n<g id=\"edge92\" class=\"edge\">\r\n<title>91&#45;&gt;92</title>\r\n<path fill=\"none\" stroke=\"black\" d=\"M7113.07,-341.91C7100.41,-332.29 7086.81,-321.95 7073.82,-312.09\"/>\r\n<polygon fill=\"black\" stroke=\"black\" points=\"7075.92,-309.28 7065.84,-306.02 7071.68,-314.86 7075.92,-309.28\"/>\r\n</g>\r\n<!-- 99 -->\r\n<g id=\"node100\" class=\"node\">\r\n<title>99</title>\r\n<polygon fill=\"none\" stroke=\"black\" points=\"7444,-306 7263,-306 7263,-223 7444,-223 7444,-306\"/>\r\n<text text-anchor=\"middle\" x=\"7353.5\" y=\"-290.8\" font-family=\"Helvetica,sans-Serif\" font-size=\"14.00\">Annual_Income &lt;= &#45;1.058</text>\r\n<text text-anchor=\"middle\" x=\"7353.5\" y=\"-275.8\" font-family=\"Helvetica,sans-Serif\" font-size=\"14.00\">gini = 0.474</text>\r\n<text text-anchor=\"middle\" x=\"7353.5\" y=\"-260.8\" font-family=\"Helvetica,sans-Serif\" font-size=\"14.00\">samples = 5998</text>\r\n<text text-anchor=\"middle\" x=\"7353.5\" y=\"-245.8\" font-family=\"Helvetica,sans-Serif\" font-size=\"14.00\">value = [1930, 3893, 175]</text>\r\n<text text-anchor=\"middle\" x=\"7353.5\" y=\"-230.8\" font-family=\"Helvetica,sans-Serif\" font-size=\"14.00\">class = 1</text>\r\n</g>\r\n<!-- 91&#45;&gt;99 -->\r\n<g id=\"edge99\" class=\"edge\">\r\n<title>91&#45;&gt;99</title>\r\n<path fill=\"none\" stroke=\"black\" d=\"M7231.38,-341.91C7247.04,-332.11 7263.9,-321.56 7279.93,-311.53\"/>\r\n<polygon fill=\"black\" stroke=\"black\" points=\"7282.11,-314.29 7288.74,-306.02 7278.4,-308.36 7282.11,-314.29\"/>\r\n</g>\r\n<!-- 93 -->\r\n<g id=\"node94\" class=\"node\">\r\n<title>93</title>\r\n<polygon fill=\"none\" stroke=\"black\" points=\"6873,-187 6692,-187 6692,-104 6873,-104 6873,-187\"/>\r\n<text text-anchor=\"middle\" x=\"6782.5\" y=\"-171.8\" font-family=\"Helvetica,sans-Serif\" font-size=\"14.00\">Annual_Income &lt;= &#45;0.937</text>\r\n<text text-anchor=\"middle\" x=\"6782.5\" y=\"-156.8\" font-family=\"Helvetica,sans-Serif\" font-size=\"14.00\">gini = 0.444</text>\r\n<text text-anchor=\"middle\" x=\"6782.5\" y=\"-141.8\" font-family=\"Helvetica,sans-Serif\" font-size=\"14.00\">samples = 13939</text>\r\n<text text-anchor=\"middle\" x=\"6782.5\" y=\"-126.8\" font-family=\"Helvetica,sans-Serif\" font-size=\"14.00\">value = [3308, 9825, 806]</text>\r\n<text text-anchor=\"middle\" x=\"6782.5\" y=\"-111.8\" font-family=\"Helvetica,sans-Serif\" font-size=\"14.00\">class = 1</text>\r\n</g>\r\n<!-- 92&#45;&gt;93 -->\r\n<g id=\"edge93\" class=\"edge\">\r\n<title>92&#45;&gt;93</title>\r\n<path fill=\"none\" stroke=\"black\" d=\"M6932.7,-222.91C6912.81,-212.79 6891.36,-201.88 6871.08,-191.56\"/>\r\n<polygon fill=\"black\" stroke=\"black\" points=\"6872.66,-188.44 6862.16,-187.02 6869.48,-194.67 6872.66,-188.44\"/>\r\n</g>\r\n<!-- 96 -->\r\n<g id=\"node97\" class=\"node\">\r\n<title>96</title>\r\n<polygon fill=\"none\" stroke=\"black\" points=\"7122.5,-187 6902.5,-187 6902.5,-104 7122.5,-104 7122.5,-187\"/>\r\n<text text-anchor=\"middle\" x=\"7012.5\" y=\"-171.8\" font-family=\"Helvetica,sans-Serif\" font-size=\"14.00\">Changed_Credit_Limit &lt;= 2.945</text>\r\n<text text-anchor=\"middle\" x=\"7012.5\" y=\"-156.8\" font-family=\"Helvetica,sans-Serif\" font-size=\"14.00\">gini = 0.394</text>\r\n<text text-anchor=\"middle\" x=\"7012.5\" y=\"-141.8\" font-family=\"Helvetica,sans-Serif\" font-size=\"14.00\">samples = 2960</text>\r\n<text text-anchor=\"middle\" x=\"7012.5\" y=\"-126.8\" font-family=\"Helvetica,sans-Serif\" font-size=\"14.00\">value = [494, 2240, 226]</text>\r\n<text text-anchor=\"middle\" x=\"7012.5\" y=\"-111.8\" font-family=\"Helvetica,sans-Serif\" font-size=\"14.00\">class = 1</text>\r\n</g>\r\n<!-- 92&#45;&gt;96 -->\r\n<g id=\"edge96\" class=\"edge\">\r\n<title>92&#45;&gt;96</title>\r\n<path fill=\"none\" stroke=\"black\" d=\"M7012.5,-222.91C7012.5,-214.65 7012.5,-205.86 7012.5,-197.3\"/>\r\n<polygon fill=\"black\" stroke=\"black\" points=\"7016,-197.02 7012.5,-187.02 7009,-197.02 7016,-197.02\"/>\r\n</g>\r\n<!-- 94 -->\r\n<g id=\"node95\" class=\"node\">\r\n<title>94</title>\r\n<polygon fill=\"none\" stroke=\"black\" points=\"6674.5,-68 6504.5,-68 6504.5,0 6674.5,0 6674.5,-68\"/>\r\n<text text-anchor=\"middle\" x=\"6589.5\" y=\"-52.8\" font-family=\"Helvetica,sans-Serif\" font-size=\"14.00\">gini = 0.404</text>\r\n<text text-anchor=\"middle\" x=\"6589.5\" y=\"-37.8\" font-family=\"Helvetica,sans-Serif\" font-size=\"14.00\">samples = 1933</text>\r\n<text text-anchor=\"middle\" x=\"6589.5\" y=\"-22.8\" font-family=\"Helvetica,sans-Serif\" font-size=\"14.00\">value = [371, 1440, 122]</text>\r\n<text text-anchor=\"middle\" x=\"6589.5\" y=\"-7.8\" font-family=\"Helvetica,sans-Serif\" font-size=\"14.00\">class = 1</text>\r\n</g>\r\n<!-- 93&#45;&gt;94 -->\r\n<g id=\"edge94\" class=\"edge\">\r\n<title>93&#45;&gt;94</title>\r\n<path fill=\"none\" stroke=\"black\" d=\"M6710.91,-103.88C6693.19,-93.83 6674.26,-83.09 6656.75,-73.16\"/>\r\n<polygon fill=\"black\" stroke=\"black\" points=\"6658.17,-69.93 6647.74,-68.04 6654.71,-76.02 6658.17,-69.93\"/>\r\n</g>\r\n<!-- 95 -->\r\n<g id=\"node96\" class=\"node\">\r\n<title>95</title>\r\n<polygon fill=\"none\" stroke=\"black\" points=\"6872,-68 6693,-68 6693,0 6872,0 6872,-68\"/>\r\n<text text-anchor=\"middle\" x=\"6782.5\" y=\"-52.8\" font-family=\"Helvetica,sans-Serif\" font-size=\"14.00\">gini = 0.449</text>\r\n<text text-anchor=\"middle\" x=\"6782.5\" y=\"-37.8\" font-family=\"Helvetica,sans-Serif\" font-size=\"14.00\">samples = 12006</text>\r\n<text text-anchor=\"middle\" x=\"6782.5\" y=\"-22.8\" font-family=\"Helvetica,sans-Serif\" font-size=\"14.00\">value = [2937, 8385, 684]</text>\r\n<text text-anchor=\"middle\" x=\"6782.5\" y=\"-7.8\" font-family=\"Helvetica,sans-Serif\" font-size=\"14.00\">class = 1</text>\r\n</g>\r\n<!-- 93&#45;&gt;95 -->\r\n<g id=\"edge95\" class=\"edge\">\r\n<title>93&#45;&gt;95</title>\r\n<path fill=\"none\" stroke=\"black\" d=\"M6782.5,-103.73C6782.5,-95.52 6782.5,-86.86 6782.5,-78.56\"/>\r\n<polygon fill=\"black\" stroke=\"black\" points=\"6786,-78.3 6782.5,-68.3 6779,-78.3 6786,-78.3\"/>\r\n</g>\r\n<!-- 97 -->\r\n<g id=\"node98\" class=\"node\">\r\n<title>97</title>\r\n<polygon fill=\"none\" stroke=\"black\" points=\"7060.5,-68 6890.5,-68 6890.5,0 7060.5,0 7060.5,-68\"/>\r\n<text text-anchor=\"middle\" x=\"6975.5\" y=\"-52.8\" font-family=\"Helvetica,sans-Serif\" font-size=\"14.00\">gini = 0.397</text>\r\n<text text-anchor=\"middle\" x=\"6975.5\" y=\"-37.8\" font-family=\"Helvetica,sans-Serif\" font-size=\"14.00\">samples = 2901</text>\r\n<text text-anchor=\"middle\" x=\"6975.5\" y=\"-22.8\" font-family=\"Helvetica,sans-Serif\" font-size=\"14.00\">value = [493, 2186, 222]</text>\r\n<text text-anchor=\"middle\" x=\"6975.5\" y=\"-7.8\" font-family=\"Helvetica,sans-Serif\" font-size=\"14.00\">class = 1</text>\r\n</g>\r\n<!-- 96&#45;&gt;97 -->\r\n<g id=\"edge97\" class=\"edge\">\r\n<title>96&#45;&gt;97</title>\r\n<path fill=\"none\" stroke=\"black\" d=\"M6998.72,-103.73C6995.89,-95.34 6992.89,-86.47 6990.03,-78.01\"/>\r\n<polygon fill=\"black\" stroke=\"black\" points=\"6993.27,-76.65 6986.75,-68.3 6986.64,-78.89 6993.27,-76.65\"/>\r\n</g>\r\n<!-- 98 -->\r\n<g id=\"node99\" class=\"node\">\r\n<title>98</title>\r\n<polygon fill=\"none\" stroke=\"black\" points=\"7200,-68 7079,-68 7079,0 7200,0 7200,-68\"/>\r\n<text text-anchor=\"middle\" x=\"7139.5\" y=\"-52.8\" font-family=\"Helvetica,sans-Serif\" font-size=\"14.00\">gini = 0.157</text>\r\n<text text-anchor=\"middle\" x=\"7139.5\" y=\"-37.8\" font-family=\"Helvetica,sans-Serif\" font-size=\"14.00\">samples = 59</text>\r\n<text text-anchor=\"middle\" x=\"7139.5\" y=\"-22.8\" font-family=\"Helvetica,sans-Serif\" font-size=\"14.00\">value = [1, 54, 4]</text>\r\n<text text-anchor=\"middle\" x=\"7139.5\" y=\"-7.8\" font-family=\"Helvetica,sans-Serif\" font-size=\"14.00\">class = 1</text>\r\n</g>\r\n<!-- 96&#45;&gt;98 -->\r\n<g id=\"edge98\" class=\"edge\">\r\n<title>96&#45;&gt;98</title>\r\n<path fill=\"none\" stroke=\"black\" d=\"M7059.79,-103.73C7070.69,-94.33 7082.26,-84.35 7093.12,-74.99\"/>\r\n<polygon fill=\"black\" stroke=\"black\" points=\"7095.59,-77.48 7100.88,-68.3 7091.02,-72.18 7095.59,-77.48\"/>\r\n</g>\r\n<!-- 100 -->\r\n<g id=\"node101\" class=\"node\">\r\n<title>100</title>\r\n<polygon fill=\"none\" stroke=\"black\" points=\"7449.5,-187 7257.5,-187 7257.5,-104 7449.5,-104 7449.5,-187\"/>\r\n<text text-anchor=\"middle\" x=\"7353.5\" y=\"-171.8\" font-family=\"Helvetica,sans-Serif\" font-size=\"14.00\">Outstanding_Debt &lt;= 1.409</text>\r\n<text text-anchor=\"middle\" x=\"7353.5\" y=\"-156.8\" font-family=\"Helvetica,sans-Serif\" font-size=\"14.00\">gini = 0.423</text>\r\n<text text-anchor=\"middle\" x=\"7353.5\" y=\"-141.8\" font-family=\"Helvetica,sans-Serif\" font-size=\"14.00\">samples = 500</text>\r\n<text text-anchor=\"middle\" x=\"7353.5\" y=\"-126.8\" font-family=\"Helvetica,sans-Serif\" font-size=\"14.00\">value = [129, 357, 14]</text>\r\n<text text-anchor=\"middle\" x=\"7353.5\" y=\"-111.8\" font-family=\"Helvetica,sans-Serif\" font-size=\"14.00\">class = 1</text>\r\n</g>\r\n<!-- 99&#45;&gt;100 -->\r\n<g id=\"edge100\" class=\"edge\">\r\n<title>99&#45;&gt;100</title>\r\n<path fill=\"none\" stroke=\"black\" d=\"M7353.5,-222.91C7353.5,-214.65 7353.5,-205.86 7353.5,-197.3\"/>\r\n<polygon fill=\"black\" stroke=\"black\" points=\"7357,-197.02 7353.5,-187.02 7350,-197.02 7357,-197.02\"/>\r\n</g>\r\n<!-- 103 -->\r\n<g id=\"node104\" class=\"node\">\r\n<title>103</title>\r\n<polygon fill=\"none\" stroke=\"black\" points=\"7671,-187 7490,-187 7490,-104 7671,-104 7671,-187\"/>\r\n<text text-anchor=\"middle\" x=\"7580.5\" y=\"-171.8\" font-family=\"Helvetica,sans-Serif\" font-size=\"14.00\">Annual_Income &lt;= &#45;1.052</text>\r\n<text text-anchor=\"middle\" x=\"7580.5\" y=\"-156.8\" font-family=\"Helvetica,sans-Serif\" font-size=\"14.00\">gini = 0.478</text>\r\n<text text-anchor=\"middle\" x=\"7580.5\" y=\"-141.8\" font-family=\"Helvetica,sans-Serif\" font-size=\"14.00\">samples = 5498</text>\r\n<text text-anchor=\"middle\" x=\"7580.5\" y=\"-126.8\" font-family=\"Helvetica,sans-Serif\" font-size=\"14.00\">value = [1801, 3536, 161]</text>\r\n<text text-anchor=\"middle\" x=\"7580.5\" y=\"-111.8\" font-family=\"Helvetica,sans-Serif\" font-size=\"14.00\">class = 1</text>\r\n</g>\r\n<!-- 99&#45;&gt;103 -->\r\n<g id=\"edge103\" class=\"edge\">\r\n<title>99&#45;&gt;103</title>\r\n<path fill=\"none\" stroke=\"black\" d=\"M7432.26,-222.91C7451.8,-212.83 7472.87,-201.98 7492.81,-191.7\"/>\r\n<polygon fill=\"black\" stroke=\"black\" points=\"7494.6,-194.71 7501.88,-187.02 7491.39,-188.49 7494.6,-194.71\"/>\r\n</g>\r\n<!-- 101 -->\r\n<g id=\"node102\" class=\"node\">\r\n<title>101</title>\r\n<polygon fill=\"none\" stroke=\"black\" points=\"7355,-68 7218,-68 7218,0 7355,0 7355,-68\"/>\r\n<text text-anchor=\"middle\" x=\"7286.5\" y=\"-52.8\" font-family=\"Helvetica,sans-Serif\" font-size=\"14.00\">gini = 0.37</text>\r\n<text text-anchor=\"middle\" x=\"7286.5\" y=\"-37.8\" font-family=\"Helvetica,sans-Serif\" font-size=\"14.00\">samples = 372</text>\r\n<text text-anchor=\"middle\" x=\"7286.5\" y=\"-22.8\" font-family=\"Helvetica,sans-Serif\" font-size=\"14.00\">value = [80, 284, 8]</text>\r\n<text text-anchor=\"middle\" x=\"7286.5\" y=\"-7.8\" font-family=\"Helvetica,sans-Serif\" font-size=\"14.00\">class = 1</text>\r\n</g>\r\n<!-- 100&#45;&gt;101 -->\r\n<g id=\"edge101\" class=\"edge\">\r\n<title>100&#45;&gt;101</title>\r\n<path fill=\"none\" stroke=\"black\" d=\"M7328.55,-103.73C7323.19,-94.97 7317.52,-85.7 7312.14,-76.91\"/>\r\n<polygon fill=\"black\" stroke=\"black\" points=\"7315.08,-75 7306.88,-68.3 7309.11,-78.66 7315.08,-75\"/>\r\n</g>\r\n<!-- 102 -->\r\n<g id=\"node103\" class=\"node\">\r\n<title>102</title>\r\n<polygon fill=\"none\" stroke=\"black\" points=\"7502,-68 7373,-68 7373,0 7502,0 7502,-68\"/>\r\n<text text-anchor=\"middle\" x=\"7437.5\" y=\"-52.8\" font-family=\"Helvetica,sans-Serif\" font-size=\"14.00\">gini = 0.526</text>\r\n<text text-anchor=\"middle\" x=\"7437.5\" y=\"-37.8\" font-family=\"Helvetica,sans-Serif\" font-size=\"14.00\">samples = 128</text>\r\n<text text-anchor=\"middle\" x=\"7437.5\" y=\"-22.8\" font-family=\"Helvetica,sans-Serif\" font-size=\"14.00\">value = [49, 73, 6]</text>\r\n<text text-anchor=\"middle\" x=\"7437.5\" y=\"-7.8\" font-family=\"Helvetica,sans-Serif\" font-size=\"14.00\">class = 1</text>\r\n</g>\r\n<!-- 100&#45;&gt;102 -->\r\n<g id=\"edge102\" class=\"edge\">\r\n<title>100&#45;&gt;102</title>\r\n<path fill=\"none\" stroke=\"black\" d=\"M7384.78,-103.73C7391.64,-94.79 7398.9,-85.32 7405.78,-76.36\"/>\r\n<polygon fill=\"black\" stroke=\"black\" points=\"7408.65,-78.36 7411.96,-68.3 7403.09,-74.1 7408.65,-78.36\"/>\r\n</g>\r\n<!-- 104 -->\r\n<g id=\"node105\" class=\"node\">\r\n<title>104</title>\r\n<polygon fill=\"none\" stroke=\"black\" points=\"7641,-68 7520,-68 7520,0 7641,0 7641,-68\"/>\r\n<text text-anchor=\"middle\" x=\"7580.5\" y=\"-52.8\" font-family=\"Helvetica,sans-Serif\" font-size=\"14.00\">gini = 0.117</text>\r\n<text text-anchor=\"middle\" x=\"7580.5\" y=\"-37.8\" font-family=\"Helvetica,sans-Serif\" font-size=\"14.00\">samples = 16</text>\r\n<text text-anchor=\"middle\" x=\"7580.5\" y=\"-22.8\" font-family=\"Helvetica,sans-Serif\" font-size=\"14.00\">value = [15, 1, 0]</text>\r\n<text text-anchor=\"middle\" x=\"7580.5\" y=\"-7.8\" font-family=\"Helvetica,sans-Serif\" font-size=\"14.00\">class = 0</text>\r\n</g>\r\n<!-- 103&#45;&gt;104 -->\r\n<g id=\"edge104\" class=\"edge\">\r\n<title>103&#45;&gt;104</title>\r\n<path fill=\"none\" stroke=\"black\" d=\"M7580.5,-103.73C7580.5,-95.52 7580.5,-86.86 7580.5,-78.56\"/>\r\n<polygon fill=\"black\" stroke=\"black\" points=\"7584,-78.3 7580.5,-68.3 7577,-78.3 7584,-78.3\"/>\r\n</g>\r\n<!-- 105 -->\r\n<g id=\"node106\" class=\"node\">\r\n<title>105</title>\r\n<polygon fill=\"none\" stroke=\"black\" points=\"7838,-68 7659,-68 7659,0 7838,0 7838,-68\"/>\r\n<text text-anchor=\"middle\" x=\"7748.5\" y=\"-52.8\" font-family=\"Helvetica,sans-Serif\" font-size=\"14.00\">gini = 0.477</text>\r\n<text text-anchor=\"middle\" x=\"7748.5\" y=\"-37.8\" font-family=\"Helvetica,sans-Serif\" font-size=\"14.00\">samples = 5482</text>\r\n<text text-anchor=\"middle\" x=\"7748.5\" y=\"-22.8\" font-family=\"Helvetica,sans-Serif\" font-size=\"14.00\">value = [1786, 3535, 161]</text>\r\n<text text-anchor=\"middle\" x=\"7748.5\" y=\"-7.8\" font-family=\"Helvetica,sans-Serif\" font-size=\"14.00\">class = 1</text>\r\n</g>\r\n<!-- 103&#45;&gt;105 -->\r\n<g id=\"edge105\" class=\"edge\">\r\n<title>103&#45;&gt;105</title>\r\n<path fill=\"none\" stroke=\"black\" d=\"M7643.06,-103.73C7658.11,-93.92 7674.14,-83.46 7689.05,-73.75\"/>\r\n<polygon fill=\"black\" stroke=\"black\" points=\"7691.21,-76.52 7697.68,-68.13 7687.39,-70.65 7691.21,-76.52\"/>\r\n</g>\r\n<!-- 107 -->\r\n<g id=\"node108\" class=\"node\">\r\n<title>107</title>\r\n<polygon fill=\"none\" stroke=\"black\" points=\"8430.5,-306 7990.5,-306 7990.5,-223 8430.5,-223 8430.5,-306\"/>\r\n<text text-anchor=\"middle\" x=\"8210.5\" y=\"-290.8\" font-family=\"Helvetica,sans-Serif\" font-size=\"14.00\">Payment_Behaviour_High_spent_Large_value_payments &lt;= 1.054</text>\r\n<text text-anchor=\"middle\" x=\"8210.5\" y=\"-275.8\" font-family=\"Helvetica,sans-Serif\" font-size=\"14.00\">gini = 0.598</text>\r\n<text text-anchor=\"middle\" x=\"8210.5\" y=\"-260.8\" font-family=\"Helvetica,sans-Serif\" font-size=\"14.00\">samples = 9132</text>\r\n<text text-anchor=\"middle\" x=\"8210.5\" y=\"-245.8\" font-family=\"Helvetica,sans-Serif\" font-size=\"14.00\">value = [2838, 4830, 1464]</text>\r\n<text text-anchor=\"middle\" x=\"8210.5\" y=\"-230.8\" font-family=\"Helvetica,sans-Serif\" font-size=\"14.00\">class = 1</text>\r\n</g>\r\n<!-- 106&#45;&gt;107 -->\r\n<g id=\"edge107\" class=\"edge\">\r\n<title>106&#45;&gt;107</title>\r\n<path fill=\"none\" stroke=\"black\" d=\"M8210.5,-341.91C8210.5,-333.65 8210.5,-324.86 8210.5,-316.3\"/>\r\n<polygon fill=\"black\" stroke=\"black\" points=\"8214,-316.02 8210.5,-306.02 8207,-316.02 8214,-316.02\"/>\r\n</g>\r\n<!-- 114 -->\r\n<g id=\"node115\" class=\"node\">\r\n<title>114</title>\r\n<polygon fill=\"none\" stroke=\"black\" points=\"8800.5,-306 8572.5,-306 8572.5,-223 8800.5,-223 8800.5,-306\"/>\r\n<text text-anchor=\"middle\" x=\"8686.5\" y=\"-290.8\" font-family=\"Helvetica,sans-Serif\" font-size=\"14.00\">Monthly_Inhand_Salary &lt;= &#45;1.462</text>\r\n<text text-anchor=\"middle\" x=\"8686.5\" y=\"-275.8\" font-family=\"Helvetica,sans-Serif\" font-size=\"14.00\">gini = 0.581</text>\r\n<text text-anchor=\"middle\" x=\"8686.5\" y=\"-260.8\" font-family=\"Helvetica,sans-Serif\" font-size=\"14.00\">samples = 3370</text>\r\n<text text-anchor=\"middle\" x=\"8686.5\" y=\"-245.8\" font-family=\"Helvetica,sans-Serif\" font-size=\"14.00\">value = [1378, 1658, 334]</text>\r\n<text text-anchor=\"middle\" x=\"8686.5\" y=\"-230.8\" font-family=\"Helvetica,sans-Serif\" font-size=\"14.00\">class = 1</text>\r\n</g>\r\n<!-- 106&#45;&gt;114 -->\r\n<g id=\"edge114\" class=\"edge\">\r\n<title>106&#45;&gt;114</title>\r\n<path fill=\"none\" stroke=\"black\" d=\"M8375.31,-341.99C8436.76,-326.88 8505.43,-310.01 8562.59,-295.96\"/>\r\n<polygon fill=\"black\" stroke=\"black\" points=\"8563.51,-299.33 8572.39,-293.55 8561.84,-292.54 8563.51,-299.33\"/>\r\n</g>\r\n<!-- 108 -->\r\n<g id=\"node109\" class=\"node\">\r\n<title>108</title>\r\n<polygon fill=\"none\" stroke=\"black\" points=\"8218,-187 8031,-187 8031,-104 8218,-104 8218,-187\"/>\r\n<text text-anchor=\"middle\" x=\"8124.5\" y=\"-171.8\" font-family=\"Helvetica,sans-Serif\" font-size=\"14.00\">Num_of_Loan &lt;= 2.573</text>\r\n<text text-anchor=\"middle\" x=\"8124.5\" y=\"-156.8\" font-family=\"Helvetica,sans-Serif\" font-size=\"14.00\">gini = 0.595</text>\r\n<text text-anchor=\"middle\" x=\"8124.5\" y=\"-141.8\" font-family=\"Helvetica,sans-Serif\" font-size=\"14.00\">samples = 7581</text>\r\n<text text-anchor=\"middle\" x=\"8124.5\" y=\"-126.8\" font-family=\"Helvetica,sans-Serif\" font-size=\"14.00\">value = [2442, 4002, 1137]</text>\r\n<text text-anchor=\"middle\" x=\"8124.5\" y=\"-111.8\" font-family=\"Helvetica,sans-Serif\" font-size=\"14.00\">class = 1</text>\r\n</g>\r\n<!-- 107&#45;&gt;108 -->\r\n<g id=\"edge108\" class=\"edge\">\r\n<title>107&#45;&gt;108</title>\r\n<path fill=\"none\" stroke=\"black\" d=\"M8180.66,-222.91C8174.13,-214.01 8167.14,-204.51 8160.39,-195.33\"/>\r\n<polygon fill=\"black\" stroke=\"black\" points=\"8163.03,-193.01 8154.28,-187.02 8157.39,-197.15 8163.03,-193.01\"/>\r\n</g>\r\n<!-- 111 -->\r\n<g id=\"node112\" class=\"node\">\r\n<title>111</title>\r\n<polygon fill=\"none\" stroke=\"black\" points=\"8421,-187 8236,-187 8236,-104 8421,-104 8421,-187\"/>\r\n<text text-anchor=\"middle\" x=\"8328.5\" y=\"-171.8\" font-family=\"Helvetica,sans-Serif\" font-size=\"14.00\">Monthly_Balance &lt;= 0.101</text>\r\n<text text-anchor=\"middle\" x=\"8328.5\" y=\"-156.8\" font-family=\"Helvetica,sans-Serif\" font-size=\"14.00\">gini = 0.605</text>\r\n<text text-anchor=\"middle\" x=\"8328.5\" y=\"-141.8\" font-family=\"Helvetica,sans-Serif\" font-size=\"14.00\">samples = 1551</text>\r\n<text text-anchor=\"middle\" x=\"8328.5\" y=\"-126.8\" font-family=\"Helvetica,sans-Serif\" font-size=\"14.00\">value = [396, 828, 327]</text>\r\n<text text-anchor=\"middle\" x=\"8328.5\" y=\"-111.8\" font-family=\"Helvetica,sans-Serif\" font-size=\"14.00\">class = 1</text>\r\n</g>\r\n<!-- 107&#45;&gt;111 -->\r\n<g id=\"edge111\" class=\"edge\">\r\n<title>107&#45;&gt;111</title>\r\n<path fill=\"none\" stroke=\"black\" d=\"M8251.44,-222.91C8260.78,-213.65 8270.78,-203.73 8280.38,-194.21\"/>\r\n<polygon fill=\"black\" stroke=\"black\" points=\"8283,-196.55 8287.63,-187.02 8278.07,-191.58 8283,-196.55\"/>\r\n</g>\r\n<!-- 109 -->\r\n<g id=\"node110\" class=\"node\">\r\n<title>109</title>\r\n<polygon fill=\"none\" stroke=\"black\" points=\"8043,-68 7856,-68 7856,0 8043,0 8043,-68\"/>\r\n<text text-anchor=\"middle\" x=\"7949.5\" y=\"-52.8\" font-family=\"Helvetica,sans-Serif\" font-size=\"14.00\">gini = 0.595</text>\r\n<text text-anchor=\"middle\" x=\"7949.5\" y=\"-37.8\" font-family=\"Helvetica,sans-Serif\" font-size=\"14.00\">samples = 7326</text>\r\n<text text-anchor=\"middle\" x=\"7949.5\" y=\"-22.8\" font-family=\"Helvetica,sans-Serif\" font-size=\"14.00\">value = [2336, 3880, 1110]</text>\r\n<text text-anchor=\"middle\" x=\"7949.5\" y=\"-7.8\" font-family=\"Helvetica,sans-Serif\" font-size=\"14.00\">class = 1</text>\r\n</g>\r\n<!-- 108&#45;&gt;109 -->\r\n<g id=\"edge109\" class=\"edge\">\r\n<title>108&#45;&gt;109</title>\r\n<path fill=\"none\" stroke=\"black\" d=\"M8059.34,-103.73C8043.51,-93.82 8026.64,-83.27 8010.99,-73.48\"/>\r\n<polygon fill=\"black\" stroke=\"black\" points=\"8012.77,-70.46 8002.44,-68.13 8009.06,-76.4 8012.77,-70.46\"/>\r\n</g>\r\n<!-- 110 -->\r\n<g id=\"node111\" class=\"node\">\r\n<title>110</title>\r\n<polygon fill=\"none\" stroke=\"black\" points=\"8215.5,-68 8061.5,-68 8061.5,0 8215.5,0 8215.5,-68\"/>\r\n<text text-anchor=\"middle\" x=\"8138.5\" y=\"-52.8\" font-family=\"Helvetica,sans-Serif\" font-size=\"14.00\">gini = 0.587</text>\r\n<text text-anchor=\"middle\" x=\"8138.5\" y=\"-37.8\" font-family=\"Helvetica,sans-Serif\" font-size=\"14.00\">samples = 255</text>\r\n<text text-anchor=\"middle\" x=\"8138.5\" y=\"-22.8\" font-family=\"Helvetica,sans-Serif\" font-size=\"14.00\">value = [106, 122, 27]</text>\r\n<text text-anchor=\"middle\" x=\"8138.5\" y=\"-7.8\" font-family=\"Helvetica,sans-Serif\" font-size=\"14.00\">class = 1</text>\r\n</g>\r\n<!-- 108&#45;&gt;110 -->\r\n<g id=\"edge110\" class=\"edge\">\r\n<title>108&#45;&gt;110</title>\r\n<path fill=\"none\" stroke=\"black\" d=\"M8129.71,-103.73C8130.77,-95.43 8131.89,-86.67 8132.97,-78.28\"/>\r\n<polygon fill=\"black\" stroke=\"black\" points=\"8136.45,-78.66 8134.24,-68.3 8129.5,-77.77 8136.45,-78.66\"/>\r\n</g>\r\n<!-- 112 -->\r\n<g id=\"node113\" class=\"node\">\r\n<title>112</title>\r\n<polygon fill=\"none\" stroke=\"black\" points=\"8395.5,-68 8233.5,-68 8233.5,0 8395.5,0 8395.5,-68\"/>\r\n<text text-anchor=\"middle\" x=\"8314.5\" y=\"-52.8\" font-family=\"Helvetica,sans-Serif\" font-size=\"14.00\">gini = 0.613</text>\r\n<text text-anchor=\"middle\" x=\"8314.5\" y=\"-37.8\" font-family=\"Helvetica,sans-Serif\" font-size=\"14.00\">samples = 1302</text>\r\n<text text-anchor=\"middle\" x=\"8314.5\" y=\"-22.8\" font-family=\"Helvetica,sans-Serif\" font-size=\"14.00\">value = [347, 676, 279]</text>\r\n<text text-anchor=\"middle\" x=\"8314.5\" y=\"-7.8\" font-family=\"Helvetica,sans-Serif\" font-size=\"14.00\">class = 1</text>\r\n</g>\r\n<!-- 111&#45;&gt;112 -->\r\n<g id=\"edge112\" class=\"edge\">\r\n<title>111&#45;&gt;112</title>\r\n<path fill=\"none\" stroke=\"black\" d=\"M8323.29,-103.73C8322.23,-95.43 8321.11,-86.67 8320.03,-78.28\"/>\r\n<polygon fill=\"black\" stroke=\"black\" points=\"8323.5,-77.77 8318.76,-68.3 8316.55,-78.66 8323.5,-77.77\"/>\r\n</g>\r\n<!-- 113 -->\r\n<g id=\"node114\" class=\"node\">\r\n<title>113</title>\r\n<polygon fill=\"none\" stroke=\"black\" points=\"8559.5,-68 8413.5,-68 8413.5,0 8559.5,0 8559.5,-68\"/>\r\n<text text-anchor=\"middle\" x=\"8486.5\" y=\"-52.8\" font-family=\"Helvetica,sans-Serif\" font-size=\"14.00\">gini = 0.551</text>\r\n<text text-anchor=\"middle\" x=\"8486.5\" y=\"-37.8\" font-family=\"Helvetica,sans-Serif\" font-size=\"14.00\">samples = 249</text>\r\n<text text-anchor=\"middle\" x=\"8486.5\" y=\"-22.8\" font-family=\"Helvetica,sans-Serif\" font-size=\"14.00\">value = [49, 152, 48]</text>\r\n<text text-anchor=\"middle\" x=\"8486.5\" y=\"-7.8\" font-family=\"Helvetica,sans-Serif\" font-size=\"14.00\">class = 1</text>\r\n</g>\r\n<!-- 111&#45;&gt;113 -->\r\n<g id=\"edge113\" class=\"edge\">\r\n<title>111&#45;&gt;113</title>\r\n<path fill=\"none\" stroke=\"black\" d=\"M8387.33,-103.73C8401.36,-94.01 8416.29,-83.66 8430.19,-74.02\"/>\r\n<polygon fill=\"black\" stroke=\"black\" points=\"8432.48,-76.7 8438.7,-68.13 8428.49,-70.94 8432.48,-76.7\"/>\r\n</g>\r\n<!-- 115 -->\r\n<g id=\"node116\" class=\"node\">\r\n<title>115</title>\r\n<polygon fill=\"none\" stroke=\"black\" points=\"8777,-187 8596,-187 8596,-104 8777,-104 8777,-187\"/>\r\n<text text-anchor=\"middle\" x=\"8686.5\" y=\"-171.8\" font-family=\"Helvetica,sans-Serif\" font-size=\"14.00\">Annual_Income &lt;= &#45;1.325</text>\r\n<text text-anchor=\"middle\" x=\"8686.5\" y=\"-156.8\" font-family=\"Helvetica,sans-Serif\" font-size=\"14.00\">gini = 0.554</text>\r\n<text text-anchor=\"middle\" x=\"8686.5\" y=\"-141.8\" font-family=\"Helvetica,sans-Serif\" font-size=\"14.00\">samples = 28</text>\r\n<text text-anchor=\"middle\" x=\"8686.5\" y=\"-126.8\" font-family=\"Helvetica,sans-Serif\" font-size=\"14.00\">value = [17, 5, 6]</text>\r\n<text text-anchor=\"middle\" x=\"8686.5\" y=\"-111.8\" font-family=\"Helvetica,sans-Serif\" font-size=\"14.00\">class = 0</text>\r\n</g>\r\n<!-- 114&#45;&gt;115 -->\r\n<g id=\"edge115\" class=\"edge\">\r\n<title>114&#45;&gt;115</title>\r\n<path fill=\"none\" stroke=\"black\" d=\"M8686.5,-222.91C8686.5,-214.65 8686.5,-205.86 8686.5,-197.3\"/>\r\n<polygon fill=\"black\" stroke=\"black\" points=\"8690,-197.02 8686.5,-187.02 8683,-197.02 8690,-197.02\"/>\r\n</g>\r\n<!-- 118 -->\r\n<g id=\"node119\" class=\"node\">\r\n<title>118</title>\r\n<polygon fill=\"none\" stroke=\"black\" points=\"9027,-187 8848,-187 8848,-104 9027,-104 9027,-187\"/>\r\n<text text-anchor=\"middle\" x=\"8937.5\" y=\"-171.8\" font-family=\"Helvetica,sans-Serif\" font-size=\"14.00\">Interest_Rate &lt;= 1.495</text>\r\n<text text-anchor=\"middle\" x=\"8937.5\" y=\"-156.8\" font-family=\"Helvetica,sans-Serif\" font-size=\"14.00\">gini = 0.58</text>\r\n<text text-anchor=\"middle\" x=\"8937.5\" y=\"-141.8\" font-family=\"Helvetica,sans-Serif\" font-size=\"14.00\">samples = 3342</text>\r\n<text text-anchor=\"middle\" x=\"8937.5\" y=\"-126.8\" font-family=\"Helvetica,sans-Serif\" font-size=\"14.00\">value = [1361, 1653, 328]</text>\r\n<text text-anchor=\"middle\" x=\"8937.5\" y=\"-111.8\" font-family=\"Helvetica,sans-Serif\" font-size=\"14.00\">class = 1</text>\r\n</g>\r\n<!-- 114&#45;&gt;118 -->\r\n<g id=\"edge118\" class=\"edge\">\r\n<title>114&#45;&gt;118</title>\r\n<path fill=\"none\" stroke=\"black\" d=\"M8773.58,-222.91C8795.49,-212.7 8819.12,-201.68 8841.43,-191.28\"/>\r\n<polygon fill=\"black\" stroke=\"black\" points=\"8842.99,-194.42 8850.57,-187.02 8840.03,-188.07 8842.99,-194.42\"/>\r\n</g>\r\n<!-- 116 -->\r\n<g id=\"node117\" class=\"node\">\r\n<title>116</title>\r\n<polygon fill=\"none\" stroke=\"black\" points=\"8691,-68 8578,-68 8578,0 8691,0 8691,-68\"/>\r\n<text text-anchor=\"middle\" x=\"8634.5\" y=\"-52.8\" font-family=\"Helvetica,sans-Serif\" font-size=\"14.00\">gini = 0.642</text>\r\n<text text-anchor=\"middle\" x=\"8634.5\" y=\"-37.8\" font-family=\"Helvetica,sans-Serif\" font-size=\"14.00\">samples = 9</text>\r\n<text text-anchor=\"middle\" x=\"8634.5\" y=\"-22.8\" font-family=\"Helvetica,sans-Serif\" font-size=\"14.00\">value = [2, 3, 4]</text>\r\n<text text-anchor=\"middle\" x=\"8634.5\" y=\"-7.8\" font-family=\"Helvetica,sans-Serif\" font-size=\"14.00\">class = 2</text>\r\n</g>\r\n<!-- 115&#45;&gt;116 -->\r\n<g id=\"edge116\" class=\"edge\">\r\n<title>115&#45;&gt;116</title>\r\n<path fill=\"none\" stroke=\"black\" d=\"M8667.14,-103.73C8663.07,-95.15 8658.76,-86.09 8654.66,-77.46\"/>\r\n<polygon fill=\"black\" stroke=\"black\" points=\"8657.76,-75.83 8650.31,-68.3 8651.44,-78.83 8657.76,-75.83\"/>\r\n</g>\r\n<!-- 117 -->\r\n<g id=\"node118\" class=\"node\">\r\n<title>117</title>\r\n<polygon fill=\"none\" stroke=\"black\" points=\"8830,-68 8709,-68 8709,0 8830,0 8830,-68\"/>\r\n<text text-anchor=\"middle\" x=\"8769.5\" y=\"-52.8\" font-family=\"Helvetica,sans-Serif\" font-size=\"14.00\">gini = 0.355</text>\r\n<text text-anchor=\"middle\" x=\"8769.5\" y=\"-37.8\" font-family=\"Helvetica,sans-Serif\" font-size=\"14.00\">samples = 19</text>\r\n<text text-anchor=\"middle\" x=\"8769.5\" y=\"-22.8\" font-family=\"Helvetica,sans-Serif\" font-size=\"14.00\">value = [15, 2, 2]</text>\r\n<text text-anchor=\"middle\" x=\"8769.5\" y=\"-7.8\" font-family=\"Helvetica,sans-Serif\" font-size=\"14.00\">class = 0</text>\r\n</g>\r\n<!-- 115&#45;&gt;117 -->\r\n<g id=\"edge117\" class=\"edge\">\r\n<title>115&#45;&gt;117</title>\r\n<path fill=\"none\" stroke=\"black\" d=\"M8717.41,-103.73C8724.18,-94.79 8731.36,-85.32 8738.15,-76.36\"/>\r\n<polygon fill=\"black\" stroke=\"black\" points=\"8741.01,-78.38 8744.26,-68.3 8735.43,-74.15 8741.01,-78.38\"/>\r\n</g>\r\n<!-- 119 -->\r\n<g id=\"node120\" class=\"node\">\r\n<title>119</title>\r\n<polygon fill=\"none\" stroke=\"black\" points=\"9027,-68 8848,-68 8848,0 9027,0 9027,-68\"/>\r\n<text text-anchor=\"middle\" x=\"8937.5\" y=\"-52.8\" font-family=\"Helvetica,sans-Serif\" font-size=\"14.00\">gini = 0.583</text>\r\n<text text-anchor=\"middle\" x=\"8937.5\" y=\"-37.8\" font-family=\"Helvetica,sans-Serif\" font-size=\"14.00\">samples = 2944</text>\r\n<text text-anchor=\"middle\" x=\"8937.5\" y=\"-22.8\" font-family=\"Helvetica,sans-Serif\" font-size=\"14.00\">value = [1219, 1427, 298]</text>\r\n<text text-anchor=\"middle\" x=\"8937.5\" y=\"-7.8\" font-family=\"Helvetica,sans-Serif\" font-size=\"14.00\">class = 1</text>\r\n</g>\r\n<!-- 118&#45;&gt;119 -->\r\n<g id=\"edge119\" class=\"edge\">\r\n<title>118&#45;&gt;119</title>\r\n<path fill=\"none\" stroke=\"black\" d=\"M8937.5,-103.73C8937.5,-95.52 8937.5,-86.86 8937.5,-78.56\"/>\r\n<polygon fill=\"black\" stroke=\"black\" points=\"8941,-78.3 8937.5,-68.3 8934,-78.3 8941,-78.3\"/>\r\n</g>\r\n<!-- 120 -->\r\n<g id=\"node121\" class=\"node\">\r\n<title>120</title>\r\n<polygon fill=\"none\" stroke=\"black\" points=\"9199.5,-68 9045.5,-68 9045.5,0 9199.5,0 9199.5,-68\"/>\r\n<text text-anchor=\"middle\" x=\"9122.5\" y=\"-52.8\" font-family=\"Helvetica,sans-Serif\" font-size=\"14.00\">gini = 0.545</text>\r\n<text text-anchor=\"middle\" x=\"9122.5\" y=\"-37.8\" font-family=\"Helvetica,sans-Serif\" font-size=\"14.00\">samples = 398</text>\r\n<text text-anchor=\"middle\" x=\"9122.5\" y=\"-22.8\" font-family=\"Helvetica,sans-Serif\" font-size=\"14.00\">value = [142, 226, 30]</text>\r\n<text text-anchor=\"middle\" x=\"9122.5\" y=\"-7.8\" font-family=\"Helvetica,sans-Serif\" font-size=\"14.00\">class = 1</text>\r\n</g>\r\n<!-- 118&#45;&gt;120 -->\r\n<g id=\"edge120\" class=\"edge\">\r\n<title>118&#45;&gt;120</title>\r\n<path fill=\"none\" stroke=\"black\" d=\"M9006.12,-103.88C9023.11,-93.83 9041.25,-83.09 9058.03,-73.16\"/>\r\n<polygon fill=\"black\" stroke=\"black\" points=\"9059.85,-76.15 9066.67,-68.04 9056.29,-70.12 9059.85,-76.15\"/>\r\n</g>\r\n</g>\r\n</svg>\r\n",
      "text/plain": [
       "<graphviz.files.Source at 0x1b0ee7dee48>"
      ]
     },
     "execution_count": 14,
     "metadata": {},
     "output_type": "execute_result"
    }
   ],
   "source": [
    "feature_names = record.columns.delete(2)\n",
    "class_names = [\"0\",\"1\",\"2\"]\n",
    "plot_tree(model,feature_names,class_names)"
   ]
  },
  {
   "cell_type": "markdown",
   "metadata": {},
   "source": [
    "**Accuracy, precision and recall**"
   ]
  },
  {
   "cell_type": "code",
   "execution_count": 15,
   "metadata": {},
   "outputs": [
    {
     "name": "stdout",
     "output_type": "stream",
     "text": [
      "Accuracy(train) of model is 58.79345603271984%\n",
      "Accuracy(test) of model is 59.959866562711696%\n"
     ]
    }
   ],
   "source": [
    "from sklearn.metrics import accuracy_score,confusion_matrix\n",
    "\n",
    "print(\"Accuracy(train) of model is {}%\".format(accuracy_score(y_test,yp_test) * 100))\n",
    "print(\"Accuracy(test) of model is {}%\".format(accuracy_score(y_train,yp_train) * 100))"
   ]
  },
  {
   "cell_type": "code",
   "execution_count": 16,
   "metadata": {},
   "outputs": [
    {
     "name": "stdout",
     "output_type": "stream",
     "text": [
      "------TRAIN------\n",
      "              precision    recall  f1-score   support\n",
      "\n",
      "           0       0.61      0.40      0.48     22635\n",
      "           1       0.66      0.67      0.67     41640\n",
      "           2       0.47      0.72      0.57     13964\n",
      "\n",
      "    accuracy                           0.60     78239\n",
      "   macro avg       0.58      0.60      0.57     78239\n",
      "weighted avg       0.61      0.60      0.60     78239\n",
      "\n",
      "------TEST------\n",
      "              precision    recall  f1-score   support\n",
      "\n",
      "           0       0.59      0.38      0.46      5693\n",
      "           1       0.65      0.66      0.66     10380\n",
      "           2       0.46      0.71      0.55      3487\n",
      "\n",
      "    accuracy                           0.59     19560\n",
      "   macro avg       0.57      0.58      0.56     19560\n",
      "weighted avg       0.60      0.59      0.58     19560\n",
      "\n"
     ]
    }
   ],
   "source": [
    "from sklearn.metrics import classification_report\n",
    "# train\n",
    "print(\"------TRAIN------\")\n",
    "print(classification_report(y_train,yp_train))\n",
    "# test\n",
    "print(\"------TEST------\")\n",
    "print(classification_report(y_test,yp_test))"
   ]
  },
  {
   "cell_type": "markdown",
   "metadata": {},
   "source": [
    "## Feature Selection\n",
    "\n",
    "In this part, I used SelctFromModel() function to complete feature selection. Linear models penalized with the L1 norm have sparse solutions: many of their estimated coefficients are zero. When the goal is to reduce the dimensionality of the data to use with another classifier, they can be used along with SelectFromModel to select the non-zero coefficients. In particular, sparse estimators useful for this purpose are the Lasso for regression, and of LogisticRegression and LinearSVC for classification:"
   ]
  },
  {
   "cell_type": "code",
   "execution_count": 21,
   "metadata": {},
   "outputs": [
    {
     "data": {
      "text/plain": [
       "(97799, 39)"
      ]
     },
     "execution_count": 21,
     "metadata": {},
     "output_type": "execute_result"
    }
   ],
   "source": [
    "X.shape"
   ]
  },
  {
   "cell_type": "code",
   "execution_count": 17,
   "metadata": {},
   "outputs": [
    {
     "data": {
      "text/plain": [
       "(97799, 2)"
      ]
     },
     "execution_count": 17,
     "metadata": {},
     "output_type": "execute_result"
    }
   ],
   "source": [
    "from sklearn.feature_selection import SelectFromModel\n",
    "from sklearn.svm import LinearSVC\n",
    "#lsvc = LinearSVC(C=0.01, penalty=\"l1\", dual=False).fit(X, y)\n",
    "selectmodel = SelectFromModel(model, prefit=True)\n",
    "X_new = selectmodel.transform(X)\n",
    "X_new.shape"
   ]
  },
  {
   "cell_type": "markdown",
   "metadata": {},
   "source": [
    "## Model Tuning"
   ]
  },
  {
   "cell_type": "markdown",
   "metadata": {},
   "source": [
    "**Here I used GridSearchCV() function to complete model tuning**\n",
    "\n",
    "The parameters to be tuned are max_depth, min_samples_leaf and criterion."
   ]
  },
  {
   "cell_type": "code",
   "execution_count": 25,
   "metadata": {},
   "outputs": [],
   "source": [
    "from sklearn.model_selection import GridSearchCV\n",
    "# Create the parameter grid based on the results of random search \n",
    "params = {\n",
    "    'max_depth': [2, 3, 5, 10, 20],\n",
    "    'min_samples_leaf': [5, 10, 20, 50, 100],\n",
    "    'criterion': [\"gini\", \"entropy\"]\n",
    "}\n",
    "grid_search = GridSearchCV(estimator=model, \n",
    "                           param_grid=params, \n",
    "                           cv=4, n_jobs=-1, verbose=1, scoring = \"accuracy\")"
   ]
  },
  {
   "cell_type": "code",
   "execution_count": 26,
   "metadata": {},
   "outputs": [
    {
     "name": "stdout",
     "output_type": "stream",
     "text": [
      "Fitting 4 folds for each of 50 candidates, totalling 200 fits\n"
     ]
    },
    {
     "data": {
      "text/plain": [
       "GridSearchCV(cv=4, estimator=DecisionTreeClassifier(max_depth=6), n_jobs=-1,\n",
       "             param_grid={'criterion': ['gini', 'entropy'],\n",
       "                         'max_depth': [2, 3, 5, 10, 20],\n",
       "                         'min_samples_leaf': [5, 10, 20, 50, 100]},\n",
       "             scoring='accuracy', verbose=1)"
      ]
     },
     "execution_count": 26,
     "metadata": {},
     "output_type": "execute_result"
    }
   ],
   "source": [
    "grid_search.fit(X_train, y_train)"
   ]
  },
  {
   "cell_type": "code",
   "execution_count": 27,
   "metadata": {},
   "outputs": [
    {
     "data": {
      "text/plain": [
       "DecisionTreeClassifier(max_depth=2, min_samples_leaf=5)"
      ]
     },
     "execution_count": 27,
     "metadata": {},
     "output_type": "execute_result"
    }
   ],
   "source": [
    "grid_search.best_estimator_"
   ]
  },
  {
   "cell_type": "code",
   "execution_count": 28,
   "metadata": {},
   "outputs": [],
   "source": [
    "def evaluate_model(dt_classifier):\n",
    "    print(\"Train Accuracy :\", accuracy_score(y_train, dt_classifier.predict(X_train)))\n",
    "    print(\"Train Confusion Matrix:\")\n",
    "    print(confusion_matrix(y_train, dt_classifier.predict(X_train)))\n",
    "    print(\"-\"*50)\n",
    "    print(\"Test Accuracy :\", accuracy_score(y_test, dt_classifier.predict(X_test)))\n",
    "    print(\"Test Confusion Matrix:\")\n",
    "    print(confusion_matrix(y_test, dt_classifier.predict(X_test)))"
   ]
  },
  {
   "cell_type": "markdown",
   "metadata": {},
   "source": [
    "Fit the best model and evaluate the results."
   ]
  },
  {
   "cell_type": "code",
   "execution_count": 29,
   "metadata": {},
   "outputs": [
    {
     "name": "stdout",
     "output_type": "stream",
     "text": [
      "Train Accuracy : 0.5960454504786615\n",
      "Train Confusion Matrix:\n",
      "[[ 8988 10295  3352]\n",
      " [ 5735 27311  8594]\n",
      " [  221  3408 10335]]\n",
      "--------------------------------------------------\n",
      "Test Accuracy : 0.587678936605317\n",
      "Test Confusion Matrix:\n",
      "[[2151 2656  886]\n",
      " [1404 6782 2194]\n",
      " [  63  862 2562]]\n"
     ]
    }
   ],
   "source": [
    "dt_best = grid_search.best_estimator_\n",
    "evaluate_model(dt_best)"
   ]
  },
  {
   "cell_type": "markdown",
   "metadata": {},
   "source": [
    "Plot the best tree."
   ]
  },
  {
   "cell_type": "code",
   "execution_count": 30,
   "metadata": {},
   "outputs": [
    {
     "data": {
      "image/svg+xml": "<?xml version=\"1.0\" encoding=\"UTF-8\" standalone=\"no\"?>\r\n<!DOCTYPE svg PUBLIC \"-//W3C//DTD SVG 1.1//EN\"\r\n \"http://www.w3.org/Graphics/SVG/1.1/DTD/svg11.dtd\">\r\n<!-- Generated by graphviz version 2.44.1 (20200629.0846)\r\n -->\r\n<!-- Title: Tree Pages: 1 -->\r\n<svg width=\"810pt\" height=\"314pt\"\r\n viewBox=\"0.00 0.00 809.50 314.00\" xmlns=\"http://www.w3.org/2000/svg\" xmlns:xlink=\"http://www.w3.org/1999/xlink\">\r\n<g id=\"graph0\" class=\"graph\" transform=\"scale(1 1) rotate(0) translate(4 310)\">\r\n<title>Tree</title>\r\n<polygon fill=\"white\" stroke=\"transparent\" points=\"-4,4 -4,-310 805.5,-310 805.5,4 -4,4\"/>\r\n<!-- 0 -->\r\n<g id=\"node1\" class=\"node\">\r\n<title>0</title>\r\n<polygon fill=\"none\" stroke=\"black\" points=\"514.5,-306 269.5,-306 269.5,-223 514.5,-223 514.5,-306\"/>\r\n<text text-anchor=\"middle\" x=\"392\" y=\"-290.8\" font-family=\"Helvetica,sans-Serif\" font-size=\"14.00\">Payment_of_Min_Amount &lt;= &#45;0.299</text>\r\n<text text-anchor=\"middle\" x=\"392\" y=\"-275.8\" font-family=\"Helvetica,sans-Serif\" font-size=\"14.00\">gini = 0.601</text>\r\n<text text-anchor=\"middle\" x=\"392\" y=\"-260.8\" font-family=\"Helvetica,sans-Serif\" font-size=\"14.00\">samples = 78239</text>\r\n<text text-anchor=\"middle\" x=\"392\" y=\"-245.8\" font-family=\"Helvetica,sans-Serif\" font-size=\"14.00\">value = [22635, 41640, 13964]</text>\r\n<text text-anchor=\"middle\" x=\"392\" y=\"-230.8\" font-family=\"Helvetica,sans-Serif\" font-size=\"14.00\">class = 1</text>\r\n</g>\r\n<!-- 1 -->\r\n<g id=\"node2\" class=\"node\">\r\n<title>1</title>\r\n<polygon fill=\"none\" stroke=\"black\" points=\"383.5,-187 180.5,-187 180.5,-104 383.5,-104 383.5,-187\"/>\r\n<text text-anchor=\"middle\" x=\"282\" y=\"-171.8\" font-family=\"Helvetica,sans-Serif\" font-size=\"14.00\">Credit_Mix &lt;= 0.324</text>\r\n<text text-anchor=\"middle\" x=\"282\" y=\"-156.8\" font-family=\"Helvetica,sans-Serif\" font-size=\"14.00\">gini = 0.601</text>\r\n<text text-anchor=\"middle\" x=\"282\" y=\"-141.8\" font-family=\"Helvetica,sans-Serif\" font-size=\"14.00\">samples = 27896</text>\r\n<text text-anchor=\"middle\" x=\"282\" y=\"-126.8\" font-family=\"Helvetica,sans-Serif\" font-size=\"14.00\">value = [3699, 13459, 10738]</text>\r\n<text text-anchor=\"middle\" x=\"282\" y=\"-111.8\" font-family=\"Helvetica,sans-Serif\" font-size=\"14.00\">class = 1</text>\r\n</g>\r\n<!-- 0&#45;&gt;1 -->\r\n<g id=\"edge1\" class=\"edge\">\r\n<title>0&#45;&gt;1</title>\r\n<path fill=\"none\" stroke=\"black\" d=\"M353.84,-222.91C345.22,-213.74 335.99,-203.93 327.12,-194.49\"/>\r\n<polygon fill=\"black\" stroke=\"black\" points=\"329.5,-191.91 320.1,-187.02 324.4,-196.7 329.5,-191.91\"/>\r\n<text text-anchor=\"middle\" x=\"319.33\" y=\"-208.31\" font-family=\"Helvetica,sans-Serif\" font-size=\"14.00\">True</text>\r\n</g>\r\n<!-- 4 -->\r\n<g id=\"node5\" class=\"node\">\r\n<title>4</title>\r\n<polygon fill=\"none\" stroke=\"black\" points=\"604.5,-187 401.5,-187 401.5,-104 604.5,-104 604.5,-187\"/>\r\n<text text-anchor=\"middle\" x=\"503\" y=\"-171.8\" font-family=\"Helvetica,sans-Serif\" font-size=\"14.00\">Credit_Mix &lt;= &#45;1.001</text>\r\n<text text-anchor=\"middle\" x=\"503\" y=\"-156.8\" font-family=\"Helvetica,sans-Serif\" font-size=\"14.00\">gini = 0.541</text>\r\n<text text-anchor=\"middle\" x=\"503\" y=\"-141.8\" font-family=\"Helvetica,sans-Serif\" font-size=\"14.00\">samples = 50343</text>\r\n<text text-anchor=\"middle\" x=\"503\" y=\"-126.8\" font-family=\"Helvetica,sans-Serif\" font-size=\"14.00\">value = [18936, 28181, 3226]</text>\r\n<text text-anchor=\"middle\" x=\"503\" y=\"-111.8\" font-family=\"Helvetica,sans-Serif\" font-size=\"14.00\">class = 1</text>\r\n</g>\r\n<!-- 0&#45;&gt;4 -->\r\n<g id=\"edge4\" class=\"edge\">\r\n<title>0&#45;&gt;4</title>\r\n<path fill=\"none\" stroke=\"black\" d=\"M430.51,-222.91C439.21,-213.74 448.52,-203.93 457.47,-194.49\"/>\r\n<polygon fill=\"black\" stroke=\"black\" points=\"460.21,-196.68 464.56,-187.02 455.14,-191.87 460.21,-196.68\"/>\r\n<text text-anchor=\"middle\" x=\"465.21\" y=\"-208.31\" font-family=\"Helvetica,sans-Serif\" font-size=\"14.00\">False</text>\r\n</g>\r\n<!-- 2 -->\r\n<g id=\"node3\" class=\"node\">\r\n<title>2</title>\r\n<polygon fill=\"none\" stroke=\"black\" points=\"170,-68 0,-68 0,0 170,0 170,-68\"/>\r\n<text text-anchor=\"middle\" x=\"85\" y=\"-52.8\" font-family=\"Helvetica,sans-Serif\" font-size=\"14.00\">gini = 0.24</text>\r\n<text text-anchor=\"middle\" x=\"85\" y=\"-37.8\" font-family=\"Helvetica,sans-Serif\" font-size=\"14.00\">samples = 5615</text>\r\n<text text-anchor=\"middle\" x=\"85\" y=\"-22.8\" font-family=\"Helvetica,sans-Serif\" font-size=\"14.00\">value = [347, 4865, 403]</text>\r\n<text text-anchor=\"middle\" x=\"85\" y=\"-7.8\" font-family=\"Helvetica,sans-Serif\" font-size=\"14.00\">class = 1</text>\r\n</g>\r\n<!-- 1&#45;&gt;2 -->\r\n<g id=\"edge2\" class=\"edge\">\r\n<title>1&#45;&gt;2</title>\r\n<path fill=\"none\" stroke=\"black\" d=\"M208.92,-103.88C190.83,-93.83 171.52,-83.09 153.65,-73.16\"/>\r\n<polygon fill=\"black\" stroke=\"black\" points=\"154.89,-69.84 144.45,-68.04 151.49,-75.96 154.89,-69.84\"/>\r\n</g>\r\n<!-- 3 -->\r\n<g id=\"node4\" class=\"node\">\r\n<title>3</title>\r\n<polygon fill=\"none\" stroke=\"black\" points=\"383.5,-68 188.5,-68 188.5,0 383.5,0 383.5,-68\"/>\r\n<text text-anchor=\"middle\" x=\"286\" y=\"-52.8\" font-family=\"Helvetica,sans-Serif\" font-size=\"14.00\">gini = 0.613</text>\r\n<text text-anchor=\"middle\" x=\"286\" y=\"-37.8\" font-family=\"Helvetica,sans-Serif\" font-size=\"14.00\">samples = 22281</text>\r\n<text text-anchor=\"middle\" x=\"286\" y=\"-22.8\" font-family=\"Helvetica,sans-Serif\" font-size=\"14.00\">value = [3352, 8594, 10335]</text>\r\n<text text-anchor=\"middle\" x=\"286\" y=\"-7.8\" font-family=\"Helvetica,sans-Serif\" font-size=\"14.00\">class = 2</text>\r\n</g>\r\n<!-- 1&#45;&gt;3 -->\r\n<g id=\"edge3\" class=\"edge\">\r\n<title>1&#45;&gt;3</title>\r\n<path fill=\"none\" stroke=\"black\" d=\"M283.49,-103.73C283.79,-95.52 284.11,-86.86 284.41,-78.56\"/>\r\n<polygon fill=\"black\" stroke=\"black\" points=\"287.92,-78.42 284.78,-68.3 280.92,-78.17 287.92,-78.42\"/>\r\n</g>\r\n<!-- 5 -->\r\n<g id=\"node6\" class=\"node\">\r\n<title>5</title>\r\n<polygon fill=\"none\" stroke=\"black\" points=\"588.5,-68 409.5,-68 409.5,0 588.5,0 588.5,-68\"/>\r\n<text text-anchor=\"middle\" x=\"499\" y=\"-52.8\" font-family=\"Helvetica,sans-Serif\" font-size=\"14.00\">gini = 0.491</text>\r\n<text text-anchor=\"middle\" x=\"499\" y=\"-37.8\" font-family=\"Helvetica,sans-Serif\" font-size=\"14.00\">samples = 14944</text>\r\n<text text-anchor=\"middle\" x=\"499\" y=\"-22.8\" font-family=\"Helvetica,sans-Serif\" font-size=\"14.00\">value = [8988, 5735, 221]</text>\r\n<text text-anchor=\"middle\" x=\"499\" y=\"-7.8\" font-family=\"Helvetica,sans-Serif\" font-size=\"14.00\">class = 0</text>\r\n</g>\r\n<!-- 4&#45;&gt;5 -->\r\n<g id=\"edge5\" class=\"edge\">\r\n<title>4&#45;&gt;5</title>\r\n<path fill=\"none\" stroke=\"black\" d=\"M501.51,-103.73C501.21,-95.52 500.89,-86.86 500.59,-78.56\"/>\r\n<polygon fill=\"black\" stroke=\"black\" points=\"504.08,-78.17 500.22,-68.3 497.08,-78.42 504.08,-78.17\"/>\r\n</g>\r\n<!-- 6 -->\r\n<g id=\"node7\" class=\"node\">\r\n<title>6</title>\r\n<polygon fill=\"none\" stroke=\"black\" points=\"801.5,-68 606.5,-68 606.5,0 801.5,0 801.5,-68\"/>\r\n<text text-anchor=\"middle\" x=\"704\" y=\"-52.8\" font-family=\"Helvetica,sans-Serif\" font-size=\"14.00\">gini = 0.512</text>\r\n<text text-anchor=\"middle\" x=\"704\" y=\"-37.8\" font-family=\"Helvetica,sans-Serif\" font-size=\"14.00\">samples = 35399</text>\r\n<text text-anchor=\"middle\" x=\"704\" y=\"-22.8\" font-family=\"Helvetica,sans-Serif\" font-size=\"14.00\">value = [9948, 22446, 3005]</text>\r\n<text text-anchor=\"middle\" x=\"704\" y=\"-7.8\" font-family=\"Helvetica,sans-Serif\" font-size=\"14.00\">class = 1</text>\r\n</g>\r\n<!-- 4&#45;&gt;6 -->\r\n<g id=\"edge6\" class=\"edge\">\r\n<title>4&#45;&gt;6</title>\r\n<path fill=\"none\" stroke=\"black\" d=\"M577.56,-103.88C596.19,-93.73 616.09,-82.89 634.46,-72.88\"/>\r\n<polygon fill=\"black\" stroke=\"black\" points=\"636.24,-75.9 643.35,-68.04 632.89,-69.75 636.24,-75.9\"/>\r\n</g>\r\n</g>\r\n</svg>\r\n",
      "text/plain": [
       "<graphviz.files.Source at 0x1b0eef635c8>"
      ]
     },
     "execution_count": 30,
     "metadata": {},
     "output_type": "execute_result"
    }
   ],
   "source": [
    "plot_tree(dt_best,feature_names,class_names)"
   ]
  },
  {
   "cell_type": "markdown",
   "metadata": {},
   "source": [
    "## Results\n",
    "\n",
    "For data preprocessing, I standardized the data set. For the decision tree model, first I randomly chose the parameter `max_depth=6` and use all the other parameters as default. The result of the baseline model turns out that the performance is not good. The original accuracy score is only about 0.59 which means only 59% of the data were correctly classified. And we could see the tree plot that the original tree was very complex and there were many nodes. So I didn't think it is a good model.\n",
    "\n",
    "So in order to improve the model performance, I did feature selection and model tuning. In the final result, the best model was given through GridSearch function: `max_depth=2` and `min_samples_leaf=5`. Finally I plot the decision tree and it looked better. But the model accuracy has not changed a lot."
   ]
  },
  {
   "cell_type": "markdown",
   "metadata": {},
   "source": [
    "## Conlusions\n",
    "\n",
    "Here I summarized some pros and cons of the decision tree classifier.\n",
    "\n",
    "* Pros\n",
    "    * Decision trees are easy to interpret and visualize.\n",
    "    * It can easily capture Non-linear patterns.\n",
    "    * It requires fewer data preprocessing from the user, for example, there is no need to normalize columns.\n",
    "    * It can be used for feature engineering such as predicting missing values, suitable for variable selection.\n",
    "    * The decision tree has no assumptions about distribution because of the non-parametric nature of the algorithm. (Source)\n",
    "* Cons\n",
    "    * Sensitive to noisy data. It can overfit noisy data.\n",
    "    * The small variation(or variance) in data can result in the different decision tree. This can be reduced by bagging and boosting algorithms.\n",
    "    * Decision trees are biased with imbalance dataset, so it is recommended that balance out the dataset before creating the decision tree.\n",
    "\n"
   ]
  },
  {
   "cell_type": "markdown",
   "metadata": {},
   "source": [
    "## References\n",
    "\n",
    "https://www.datacamp.com/tutorial/decision-tree-classification-python\n",
    "\n",
    "https://why-change.com/2021/11/13/how-to-create-decision-trees-for-business-rules-analysis/"
   ]
  }
 ],
 "metadata": {
  "kernelspec": {
   "display_name": "Python 3.9.13 ('base')",
   "language": "python",
   "name": "python3"
  },
  "language_info": {
   "codemirror_mode": {
    "name": "ipython",
    "version": 3
   },
   "file_extension": ".py",
   "mimetype": "text/x-python",
   "name": "python",
   "nbconvert_exporter": "python",
   "pygments_lexer": "ipython3",
   "version": "3.9.13"
  },
  "orig_nbformat": 4,
  "vscode": {
   "interpreter": {
    "hash": "ea9e6ec6f651e5b30d7d4369ed6782eecec2c81ec262641f90eec8e5c5f812f3"
   }
  }
 },
 "nbformat": 4,
 "nbformat_minor": 2
}
